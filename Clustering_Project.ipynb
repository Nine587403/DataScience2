{
  "nbformat": 4,
  "nbformat_minor": 0,
  "metadata": {
    "colab": {
      "name": "Clustering Project.ipynb",
      "provenance": [],
      "collapsed_sections": []
    },
    "kernelspec": {
      "name": "python3",
      "display_name": "Python 3"
    }
  },
  "cells": [
    {
      "cell_type": "code",
      "metadata": {
        "id": "h17G84KN2I-u"
      },
      "source": [
        "import pandas as pd\r\n",
        "import numpy as np\r\n",
        "import matplotlib.pyplot as plt\r\n",
        "import seaborn as sns\r\n",
        "%matplotlib inline"
      ],
      "execution_count": 1,
      "outputs": []
    },
    {
      "cell_type": "code",
      "metadata": {
        "colab": {
          "base_uri": "https://localhost:8080/",
          "height": 695
        },
        "id": "Ua8EKoZd3FiV",
        "outputId": "2a8bf411-55a1-4190-d041-7556bc8bb223"
      },
      "source": [
        "df = pd.read_csv('https://github.com/Nine587403/DataScience2/blob/main/College.csv?raw=true')\r\n",
        "df"
      ],
      "execution_count": 2,
      "outputs": [
        {
          "output_type": "execute_result",
          "data": {
            "text/html": [
              "<div>\n",
              "<style scoped>\n",
              "    .dataframe tbody tr th:only-of-type {\n",
              "        vertical-align: middle;\n",
              "    }\n",
              "\n",
              "    .dataframe tbody tr th {\n",
              "        vertical-align: top;\n",
              "    }\n",
              "\n",
              "    .dataframe thead th {\n",
              "        text-align: right;\n",
              "    }\n",
              "</style>\n",
              "<table border=\"1\" class=\"dataframe\">\n",
              "  <thead>\n",
              "    <tr style=\"text-align: right;\">\n",
              "      <th></th>\n",
              "      <th>Unnamed: 0</th>\n",
              "      <th>Private</th>\n",
              "      <th>Apps</th>\n",
              "      <th>Accept</th>\n",
              "      <th>Enroll</th>\n",
              "      <th>Top10perc</th>\n",
              "      <th>Top25perc</th>\n",
              "      <th>F.Undergrad</th>\n",
              "      <th>P.Undergrad</th>\n",
              "      <th>Outstate</th>\n",
              "      <th>Room.Board</th>\n",
              "      <th>Books</th>\n",
              "      <th>Personal</th>\n",
              "      <th>PhD</th>\n",
              "      <th>Terminal</th>\n",
              "      <th>S.F.Ratio</th>\n",
              "      <th>perc.alumni</th>\n",
              "      <th>Expend</th>\n",
              "      <th>Grad.Rate</th>\n",
              "    </tr>\n",
              "  </thead>\n",
              "  <tbody>\n",
              "    <tr>\n",
              "      <th>0</th>\n",
              "      <td>Abilene Christian University</td>\n",
              "      <td>Yes</td>\n",
              "      <td>1660</td>\n",
              "      <td>1232</td>\n",
              "      <td>721</td>\n",
              "      <td>23</td>\n",
              "      <td>52</td>\n",
              "      <td>2885</td>\n",
              "      <td>537</td>\n",
              "      <td>7440</td>\n",
              "      <td>3300</td>\n",
              "      <td>450</td>\n",
              "      <td>2200</td>\n",
              "      <td>70</td>\n",
              "      <td>78</td>\n",
              "      <td>18.1</td>\n",
              "      <td>12</td>\n",
              "      <td>7041</td>\n",
              "      <td>60</td>\n",
              "    </tr>\n",
              "    <tr>\n",
              "      <th>1</th>\n",
              "      <td>Adelphi University</td>\n",
              "      <td>Yes</td>\n",
              "      <td>2186</td>\n",
              "      <td>1924</td>\n",
              "      <td>512</td>\n",
              "      <td>16</td>\n",
              "      <td>29</td>\n",
              "      <td>2683</td>\n",
              "      <td>1227</td>\n",
              "      <td>12280</td>\n",
              "      <td>6450</td>\n",
              "      <td>750</td>\n",
              "      <td>1500</td>\n",
              "      <td>29</td>\n",
              "      <td>30</td>\n",
              "      <td>12.2</td>\n",
              "      <td>16</td>\n",
              "      <td>10527</td>\n",
              "      <td>56</td>\n",
              "    </tr>\n",
              "    <tr>\n",
              "      <th>2</th>\n",
              "      <td>Adrian College</td>\n",
              "      <td>Yes</td>\n",
              "      <td>1428</td>\n",
              "      <td>1097</td>\n",
              "      <td>336</td>\n",
              "      <td>22</td>\n",
              "      <td>50</td>\n",
              "      <td>1036</td>\n",
              "      <td>99</td>\n",
              "      <td>11250</td>\n",
              "      <td>3750</td>\n",
              "      <td>400</td>\n",
              "      <td>1165</td>\n",
              "      <td>53</td>\n",
              "      <td>66</td>\n",
              "      <td>12.9</td>\n",
              "      <td>30</td>\n",
              "      <td>8735</td>\n",
              "      <td>54</td>\n",
              "    </tr>\n",
              "    <tr>\n",
              "      <th>3</th>\n",
              "      <td>Agnes Scott College</td>\n",
              "      <td>Yes</td>\n",
              "      <td>417</td>\n",
              "      <td>349</td>\n",
              "      <td>137</td>\n",
              "      <td>60</td>\n",
              "      <td>89</td>\n",
              "      <td>510</td>\n",
              "      <td>63</td>\n",
              "      <td>12960</td>\n",
              "      <td>5450</td>\n",
              "      <td>450</td>\n",
              "      <td>875</td>\n",
              "      <td>92</td>\n",
              "      <td>97</td>\n",
              "      <td>7.7</td>\n",
              "      <td>37</td>\n",
              "      <td>19016</td>\n",
              "      <td>59</td>\n",
              "    </tr>\n",
              "    <tr>\n",
              "      <th>4</th>\n",
              "      <td>Alaska Pacific University</td>\n",
              "      <td>Yes</td>\n",
              "      <td>193</td>\n",
              "      <td>146</td>\n",
              "      <td>55</td>\n",
              "      <td>16</td>\n",
              "      <td>44</td>\n",
              "      <td>249</td>\n",
              "      <td>869</td>\n",
              "      <td>7560</td>\n",
              "      <td>4120</td>\n",
              "      <td>800</td>\n",
              "      <td>1500</td>\n",
              "      <td>76</td>\n",
              "      <td>72</td>\n",
              "      <td>11.9</td>\n",
              "      <td>2</td>\n",
              "      <td>10922</td>\n",
              "      <td>15</td>\n",
              "    </tr>\n",
              "    <tr>\n",
              "      <th>...</th>\n",
              "      <td>...</td>\n",
              "      <td>...</td>\n",
              "      <td>...</td>\n",
              "      <td>...</td>\n",
              "      <td>...</td>\n",
              "      <td>...</td>\n",
              "      <td>...</td>\n",
              "      <td>...</td>\n",
              "      <td>...</td>\n",
              "      <td>...</td>\n",
              "      <td>...</td>\n",
              "      <td>...</td>\n",
              "      <td>...</td>\n",
              "      <td>...</td>\n",
              "      <td>...</td>\n",
              "      <td>...</td>\n",
              "      <td>...</td>\n",
              "      <td>...</td>\n",
              "      <td>...</td>\n",
              "    </tr>\n",
              "    <tr>\n",
              "      <th>772</th>\n",
              "      <td>Worcester State College</td>\n",
              "      <td>No</td>\n",
              "      <td>2197</td>\n",
              "      <td>1515</td>\n",
              "      <td>543</td>\n",
              "      <td>4</td>\n",
              "      <td>26</td>\n",
              "      <td>3089</td>\n",
              "      <td>2029</td>\n",
              "      <td>6797</td>\n",
              "      <td>3900</td>\n",
              "      <td>500</td>\n",
              "      <td>1200</td>\n",
              "      <td>60</td>\n",
              "      <td>60</td>\n",
              "      <td>21.0</td>\n",
              "      <td>14</td>\n",
              "      <td>4469</td>\n",
              "      <td>40</td>\n",
              "    </tr>\n",
              "    <tr>\n",
              "      <th>773</th>\n",
              "      <td>Xavier University</td>\n",
              "      <td>Yes</td>\n",
              "      <td>1959</td>\n",
              "      <td>1805</td>\n",
              "      <td>695</td>\n",
              "      <td>24</td>\n",
              "      <td>47</td>\n",
              "      <td>2849</td>\n",
              "      <td>1107</td>\n",
              "      <td>11520</td>\n",
              "      <td>4960</td>\n",
              "      <td>600</td>\n",
              "      <td>1250</td>\n",
              "      <td>73</td>\n",
              "      <td>75</td>\n",
              "      <td>13.3</td>\n",
              "      <td>31</td>\n",
              "      <td>9189</td>\n",
              "      <td>83</td>\n",
              "    </tr>\n",
              "    <tr>\n",
              "      <th>774</th>\n",
              "      <td>Xavier University of Louisiana</td>\n",
              "      <td>Yes</td>\n",
              "      <td>2097</td>\n",
              "      <td>1915</td>\n",
              "      <td>695</td>\n",
              "      <td>34</td>\n",
              "      <td>61</td>\n",
              "      <td>2793</td>\n",
              "      <td>166</td>\n",
              "      <td>6900</td>\n",
              "      <td>4200</td>\n",
              "      <td>617</td>\n",
              "      <td>781</td>\n",
              "      <td>67</td>\n",
              "      <td>75</td>\n",
              "      <td>14.4</td>\n",
              "      <td>20</td>\n",
              "      <td>8323</td>\n",
              "      <td>49</td>\n",
              "    </tr>\n",
              "    <tr>\n",
              "      <th>775</th>\n",
              "      <td>Yale University</td>\n",
              "      <td>Yes</td>\n",
              "      <td>10705</td>\n",
              "      <td>2453</td>\n",
              "      <td>1317</td>\n",
              "      <td>95</td>\n",
              "      <td>99</td>\n",
              "      <td>5217</td>\n",
              "      <td>83</td>\n",
              "      <td>19840</td>\n",
              "      <td>6510</td>\n",
              "      <td>630</td>\n",
              "      <td>2115</td>\n",
              "      <td>96</td>\n",
              "      <td>96</td>\n",
              "      <td>5.8</td>\n",
              "      <td>49</td>\n",
              "      <td>40386</td>\n",
              "      <td>99</td>\n",
              "    </tr>\n",
              "    <tr>\n",
              "      <th>776</th>\n",
              "      <td>York College of Pennsylvania</td>\n",
              "      <td>Yes</td>\n",
              "      <td>2989</td>\n",
              "      <td>1855</td>\n",
              "      <td>691</td>\n",
              "      <td>28</td>\n",
              "      <td>63</td>\n",
              "      <td>2988</td>\n",
              "      <td>1726</td>\n",
              "      <td>4990</td>\n",
              "      <td>3560</td>\n",
              "      <td>500</td>\n",
              "      <td>1250</td>\n",
              "      <td>75</td>\n",
              "      <td>75</td>\n",
              "      <td>18.1</td>\n",
              "      <td>28</td>\n",
              "      <td>4509</td>\n",
              "      <td>99</td>\n",
              "    </tr>\n",
              "  </tbody>\n",
              "</table>\n",
              "<p>777 rows × 19 columns</p>\n",
              "</div>"
            ],
            "text/plain": [
              "                         Unnamed: 0 Private  ...  Expend  Grad.Rate\n",
              "0      Abilene Christian University     Yes  ...    7041         60\n",
              "1                Adelphi University     Yes  ...   10527         56\n",
              "2                    Adrian College     Yes  ...    8735         54\n",
              "3               Agnes Scott College     Yes  ...   19016         59\n",
              "4         Alaska Pacific University     Yes  ...   10922         15\n",
              "..                              ...     ...  ...     ...        ...\n",
              "772         Worcester State College      No  ...    4469         40\n",
              "773               Xavier University     Yes  ...    9189         83\n",
              "774  Xavier University of Louisiana     Yes  ...    8323         49\n",
              "775                 Yale University     Yes  ...   40386         99\n",
              "776    York College of Pennsylvania     Yes  ...    4509         99\n",
              "\n",
              "[777 rows x 19 columns]"
            ]
          },
          "metadata": {
            "tags": []
          },
          "execution_count": 2
        }
      ]
    },
    {
      "cell_type": "code",
      "metadata": {
        "colab": {
          "base_uri": "https://localhost:8080/",
          "height": 653
        },
        "id": "GCRlCloZ3VdL",
        "outputId": "0f305d8e-1b62-4cb6-a13f-310dff72b5ec"
      },
      "source": [
        "df.head(10)"
      ],
      "execution_count": 3,
      "outputs": [
        {
          "output_type": "execute_result",
          "data": {
            "text/html": [
              "<div>\n",
              "<style scoped>\n",
              "    .dataframe tbody tr th:only-of-type {\n",
              "        vertical-align: middle;\n",
              "    }\n",
              "\n",
              "    .dataframe tbody tr th {\n",
              "        vertical-align: top;\n",
              "    }\n",
              "\n",
              "    .dataframe thead th {\n",
              "        text-align: right;\n",
              "    }\n",
              "</style>\n",
              "<table border=\"1\" class=\"dataframe\">\n",
              "  <thead>\n",
              "    <tr style=\"text-align: right;\">\n",
              "      <th></th>\n",
              "      <th>Unnamed: 0</th>\n",
              "      <th>Private</th>\n",
              "      <th>Apps</th>\n",
              "      <th>Accept</th>\n",
              "      <th>Enroll</th>\n",
              "      <th>Top10perc</th>\n",
              "      <th>Top25perc</th>\n",
              "      <th>F.Undergrad</th>\n",
              "      <th>P.Undergrad</th>\n",
              "      <th>Outstate</th>\n",
              "      <th>Room.Board</th>\n",
              "      <th>Books</th>\n",
              "      <th>Personal</th>\n",
              "      <th>PhD</th>\n",
              "      <th>Terminal</th>\n",
              "      <th>S.F.Ratio</th>\n",
              "      <th>perc.alumni</th>\n",
              "      <th>Expend</th>\n",
              "      <th>Grad.Rate</th>\n",
              "    </tr>\n",
              "  </thead>\n",
              "  <tbody>\n",
              "    <tr>\n",
              "      <th>0</th>\n",
              "      <td>Abilene Christian University</td>\n",
              "      <td>Yes</td>\n",
              "      <td>1660</td>\n",
              "      <td>1232</td>\n",
              "      <td>721</td>\n",
              "      <td>23</td>\n",
              "      <td>52</td>\n",
              "      <td>2885</td>\n",
              "      <td>537</td>\n",
              "      <td>7440</td>\n",
              "      <td>3300</td>\n",
              "      <td>450</td>\n",
              "      <td>2200</td>\n",
              "      <td>70</td>\n",
              "      <td>78</td>\n",
              "      <td>18.1</td>\n",
              "      <td>12</td>\n",
              "      <td>7041</td>\n",
              "      <td>60</td>\n",
              "    </tr>\n",
              "    <tr>\n",
              "      <th>1</th>\n",
              "      <td>Adelphi University</td>\n",
              "      <td>Yes</td>\n",
              "      <td>2186</td>\n",
              "      <td>1924</td>\n",
              "      <td>512</td>\n",
              "      <td>16</td>\n",
              "      <td>29</td>\n",
              "      <td>2683</td>\n",
              "      <td>1227</td>\n",
              "      <td>12280</td>\n",
              "      <td>6450</td>\n",
              "      <td>750</td>\n",
              "      <td>1500</td>\n",
              "      <td>29</td>\n",
              "      <td>30</td>\n",
              "      <td>12.2</td>\n",
              "      <td>16</td>\n",
              "      <td>10527</td>\n",
              "      <td>56</td>\n",
              "    </tr>\n",
              "    <tr>\n",
              "      <th>2</th>\n",
              "      <td>Adrian College</td>\n",
              "      <td>Yes</td>\n",
              "      <td>1428</td>\n",
              "      <td>1097</td>\n",
              "      <td>336</td>\n",
              "      <td>22</td>\n",
              "      <td>50</td>\n",
              "      <td>1036</td>\n",
              "      <td>99</td>\n",
              "      <td>11250</td>\n",
              "      <td>3750</td>\n",
              "      <td>400</td>\n",
              "      <td>1165</td>\n",
              "      <td>53</td>\n",
              "      <td>66</td>\n",
              "      <td>12.9</td>\n",
              "      <td>30</td>\n",
              "      <td>8735</td>\n",
              "      <td>54</td>\n",
              "    </tr>\n",
              "    <tr>\n",
              "      <th>3</th>\n",
              "      <td>Agnes Scott College</td>\n",
              "      <td>Yes</td>\n",
              "      <td>417</td>\n",
              "      <td>349</td>\n",
              "      <td>137</td>\n",
              "      <td>60</td>\n",
              "      <td>89</td>\n",
              "      <td>510</td>\n",
              "      <td>63</td>\n",
              "      <td>12960</td>\n",
              "      <td>5450</td>\n",
              "      <td>450</td>\n",
              "      <td>875</td>\n",
              "      <td>92</td>\n",
              "      <td>97</td>\n",
              "      <td>7.7</td>\n",
              "      <td>37</td>\n",
              "      <td>19016</td>\n",
              "      <td>59</td>\n",
              "    </tr>\n",
              "    <tr>\n",
              "      <th>4</th>\n",
              "      <td>Alaska Pacific University</td>\n",
              "      <td>Yes</td>\n",
              "      <td>193</td>\n",
              "      <td>146</td>\n",
              "      <td>55</td>\n",
              "      <td>16</td>\n",
              "      <td>44</td>\n",
              "      <td>249</td>\n",
              "      <td>869</td>\n",
              "      <td>7560</td>\n",
              "      <td>4120</td>\n",
              "      <td>800</td>\n",
              "      <td>1500</td>\n",
              "      <td>76</td>\n",
              "      <td>72</td>\n",
              "      <td>11.9</td>\n",
              "      <td>2</td>\n",
              "      <td>10922</td>\n",
              "      <td>15</td>\n",
              "    </tr>\n",
              "    <tr>\n",
              "      <th>5</th>\n",
              "      <td>Albertson College</td>\n",
              "      <td>Yes</td>\n",
              "      <td>587</td>\n",
              "      <td>479</td>\n",
              "      <td>158</td>\n",
              "      <td>38</td>\n",
              "      <td>62</td>\n",
              "      <td>678</td>\n",
              "      <td>41</td>\n",
              "      <td>13500</td>\n",
              "      <td>3335</td>\n",
              "      <td>500</td>\n",
              "      <td>675</td>\n",
              "      <td>67</td>\n",
              "      <td>73</td>\n",
              "      <td>9.4</td>\n",
              "      <td>11</td>\n",
              "      <td>9727</td>\n",
              "      <td>55</td>\n",
              "    </tr>\n",
              "    <tr>\n",
              "      <th>6</th>\n",
              "      <td>Albertus Magnus College</td>\n",
              "      <td>Yes</td>\n",
              "      <td>353</td>\n",
              "      <td>340</td>\n",
              "      <td>103</td>\n",
              "      <td>17</td>\n",
              "      <td>45</td>\n",
              "      <td>416</td>\n",
              "      <td>230</td>\n",
              "      <td>13290</td>\n",
              "      <td>5720</td>\n",
              "      <td>500</td>\n",
              "      <td>1500</td>\n",
              "      <td>90</td>\n",
              "      <td>93</td>\n",
              "      <td>11.5</td>\n",
              "      <td>26</td>\n",
              "      <td>8861</td>\n",
              "      <td>63</td>\n",
              "    </tr>\n",
              "    <tr>\n",
              "      <th>7</th>\n",
              "      <td>Albion College</td>\n",
              "      <td>Yes</td>\n",
              "      <td>1899</td>\n",
              "      <td>1720</td>\n",
              "      <td>489</td>\n",
              "      <td>37</td>\n",
              "      <td>68</td>\n",
              "      <td>1594</td>\n",
              "      <td>32</td>\n",
              "      <td>13868</td>\n",
              "      <td>4826</td>\n",
              "      <td>450</td>\n",
              "      <td>850</td>\n",
              "      <td>89</td>\n",
              "      <td>100</td>\n",
              "      <td>13.7</td>\n",
              "      <td>37</td>\n",
              "      <td>11487</td>\n",
              "      <td>73</td>\n",
              "    </tr>\n",
              "    <tr>\n",
              "      <th>8</th>\n",
              "      <td>Albright College</td>\n",
              "      <td>Yes</td>\n",
              "      <td>1038</td>\n",
              "      <td>839</td>\n",
              "      <td>227</td>\n",
              "      <td>30</td>\n",
              "      <td>63</td>\n",
              "      <td>973</td>\n",
              "      <td>306</td>\n",
              "      <td>15595</td>\n",
              "      <td>4400</td>\n",
              "      <td>300</td>\n",
              "      <td>500</td>\n",
              "      <td>79</td>\n",
              "      <td>84</td>\n",
              "      <td>11.3</td>\n",
              "      <td>23</td>\n",
              "      <td>11644</td>\n",
              "      <td>80</td>\n",
              "    </tr>\n",
              "    <tr>\n",
              "      <th>9</th>\n",
              "      <td>Alderson-Broaddus College</td>\n",
              "      <td>Yes</td>\n",
              "      <td>582</td>\n",
              "      <td>498</td>\n",
              "      <td>172</td>\n",
              "      <td>21</td>\n",
              "      <td>44</td>\n",
              "      <td>799</td>\n",
              "      <td>78</td>\n",
              "      <td>10468</td>\n",
              "      <td>3380</td>\n",
              "      <td>660</td>\n",
              "      <td>1800</td>\n",
              "      <td>40</td>\n",
              "      <td>41</td>\n",
              "      <td>11.5</td>\n",
              "      <td>15</td>\n",
              "      <td>8991</td>\n",
              "      <td>52</td>\n",
              "    </tr>\n",
              "  </tbody>\n",
              "</table>\n",
              "</div>"
            ],
            "text/plain": [
              "                     Unnamed: 0 Private  Apps  ...  perc.alumni  Expend  Grad.Rate\n",
              "0  Abilene Christian University     Yes  1660  ...           12    7041         60\n",
              "1            Adelphi University     Yes  2186  ...           16   10527         56\n",
              "2                Adrian College     Yes  1428  ...           30    8735         54\n",
              "3           Agnes Scott College     Yes   417  ...           37   19016         59\n",
              "4     Alaska Pacific University     Yes   193  ...            2   10922         15\n",
              "5             Albertson College     Yes   587  ...           11    9727         55\n",
              "6       Albertus Magnus College     Yes   353  ...           26    8861         63\n",
              "7                Albion College     Yes  1899  ...           37   11487         73\n",
              "8              Albright College     Yes  1038  ...           23   11644         80\n",
              "9     Alderson-Broaddus College     Yes   582  ...           15    8991         52\n",
              "\n",
              "[10 rows x 19 columns]"
            ]
          },
          "metadata": {
            "tags": []
          },
          "execution_count": 3
        }
      ]
    },
    {
      "cell_type": "code",
      "metadata": {
        "colab": {
          "base_uri": "https://localhost:8080/",
          "height": 635
        },
        "id": "4MhpbnyO3aR1",
        "outputId": "575b959d-b401-402c-ded3-19bf18b0724d"
      },
      "source": [
        "df.tail(10)"
      ],
      "execution_count": 4,
      "outputs": [
        {
          "output_type": "execute_result",
          "data": {
            "text/html": [
              "<div>\n",
              "<style scoped>\n",
              "    .dataframe tbody tr th:only-of-type {\n",
              "        vertical-align: middle;\n",
              "    }\n",
              "\n",
              "    .dataframe tbody tr th {\n",
              "        vertical-align: top;\n",
              "    }\n",
              "\n",
              "    .dataframe thead th {\n",
              "        text-align: right;\n",
              "    }\n",
              "</style>\n",
              "<table border=\"1\" class=\"dataframe\">\n",
              "  <thead>\n",
              "    <tr style=\"text-align: right;\">\n",
              "      <th></th>\n",
              "      <th>Unnamed: 0</th>\n",
              "      <th>Private</th>\n",
              "      <th>Apps</th>\n",
              "      <th>Accept</th>\n",
              "      <th>Enroll</th>\n",
              "      <th>Top10perc</th>\n",
              "      <th>Top25perc</th>\n",
              "      <th>F.Undergrad</th>\n",
              "      <th>P.Undergrad</th>\n",
              "      <th>Outstate</th>\n",
              "      <th>Room.Board</th>\n",
              "      <th>Books</th>\n",
              "      <th>Personal</th>\n",
              "      <th>PhD</th>\n",
              "      <th>Terminal</th>\n",
              "      <th>S.F.Ratio</th>\n",
              "      <th>perc.alumni</th>\n",
              "      <th>Expend</th>\n",
              "      <th>Grad.Rate</th>\n",
              "    </tr>\n",
              "  </thead>\n",
              "  <tbody>\n",
              "    <tr>\n",
              "      <th>767</th>\n",
              "      <td>Winthrop University</td>\n",
              "      <td>No</td>\n",
              "      <td>2320</td>\n",
              "      <td>1805</td>\n",
              "      <td>769</td>\n",
              "      <td>24</td>\n",
              "      <td>61</td>\n",
              "      <td>3395</td>\n",
              "      <td>670</td>\n",
              "      <td>6400</td>\n",
              "      <td>3392</td>\n",
              "      <td>580</td>\n",
              "      <td>2150</td>\n",
              "      <td>71</td>\n",
              "      <td>80</td>\n",
              "      <td>12.8</td>\n",
              "      <td>26</td>\n",
              "      <td>6729</td>\n",
              "      <td>59</td>\n",
              "    </tr>\n",
              "    <tr>\n",
              "      <th>768</th>\n",
              "      <td>Wisconsin Lutheran College</td>\n",
              "      <td>Yes</td>\n",
              "      <td>152</td>\n",
              "      <td>128</td>\n",
              "      <td>75</td>\n",
              "      <td>17</td>\n",
              "      <td>41</td>\n",
              "      <td>282</td>\n",
              "      <td>22</td>\n",
              "      <td>9100</td>\n",
              "      <td>3700</td>\n",
              "      <td>500</td>\n",
              "      <td>1400</td>\n",
              "      <td>48</td>\n",
              "      <td>48</td>\n",
              "      <td>8.5</td>\n",
              "      <td>26</td>\n",
              "      <td>8960</td>\n",
              "      <td>50</td>\n",
              "    </tr>\n",
              "    <tr>\n",
              "      <th>769</th>\n",
              "      <td>Wittenberg University</td>\n",
              "      <td>Yes</td>\n",
              "      <td>1979</td>\n",
              "      <td>1739</td>\n",
              "      <td>575</td>\n",
              "      <td>42</td>\n",
              "      <td>68</td>\n",
              "      <td>1980</td>\n",
              "      <td>144</td>\n",
              "      <td>15948</td>\n",
              "      <td>4404</td>\n",
              "      <td>400</td>\n",
              "      <td>800</td>\n",
              "      <td>82</td>\n",
              "      <td>95</td>\n",
              "      <td>12.8</td>\n",
              "      <td>29</td>\n",
              "      <td>10414</td>\n",
              "      <td>78</td>\n",
              "    </tr>\n",
              "    <tr>\n",
              "      <th>770</th>\n",
              "      <td>Wofford College</td>\n",
              "      <td>Yes</td>\n",
              "      <td>1501</td>\n",
              "      <td>935</td>\n",
              "      <td>273</td>\n",
              "      <td>51</td>\n",
              "      <td>83</td>\n",
              "      <td>1059</td>\n",
              "      <td>34</td>\n",
              "      <td>12680</td>\n",
              "      <td>4150</td>\n",
              "      <td>605</td>\n",
              "      <td>1440</td>\n",
              "      <td>91</td>\n",
              "      <td>92</td>\n",
              "      <td>15.3</td>\n",
              "      <td>42</td>\n",
              "      <td>7875</td>\n",
              "      <td>75</td>\n",
              "    </tr>\n",
              "    <tr>\n",
              "      <th>771</th>\n",
              "      <td>Worcester Polytechnic Institute</td>\n",
              "      <td>Yes</td>\n",
              "      <td>2768</td>\n",
              "      <td>2314</td>\n",
              "      <td>682</td>\n",
              "      <td>49</td>\n",
              "      <td>86</td>\n",
              "      <td>2802</td>\n",
              "      <td>86</td>\n",
              "      <td>15884</td>\n",
              "      <td>5370</td>\n",
              "      <td>530</td>\n",
              "      <td>730</td>\n",
              "      <td>92</td>\n",
              "      <td>94</td>\n",
              "      <td>15.2</td>\n",
              "      <td>34</td>\n",
              "      <td>10774</td>\n",
              "      <td>82</td>\n",
              "    </tr>\n",
              "    <tr>\n",
              "      <th>772</th>\n",
              "      <td>Worcester State College</td>\n",
              "      <td>No</td>\n",
              "      <td>2197</td>\n",
              "      <td>1515</td>\n",
              "      <td>543</td>\n",
              "      <td>4</td>\n",
              "      <td>26</td>\n",
              "      <td>3089</td>\n",
              "      <td>2029</td>\n",
              "      <td>6797</td>\n",
              "      <td>3900</td>\n",
              "      <td>500</td>\n",
              "      <td>1200</td>\n",
              "      <td>60</td>\n",
              "      <td>60</td>\n",
              "      <td>21.0</td>\n",
              "      <td>14</td>\n",
              "      <td>4469</td>\n",
              "      <td>40</td>\n",
              "    </tr>\n",
              "    <tr>\n",
              "      <th>773</th>\n",
              "      <td>Xavier University</td>\n",
              "      <td>Yes</td>\n",
              "      <td>1959</td>\n",
              "      <td>1805</td>\n",
              "      <td>695</td>\n",
              "      <td>24</td>\n",
              "      <td>47</td>\n",
              "      <td>2849</td>\n",
              "      <td>1107</td>\n",
              "      <td>11520</td>\n",
              "      <td>4960</td>\n",
              "      <td>600</td>\n",
              "      <td>1250</td>\n",
              "      <td>73</td>\n",
              "      <td>75</td>\n",
              "      <td>13.3</td>\n",
              "      <td>31</td>\n",
              "      <td>9189</td>\n",
              "      <td>83</td>\n",
              "    </tr>\n",
              "    <tr>\n",
              "      <th>774</th>\n",
              "      <td>Xavier University of Louisiana</td>\n",
              "      <td>Yes</td>\n",
              "      <td>2097</td>\n",
              "      <td>1915</td>\n",
              "      <td>695</td>\n",
              "      <td>34</td>\n",
              "      <td>61</td>\n",
              "      <td>2793</td>\n",
              "      <td>166</td>\n",
              "      <td>6900</td>\n",
              "      <td>4200</td>\n",
              "      <td>617</td>\n",
              "      <td>781</td>\n",
              "      <td>67</td>\n",
              "      <td>75</td>\n",
              "      <td>14.4</td>\n",
              "      <td>20</td>\n",
              "      <td>8323</td>\n",
              "      <td>49</td>\n",
              "    </tr>\n",
              "    <tr>\n",
              "      <th>775</th>\n",
              "      <td>Yale University</td>\n",
              "      <td>Yes</td>\n",
              "      <td>10705</td>\n",
              "      <td>2453</td>\n",
              "      <td>1317</td>\n",
              "      <td>95</td>\n",
              "      <td>99</td>\n",
              "      <td>5217</td>\n",
              "      <td>83</td>\n",
              "      <td>19840</td>\n",
              "      <td>6510</td>\n",
              "      <td>630</td>\n",
              "      <td>2115</td>\n",
              "      <td>96</td>\n",
              "      <td>96</td>\n",
              "      <td>5.8</td>\n",
              "      <td>49</td>\n",
              "      <td>40386</td>\n",
              "      <td>99</td>\n",
              "    </tr>\n",
              "    <tr>\n",
              "      <th>776</th>\n",
              "      <td>York College of Pennsylvania</td>\n",
              "      <td>Yes</td>\n",
              "      <td>2989</td>\n",
              "      <td>1855</td>\n",
              "      <td>691</td>\n",
              "      <td>28</td>\n",
              "      <td>63</td>\n",
              "      <td>2988</td>\n",
              "      <td>1726</td>\n",
              "      <td>4990</td>\n",
              "      <td>3560</td>\n",
              "      <td>500</td>\n",
              "      <td>1250</td>\n",
              "      <td>75</td>\n",
              "      <td>75</td>\n",
              "      <td>18.1</td>\n",
              "      <td>28</td>\n",
              "      <td>4509</td>\n",
              "      <td>99</td>\n",
              "    </tr>\n",
              "  </tbody>\n",
              "</table>\n",
              "</div>"
            ],
            "text/plain": [
              "                          Unnamed: 0 Private  ...  Expend  Grad.Rate\n",
              "767              Winthrop University      No  ...    6729         59\n",
              "768       Wisconsin Lutheran College     Yes  ...    8960         50\n",
              "769            Wittenberg University     Yes  ...   10414         78\n",
              "770                  Wofford College     Yes  ...    7875         75\n",
              "771  Worcester Polytechnic Institute     Yes  ...   10774         82\n",
              "772          Worcester State College      No  ...    4469         40\n",
              "773                Xavier University     Yes  ...    9189         83\n",
              "774   Xavier University of Louisiana     Yes  ...    8323         49\n",
              "775                  Yale University     Yes  ...   40386         99\n",
              "776     York College of Pennsylvania     Yes  ...    4509         99\n",
              "\n",
              "[10 rows x 19 columns]"
            ]
          },
          "metadata": {
            "tags": []
          },
          "execution_count": 4
        }
      ]
    },
    {
      "cell_type": "code",
      "metadata": {
        "colab": {
          "base_uri": "https://localhost:8080/",
          "height": 687
        },
        "id": "YkCYUMoB3dLf",
        "outputId": "f7376f66-001b-413f-a701-6ed95686d501"
      },
      "source": [
        "df.sample(10)"
      ],
      "execution_count": 5,
      "outputs": [
        {
          "output_type": "execute_result",
          "data": {
            "text/html": [
              "<div>\n",
              "<style scoped>\n",
              "    .dataframe tbody tr th:only-of-type {\n",
              "        vertical-align: middle;\n",
              "    }\n",
              "\n",
              "    .dataframe tbody tr th {\n",
              "        vertical-align: top;\n",
              "    }\n",
              "\n",
              "    .dataframe thead th {\n",
              "        text-align: right;\n",
              "    }\n",
              "</style>\n",
              "<table border=\"1\" class=\"dataframe\">\n",
              "  <thead>\n",
              "    <tr style=\"text-align: right;\">\n",
              "      <th></th>\n",
              "      <th>Unnamed: 0</th>\n",
              "      <th>Private</th>\n",
              "      <th>Apps</th>\n",
              "      <th>Accept</th>\n",
              "      <th>Enroll</th>\n",
              "      <th>Top10perc</th>\n",
              "      <th>Top25perc</th>\n",
              "      <th>F.Undergrad</th>\n",
              "      <th>P.Undergrad</th>\n",
              "      <th>Outstate</th>\n",
              "      <th>Room.Board</th>\n",
              "      <th>Books</th>\n",
              "      <th>Personal</th>\n",
              "      <th>PhD</th>\n",
              "      <th>Terminal</th>\n",
              "      <th>S.F.Ratio</th>\n",
              "      <th>perc.alumni</th>\n",
              "      <th>Expend</th>\n",
              "      <th>Grad.Rate</th>\n",
              "    </tr>\n",
              "  </thead>\n",
              "  <tbody>\n",
              "    <tr>\n",
              "      <th>310</th>\n",
              "      <td>Lenoir-Rhyne College</td>\n",
              "      <td>Yes</td>\n",
              "      <td>979</td>\n",
              "      <td>743</td>\n",
              "      <td>259</td>\n",
              "      <td>25</td>\n",
              "      <td>46</td>\n",
              "      <td>1188</td>\n",
              "      <td>166</td>\n",
              "      <td>10100</td>\n",
              "      <td>4000</td>\n",
              "      <td>400</td>\n",
              "      <td>1000</td>\n",
              "      <td>88</td>\n",
              "      <td>92</td>\n",
              "      <td>12.0</td>\n",
              "      <td>20</td>\n",
              "      <td>8539</td>\n",
              "      <td>66</td>\n",
              "    </tr>\n",
              "    <tr>\n",
              "      <th>615</th>\n",
              "      <td>University of Denver</td>\n",
              "      <td>Yes</td>\n",
              "      <td>2974</td>\n",
              "      <td>2001</td>\n",
              "      <td>580</td>\n",
              "      <td>29</td>\n",
              "      <td>60</td>\n",
              "      <td>2666</td>\n",
              "      <td>554</td>\n",
              "      <td>15192</td>\n",
              "      <td>4695</td>\n",
              "      <td>400</td>\n",
              "      <td>1350</td>\n",
              "      <td>84</td>\n",
              "      <td>91</td>\n",
              "      <td>15.9</td>\n",
              "      <td>21</td>\n",
              "      <td>11762</td>\n",
              "      <td>67</td>\n",
              "    </tr>\n",
              "    <tr>\n",
              "      <th>673</th>\n",
              "      <td>University of Scranton</td>\n",
              "      <td>Yes</td>\n",
              "      <td>4471</td>\n",
              "      <td>2942</td>\n",
              "      <td>910</td>\n",
              "      <td>29</td>\n",
              "      <td>60</td>\n",
              "      <td>3674</td>\n",
              "      <td>493</td>\n",
              "      <td>11584</td>\n",
              "      <td>5986</td>\n",
              "      <td>650</td>\n",
              "      <td>800</td>\n",
              "      <td>83</td>\n",
              "      <td>83</td>\n",
              "      <td>14.1</td>\n",
              "      <td>41</td>\n",
              "      <td>9131</td>\n",
              "      <td>92</td>\n",
              "    </tr>\n",
              "    <tr>\n",
              "      <th>323</th>\n",
              "      <td>Louisiana College</td>\n",
              "      <td>Yes</td>\n",
              "      <td>2013</td>\n",
              "      <td>1053</td>\n",
              "      <td>212</td>\n",
              "      <td>33</td>\n",
              "      <td>61</td>\n",
              "      <td>912</td>\n",
              "      <td>158</td>\n",
              "      <td>5150</td>\n",
              "      <td>3036</td>\n",
              "      <td>500</td>\n",
              "      <td>1655</td>\n",
              "      <td>64</td>\n",
              "      <td>74</td>\n",
              "      <td>10.5</td>\n",
              "      <td>11</td>\n",
              "      <td>7547</td>\n",
              "      <td>59</td>\n",
              "    </tr>\n",
              "    <tr>\n",
              "      <th>12</th>\n",
              "      <td>Allentown Coll. of St. Francis de Sales</td>\n",
              "      <td>Yes</td>\n",
              "      <td>1179</td>\n",
              "      <td>780</td>\n",
              "      <td>290</td>\n",
              "      <td>38</td>\n",
              "      <td>64</td>\n",
              "      <td>1130</td>\n",
              "      <td>638</td>\n",
              "      <td>9690</td>\n",
              "      <td>4785</td>\n",
              "      <td>600</td>\n",
              "      <td>1000</td>\n",
              "      <td>60</td>\n",
              "      <td>84</td>\n",
              "      <td>13.3</td>\n",
              "      <td>21</td>\n",
              "      <td>7940</td>\n",
              "      <td>74</td>\n",
              "    </tr>\n",
              "    <tr>\n",
              "      <th>449</th>\n",
              "      <td>Philadelphia Coll. of Textiles and Sci.</td>\n",
              "      <td>Yes</td>\n",
              "      <td>1538</td>\n",
              "      <td>1259</td>\n",
              "      <td>468</td>\n",
              "      <td>19</td>\n",
              "      <td>42</td>\n",
              "      <td>1664</td>\n",
              "      <td>1042</td>\n",
              "      <td>11690</td>\n",
              "      <td>5062</td>\n",
              "      <td>600</td>\n",
              "      <td>1664</td>\n",
              "      <td>48</td>\n",
              "      <td>80</td>\n",
              "      <td>12.9</td>\n",
              "      <td>15</td>\n",
              "      <td>8028</td>\n",
              "      <td>68</td>\n",
              "    </tr>\n",
              "    <tr>\n",
              "      <th>96</th>\n",
              "      <td>Cedar Crest College</td>\n",
              "      <td>Yes</td>\n",
              "      <td>776</td>\n",
              "      <td>607</td>\n",
              "      <td>198</td>\n",
              "      <td>25</td>\n",
              "      <td>58</td>\n",
              "      <td>791</td>\n",
              "      <td>764</td>\n",
              "      <td>14340</td>\n",
              "      <td>5285</td>\n",
              "      <td>500</td>\n",
              "      <td>1000</td>\n",
              "      <td>58</td>\n",
              "      <td>83</td>\n",
              "      <td>11.7</td>\n",
              "      <td>39</td>\n",
              "      <td>10961</td>\n",
              "      <td>74</td>\n",
              "    </tr>\n",
              "    <tr>\n",
              "      <th>170</th>\n",
              "      <td>Dowling College</td>\n",
              "      <td>Yes</td>\n",
              "      <td>1011</td>\n",
              "      <td>829</td>\n",
              "      <td>410</td>\n",
              "      <td>9</td>\n",
              "      <td>33</td>\n",
              "      <td>1059</td>\n",
              "      <td>2458</td>\n",
              "      <td>9000</td>\n",
              "      <td>3100</td>\n",
              "      <td>450</td>\n",
              "      <td>1413</td>\n",
              "      <td>77</td>\n",
              "      <td>78</td>\n",
              "      <td>12.4</td>\n",
              "      <td>7</td>\n",
              "      <td>11178</td>\n",
              "      <td>42</td>\n",
              "    </tr>\n",
              "    <tr>\n",
              "      <th>547</th>\n",
              "      <td>St. Lawrence University</td>\n",
              "      <td>Yes</td>\n",
              "      <td>2753</td>\n",
              "      <td>1820</td>\n",
              "      <td>505</td>\n",
              "      <td>31</td>\n",
              "      <td>56</td>\n",
              "      <td>1801</td>\n",
              "      <td>45</td>\n",
              "      <td>18720</td>\n",
              "      <td>5730</td>\n",
              "      <td>650</td>\n",
              "      <td>825</td>\n",
              "      <td>90</td>\n",
              "      <td>94</td>\n",
              "      <td>11.5</td>\n",
              "      <td>38</td>\n",
              "      <td>14980</td>\n",
              "      <td>85</td>\n",
              "    </tr>\n",
              "    <tr>\n",
              "      <th>647</th>\n",
              "      <td>University of Nebraska at Lincoln</td>\n",
              "      <td>No</td>\n",
              "      <td>6277</td>\n",
              "      <td>6003</td>\n",
              "      <td>3526</td>\n",
              "      <td>33</td>\n",
              "      <td>63</td>\n",
              "      <td>16454</td>\n",
              "      <td>3171</td>\n",
              "      <td>5595</td>\n",
              "      <td>3145</td>\n",
              "      <td>500</td>\n",
              "      <td>2070</td>\n",
              "      <td>86</td>\n",
              "      <td>92</td>\n",
              "      <td>15.1</td>\n",
              "      <td>48</td>\n",
              "      <td>6813</td>\n",
              "      <td>53</td>\n",
              "    </tr>\n",
              "  </tbody>\n",
              "</table>\n",
              "</div>"
            ],
            "text/plain": [
              "                                  Unnamed: 0 Private  ...  Expend  Grad.Rate\n",
              "310                     Lenoir-Rhyne College     Yes  ...    8539         66\n",
              "615                     University of Denver     Yes  ...   11762         67\n",
              "673                   University of Scranton     Yes  ...    9131         92\n",
              "323                        Louisiana College     Yes  ...    7547         59\n",
              "12   Allentown Coll. of St. Francis de Sales     Yes  ...    7940         74\n",
              "449  Philadelphia Coll. of Textiles and Sci.     Yes  ...    8028         68\n",
              "96                       Cedar Crest College     Yes  ...   10961         74\n",
              "170                          Dowling College     Yes  ...   11178         42\n",
              "547                  St. Lawrence University     Yes  ...   14980         85\n",
              "647        University of Nebraska at Lincoln      No  ...    6813         53\n",
              "\n",
              "[10 rows x 19 columns]"
            ]
          },
          "metadata": {
            "tags": []
          },
          "execution_count": 5
        }
      ]
    },
    {
      "cell_type": "code",
      "metadata": {
        "colab": {
          "base_uri": "https://localhost:8080/"
        },
        "id": "LnqvDZA_3f7_",
        "outputId": "78da5196-188e-4c84-a493-0d87b2b57e4c"
      },
      "source": [
        "df.info()"
      ],
      "execution_count": 6,
      "outputs": [
        {
          "output_type": "stream",
          "text": [
            "<class 'pandas.core.frame.DataFrame'>\n",
            "RangeIndex: 777 entries, 0 to 776\n",
            "Data columns (total 19 columns):\n",
            " #   Column       Non-Null Count  Dtype  \n",
            "---  ------       --------------  -----  \n",
            " 0   Unnamed: 0   777 non-null    object \n",
            " 1   Private      777 non-null    object \n",
            " 2   Apps         777 non-null    int64  \n",
            " 3   Accept       777 non-null    int64  \n",
            " 4   Enroll       777 non-null    int64  \n",
            " 5   Top10perc    777 non-null    int64  \n",
            " 6   Top25perc    777 non-null    int64  \n",
            " 7   F.Undergrad  777 non-null    int64  \n",
            " 8   P.Undergrad  777 non-null    int64  \n",
            " 9   Outstate     777 non-null    int64  \n",
            " 10  Room.Board   777 non-null    int64  \n",
            " 11  Books        777 non-null    int64  \n",
            " 12  Personal     777 non-null    int64  \n",
            " 13  PhD          777 non-null    int64  \n",
            " 14  Terminal     777 non-null    int64  \n",
            " 15  S.F.Ratio    777 non-null    float64\n",
            " 16  perc.alumni  777 non-null    int64  \n",
            " 17  Expend       777 non-null    int64  \n",
            " 18  Grad.Rate    777 non-null    int64  \n",
            "dtypes: float64(1), int64(16), object(2)\n",
            "memory usage: 115.5+ KB\n"
          ],
          "name": "stdout"
        }
      ]
    },
    {
      "cell_type": "code",
      "metadata": {
        "colab": {
          "base_uri": "https://localhost:8080/",
          "height": 314
        },
        "id": "svkFy72y3ifX",
        "outputId": "98a70c14-5827-42c8-9600-470139aa648d"
      },
      "source": [
        "df.describe()"
      ],
      "execution_count": 7,
      "outputs": [
        {
          "output_type": "execute_result",
          "data": {
            "text/html": [
              "<div>\n",
              "<style scoped>\n",
              "    .dataframe tbody tr th:only-of-type {\n",
              "        vertical-align: middle;\n",
              "    }\n",
              "\n",
              "    .dataframe tbody tr th {\n",
              "        vertical-align: top;\n",
              "    }\n",
              "\n",
              "    .dataframe thead th {\n",
              "        text-align: right;\n",
              "    }\n",
              "</style>\n",
              "<table border=\"1\" class=\"dataframe\">\n",
              "  <thead>\n",
              "    <tr style=\"text-align: right;\">\n",
              "      <th></th>\n",
              "      <th>Apps</th>\n",
              "      <th>Accept</th>\n",
              "      <th>Enroll</th>\n",
              "      <th>Top10perc</th>\n",
              "      <th>Top25perc</th>\n",
              "      <th>F.Undergrad</th>\n",
              "      <th>P.Undergrad</th>\n",
              "      <th>Outstate</th>\n",
              "      <th>Room.Board</th>\n",
              "      <th>Books</th>\n",
              "      <th>Personal</th>\n",
              "      <th>PhD</th>\n",
              "      <th>Terminal</th>\n",
              "      <th>S.F.Ratio</th>\n",
              "      <th>perc.alumni</th>\n",
              "      <th>Expend</th>\n",
              "      <th>Grad.Rate</th>\n",
              "    </tr>\n",
              "  </thead>\n",
              "  <tbody>\n",
              "    <tr>\n",
              "      <th>count</th>\n",
              "      <td>777.000000</td>\n",
              "      <td>777.000000</td>\n",
              "      <td>777.000000</td>\n",
              "      <td>777.000000</td>\n",
              "      <td>777.000000</td>\n",
              "      <td>777.000000</td>\n",
              "      <td>777.000000</td>\n",
              "      <td>777.000000</td>\n",
              "      <td>777.000000</td>\n",
              "      <td>777.000000</td>\n",
              "      <td>777.000000</td>\n",
              "      <td>777.000000</td>\n",
              "      <td>777.000000</td>\n",
              "      <td>777.000000</td>\n",
              "      <td>777.000000</td>\n",
              "      <td>777.000000</td>\n",
              "      <td>777.00000</td>\n",
              "    </tr>\n",
              "    <tr>\n",
              "      <th>mean</th>\n",
              "      <td>3001.638353</td>\n",
              "      <td>2018.804376</td>\n",
              "      <td>779.972973</td>\n",
              "      <td>27.558559</td>\n",
              "      <td>55.796654</td>\n",
              "      <td>3699.907336</td>\n",
              "      <td>855.298584</td>\n",
              "      <td>10440.669241</td>\n",
              "      <td>4357.526384</td>\n",
              "      <td>549.380952</td>\n",
              "      <td>1340.642214</td>\n",
              "      <td>72.660232</td>\n",
              "      <td>79.702703</td>\n",
              "      <td>14.089704</td>\n",
              "      <td>22.743887</td>\n",
              "      <td>9660.171171</td>\n",
              "      <td>65.46332</td>\n",
              "    </tr>\n",
              "    <tr>\n",
              "      <th>std</th>\n",
              "      <td>3870.201484</td>\n",
              "      <td>2451.113971</td>\n",
              "      <td>929.176190</td>\n",
              "      <td>17.640364</td>\n",
              "      <td>19.804778</td>\n",
              "      <td>4850.420531</td>\n",
              "      <td>1522.431887</td>\n",
              "      <td>4023.016484</td>\n",
              "      <td>1096.696416</td>\n",
              "      <td>165.105360</td>\n",
              "      <td>677.071454</td>\n",
              "      <td>16.328155</td>\n",
              "      <td>14.722359</td>\n",
              "      <td>3.958349</td>\n",
              "      <td>12.391801</td>\n",
              "      <td>5221.768440</td>\n",
              "      <td>17.17771</td>\n",
              "    </tr>\n",
              "    <tr>\n",
              "      <th>min</th>\n",
              "      <td>81.000000</td>\n",
              "      <td>72.000000</td>\n",
              "      <td>35.000000</td>\n",
              "      <td>1.000000</td>\n",
              "      <td>9.000000</td>\n",
              "      <td>139.000000</td>\n",
              "      <td>1.000000</td>\n",
              "      <td>2340.000000</td>\n",
              "      <td>1780.000000</td>\n",
              "      <td>96.000000</td>\n",
              "      <td>250.000000</td>\n",
              "      <td>8.000000</td>\n",
              "      <td>24.000000</td>\n",
              "      <td>2.500000</td>\n",
              "      <td>0.000000</td>\n",
              "      <td>3186.000000</td>\n",
              "      <td>10.00000</td>\n",
              "    </tr>\n",
              "    <tr>\n",
              "      <th>25%</th>\n",
              "      <td>776.000000</td>\n",
              "      <td>604.000000</td>\n",
              "      <td>242.000000</td>\n",
              "      <td>15.000000</td>\n",
              "      <td>41.000000</td>\n",
              "      <td>992.000000</td>\n",
              "      <td>95.000000</td>\n",
              "      <td>7320.000000</td>\n",
              "      <td>3597.000000</td>\n",
              "      <td>470.000000</td>\n",
              "      <td>850.000000</td>\n",
              "      <td>62.000000</td>\n",
              "      <td>71.000000</td>\n",
              "      <td>11.500000</td>\n",
              "      <td>13.000000</td>\n",
              "      <td>6751.000000</td>\n",
              "      <td>53.00000</td>\n",
              "    </tr>\n",
              "    <tr>\n",
              "      <th>50%</th>\n",
              "      <td>1558.000000</td>\n",
              "      <td>1110.000000</td>\n",
              "      <td>434.000000</td>\n",
              "      <td>23.000000</td>\n",
              "      <td>54.000000</td>\n",
              "      <td>1707.000000</td>\n",
              "      <td>353.000000</td>\n",
              "      <td>9990.000000</td>\n",
              "      <td>4200.000000</td>\n",
              "      <td>500.000000</td>\n",
              "      <td>1200.000000</td>\n",
              "      <td>75.000000</td>\n",
              "      <td>82.000000</td>\n",
              "      <td>13.600000</td>\n",
              "      <td>21.000000</td>\n",
              "      <td>8377.000000</td>\n",
              "      <td>65.00000</td>\n",
              "    </tr>\n",
              "    <tr>\n",
              "      <th>75%</th>\n",
              "      <td>3624.000000</td>\n",
              "      <td>2424.000000</td>\n",
              "      <td>902.000000</td>\n",
              "      <td>35.000000</td>\n",
              "      <td>69.000000</td>\n",
              "      <td>4005.000000</td>\n",
              "      <td>967.000000</td>\n",
              "      <td>12925.000000</td>\n",
              "      <td>5050.000000</td>\n",
              "      <td>600.000000</td>\n",
              "      <td>1700.000000</td>\n",
              "      <td>85.000000</td>\n",
              "      <td>92.000000</td>\n",
              "      <td>16.500000</td>\n",
              "      <td>31.000000</td>\n",
              "      <td>10830.000000</td>\n",
              "      <td>78.00000</td>\n",
              "    </tr>\n",
              "    <tr>\n",
              "      <th>max</th>\n",
              "      <td>48094.000000</td>\n",
              "      <td>26330.000000</td>\n",
              "      <td>6392.000000</td>\n",
              "      <td>96.000000</td>\n",
              "      <td>100.000000</td>\n",
              "      <td>31643.000000</td>\n",
              "      <td>21836.000000</td>\n",
              "      <td>21700.000000</td>\n",
              "      <td>8124.000000</td>\n",
              "      <td>2340.000000</td>\n",
              "      <td>6800.000000</td>\n",
              "      <td>103.000000</td>\n",
              "      <td>100.000000</td>\n",
              "      <td>39.800000</td>\n",
              "      <td>64.000000</td>\n",
              "      <td>56233.000000</td>\n",
              "      <td>118.00000</td>\n",
              "    </tr>\n",
              "  </tbody>\n",
              "</table>\n",
              "</div>"
            ],
            "text/plain": [
              "               Apps        Accept  ...        Expend  Grad.Rate\n",
              "count    777.000000    777.000000  ...    777.000000  777.00000\n",
              "mean    3001.638353   2018.804376  ...   9660.171171   65.46332\n",
              "std     3870.201484   2451.113971  ...   5221.768440   17.17771\n",
              "min       81.000000     72.000000  ...   3186.000000   10.00000\n",
              "25%      776.000000    604.000000  ...   6751.000000   53.00000\n",
              "50%     1558.000000   1110.000000  ...   8377.000000   65.00000\n",
              "75%     3624.000000   2424.000000  ...  10830.000000   78.00000\n",
              "max    48094.000000  26330.000000  ...  56233.000000  118.00000\n",
              "\n",
              "[8 rows x 17 columns]"
            ]
          },
          "metadata": {
            "tags": []
          },
          "execution_count": 7
        }
      ]
    },
    {
      "cell_type": "code",
      "metadata": {
        "colab": {
          "base_uri": "https://localhost:8080/",
          "height": 1000
        },
        "id": "4TcOEtbT3lYK",
        "outputId": "2903792a-212b-43b8-ba27-e3dd008c0e2c"
      },
      "source": [
        "sns.pairplot(df[['F.Undergrad','P.Undergrad','Room.Board','Apps','Enroll','Personal']])"
      ],
      "execution_count": 8,
      "outputs": [
        {
          "output_type": "execute_result",
          "data": {
            "text/plain": [
              "<seaborn.axisgrid.PairGrid at 0x7f678413a2b0>"
            ]
          },
          "metadata": {
            "tags": []
          },
          "execution_count": 8
        },
        {
          "output_type": "display_data",
          "data": {
            "image/png": "[encoded data removed]",
            "text/plain": [
              "<Figure size 1080x1080 with 42 Axes>"
            ]
          },
          "metadata": {
            "tags": [],
            "needs_background": "light"
          }
        }
      ]
    },
    {
      "cell_type": "code",
      "metadata": {
        "colab": {
          "base_uri": "https://localhost:8080/",
          "height": 590
        },
        "id": "eXjAAIl_3n4m",
        "outputId": "fd281fff-e011-4d7d-ed0d-b4a760c79c5c"
      },
      "source": [
        "df.corr()"
      ],
      "execution_count": 9,
      "outputs": [
        {
          "output_type": "execute_result",
          "data": {
            "text/html": [
              "<div>\n",
              "<style scoped>\n",
              "    .dataframe tbody tr th:only-of-type {\n",
              "        vertical-align: middle;\n",
              "    }\n",
              "\n",
              "    .dataframe tbody tr th {\n",
              "        vertical-align: top;\n",
              "    }\n",
              "\n",
              "    .dataframe thead th {\n",
              "        text-align: right;\n",
              "    }\n",
              "</style>\n",
              "<table border=\"1\" class=\"dataframe\">\n",
              "  <thead>\n",
              "    <tr style=\"text-align: right;\">\n",
              "      <th></th>\n",
              "      <th>Apps</th>\n",
              "      <th>Accept</th>\n",
              "      <th>Enroll</th>\n",
              "      <th>Top10perc</th>\n",
              "      <th>Top25perc</th>\n",
              "      <th>F.Undergrad</th>\n",
              "      <th>P.Undergrad</th>\n",
              "      <th>Outstate</th>\n",
              "      <th>Room.Board</th>\n",
              "      <th>Books</th>\n",
              "      <th>Personal</th>\n",
              "      <th>PhD</th>\n",
              "      <th>Terminal</th>\n",
              "      <th>S.F.Ratio</th>\n",
              "      <th>perc.alumni</th>\n",
              "      <th>Expend</th>\n",
              "      <th>Grad.Rate</th>\n",
              "    </tr>\n",
              "  </thead>\n",
              "  <tbody>\n",
              "    <tr>\n",
              "      <th>Apps</th>\n",
              "      <td>1.000000</td>\n",
              "      <td>0.943451</td>\n",
              "      <td>0.846822</td>\n",
              "      <td>0.338834</td>\n",
              "      <td>0.351640</td>\n",
              "      <td>0.814491</td>\n",
              "      <td>0.398264</td>\n",
              "      <td>0.050159</td>\n",
              "      <td>0.164939</td>\n",
              "      <td>0.132559</td>\n",
              "      <td>0.178731</td>\n",
              "      <td>0.390697</td>\n",
              "      <td>0.369491</td>\n",
              "      <td>0.095633</td>\n",
              "      <td>-0.090226</td>\n",
              "      <td>0.259592</td>\n",
              "      <td>0.146755</td>\n",
              "    </tr>\n",
              "    <tr>\n",
              "      <th>Accept</th>\n",
              "      <td>0.943451</td>\n",
              "      <td>1.000000</td>\n",
              "      <td>0.911637</td>\n",
              "      <td>0.192447</td>\n",
              "      <td>0.247476</td>\n",
              "      <td>0.874223</td>\n",
              "      <td>0.441271</td>\n",
              "      <td>-0.025755</td>\n",
              "      <td>0.090899</td>\n",
              "      <td>0.113525</td>\n",
              "      <td>0.200989</td>\n",
              "      <td>0.355758</td>\n",
              "      <td>0.337583</td>\n",
              "      <td>0.176229</td>\n",
              "      <td>-0.159990</td>\n",
              "      <td>0.124717</td>\n",
              "      <td>0.067313</td>\n",
              "    </tr>\n",
              "    <tr>\n",
              "      <th>Enroll</th>\n",
              "      <td>0.846822</td>\n",
              "      <td>0.911637</td>\n",
              "      <td>1.000000</td>\n",
              "      <td>0.181294</td>\n",
              "      <td>0.226745</td>\n",
              "      <td>0.964640</td>\n",
              "      <td>0.513069</td>\n",
              "      <td>-0.155477</td>\n",
              "      <td>-0.040232</td>\n",
              "      <td>0.112711</td>\n",
              "      <td>0.280929</td>\n",
              "      <td>0.331469</td>\n",
              "      <td>0.308274</td>\n",
              "      <td>0.237271</td>\n",
              "      <td>-0.180794</td>\n",
              "      <td>0.064169</td>\n",
              "      <td>-0.022341</td>\n",
              "    </tr>\n",
              "    <tr>\n",
              "      <th>Top10perc</th>\n",
              "      <td>0.338834</td>\n",
              "      <td>0.192447</td>\n",
              "      <td>0.181294</td>\n",
              "      <td>1.000000</td>\n",
              "      <td>0.891995</td>\n",
              "      <td>0.141289</td>\n",
              "      <td>-0.105356</td>\n",
              "      <td>0.562331</td>\n",
              "      <td>0.371480</td>\n",
              "      <td>0.118858</td>\n",
              "      <td>-0.093316</td>\n",
              "      <td>0.531828</td>\n",
              "      <td>0.491135</td>\n",
              "      <td>-0.384875</td>\n",
              "      <td>0.455485</td>\n",
              "      <td>0.660913</td>\n",
              "      <td>0.494989</td>\n",
              "    </tr>\n",
              "    <tr>\n",
              "      <th>Top25perc</th>\n",
              "      <td>0.351640</td>\n",
              "      <td>0.247476</td>\n",
              "      <td>0.226745</td>\n",
              "      <td>0.891995</td>\n",
              "      <td>1.000000</td>\n",
              "      <td>0.199445</td>\n",
              "      <td>-0.053577</td>\n",
              "      <td>0.489394</td>\n",
              "      <td>0.331490</td>\n",
              "      <td>0.115527</td>\n",
              "      <td>-0.080810</td>\n",
              "      <td>0.545862</td>\n",
              "      <td>0.524749</td>\n",
              "      <td>-0.294629</td>\n",
              "      <td>0.417864</td>\n",
              "      <td>0.527447</td>\n",
              "      <td>0.477281</td>\n",
              "    </tr>\n",
              "    <tr>\n",
              "      <th>F.Undergrad</th>\n",
              "      <td>0.814491</td>\n",
              "      <td>0.874223</td>\n",
              "      <td>0.964640</td>\n",
              "      <td>0.141289</td>\n",
              "      <td>0.199445</td>\n",
              "      <td>1.000000</td>\n",
              "      <td>0.570512</td>\n",
              "      <td>-0.215742</td>\n",
              "      <td>-0.068890</td>\n",
              "      <td>0.115550</td>\n",
              "      <td>0.317200</td>\n",
              "      <td>0.318337</td>\n",
              "      <td>0.300019</td>\n",
              "      <td>0.279703</td>\n",
              "      <td>-0.229462</td>\n",
              "      <td>0.018652</td>\n",
              "      <td>-0.078773</td>\n",
              "    </tr>\n",
              "    <tr>\n",
              "      <th>P.Undergrad</th>\n",
              "      <td>0.398264</td>\n",
              "      <td>0.441271</td>\n",
              "      <td>0.513069</td>\n",
              "      <td>-0.105356</td>\n",
              "      <td>-0.053577</td>\n",
              "      <td>0.570512</td>\n",
              "      <td>1.000000</td>\n",
              "      <td>-0.253512</td>\n",
              "      <td>-0.061326</td>\n",
              "      <td>0.081200</td>\n",
              "      <td>0.319882</td>\n",
              "      <td>0.149114</td>\n",
              "      <td>0.141904</td>\n",
              "      <td>0.232531</td>\n",
              "      <td>-0.280792</td>\n",
              "      <td>-0.083568</td>\n",
              "      <td>-0.257001</td>\n",
              "    </tr>\n",
              "    <tr>\n",
              "      <th>Outstate</th>\n",
              "      <td>0.050159</td>\n",
              "      <td>-0.025755</td>\n",
              "      <td>-0.155477</td>\n",
              "      <td>0.562331</td>\n",
              "      <td>0.489394</td>\n",
              "      <td>-0.215742</td>\n",
              "      <td>-0.253512</td>\n",
              "      <td>1.000000</td>\n",
              "      <td>0.654256</td>\n",
              "      <td>0.038855</td>\n",
              "      <td>-0.299087</td>\n",
              "      <td>0.382982</td>\n",
              "      <td>0.407983</td>\n",
              "      <td>-0.554821</td>\n",
              "      <td>0.566262</td>\n",
              "      <td>0.672779</td>\n",
              "      <td>0.571290</td>\n",
              "    </tr>\n",
              "    <tr>\n",
              "      <th>Room.Board</th>\n",
              "      <td>0.164939</td>\n",
              "      <td>0.090899</td>\n",
              "      <td>-0.040232</td>\n",
              "      <td>0.371480</td>\n",
              "      <td>0.331490</td>\n",
              "      <td>-0.068890</td>\n",
              "      <td>-0.061326</td>\n",
              "      <td>0.654256</td>\n",
              "      <td>1.000000</td>\n",
              "      <td>0.127963</td>\n",
              "      <td>-0.199428</td>\n",
              "      <td>0.329202</td>\n",
              "      <td>0.374540</td>\n",
              "      <td>-0.362628</td>\n",
              "      <td>0.272363</td>\n",
              "      <td>0.501739</td>\n",
              "      <td>0.424942</td>\n",
              "    </tr>\n",
              "    <tr>\n",
              "      <th>Books</th>\n",
              "      <td>0.132559</td>\n",
              "      <td>0.113525</td>\n",
              "      <td>0.112711</td>\n",
              "      <td>0.118858</td>\n",
              "      <td>0.115527</td>\n",
              "      <td>0.115550</td>\n",
              "      <td>0.081200</td>\n",
              "      <td>0.038855</td>\n",
              "      <td>0.127963</td>\n",
              "      <td>1.000000</td>\n",
              "      <td>0.179295</td>\n",
              "      <td>0.026906</td>\n",
              "      <td>0.099955</td>\n",
              "      <td>-0.031929</td>\n",
              "      <td>-0.040208</td>\n",
              "      <td>0.112409</td>\n",
              "      <td>0.001061</td>\n",
              "    </tr>\n",
              "    <tr>\n",
              "      <th>Personal</th>\n",
              "      <td>0.178731</td>\n",
              "      <td>0.200989</td>\n",
              "      <td>0.280929</td>\n",
              "      <td>-0.093316</td>\n",
              "      <td>-0.080810</td>\n",
              "      <td>0.317200</td>\n",
              "      <td>0.319882</td>\n",
              "      <td>-0.299087</td>\n",
              "      <td>-0.199428</td>\n",
              "      <td>0.179295</td>\n",
              "      <td>1.000000</td>\n",
              "      <td>-0.010936</td>\n",
              "      <td>-0.030613</td>\n",
              "      <td>0.136345</td>\n",
              "      <td>-0.285968</td>\n",
              "      <td>-0.097892</td>\n",
              "      <td>-0.269344</td>\n",
              "    </tr>\n",
              "    <tr>\n",
              "      <th>PhD</th>\n",
              "      <td>0.390697</td>\n",
              "      <td>0.355758</td>\n",
              "      <td>0.331469</td>\n",
              "      <td>0.531828</td>\n",
              "      <td>0.545862</td>\n",
              "      <td>0.318337</td>\n",
              "      <td>0.149114</td>\n",
              "      <td>0.382982</td>\n",
              "      <td>0.329202</td>\n",
              "      <td>0.026906</td>\n",
              "      <td>-0.010936</td>\n",
              "      <td>1.000000</td>\n",
              "      <td>0.849587</td>\n",
              "      <td>-0.130530</td>\n",
              "      <td>0.249009</td>\n",
              "      <td>0.432762</td>\n",
              "      <td>0.305038</td>\n",
              "    </tr>\n",
              "    <tr>\n",
              "      <th>Terminal</th>\n",
              "      <td>0.369491</td>\n",
              "      <td>0.337583</td>\n",
              "      <td>0.308274</td>\n",
              "      <td>0.491135</td>\n",
              "      <td>0.524749</td>\n",
              "      <td>0.300019</td>\n",
              "      <td>0.141904</td>\n",
              "      <td>0.407983</td>\n",
              "      <td>0.374540</td>\n",
              "      <td>0.099955</td>\n",
              "      <td>-0.030613</td>\n",
              "      <td>0.849587</td>\n",
              "      <td>1.000000</td>\n",
              "      <td>-0.160104</td>\n",
              "      <td>0.267130</td>\n",
              "      <td>0.438799</td>\n",
              "      <td>0.289527</td>\n",
              "    </tr>\n",
              "    <tr>\n",
              "      <th>S.F.Ratio</th>\n",
              "      <td>0.095633</td>\n",
              "      <td>0.176229</td>\n",
              "      <td>0.237271</td>\n",
              "      <td>-0.384875</td>\n",
              "      <td>-0.294629</td>\n",
              "      <td>0.279703</td>\n",
              "      <td>0.232531</td>\n",
              "      <td>-0.554821</td>\n",
              "      <td>-0.362628</td>\n",
              "      <td>-0.031929</td>\n",
              "      <td>0.136345</td>\n",
              "      <td>-0.130530</td>\n",
              "      <td>-0.160104</td>\n",
              "      <td>1.000000</td>\n",
              "      <td>-0.402929</td>\n",
              "      <td>-0.583832</td>\n",
              "      <td>-0.306710</td>\n",
              "    </tr>\n",
              "    <tr>\n",
              "      <th>perc.alumni</th>\n",
              "      <td>-0.090226</td>\n",
              "      <td>-0.159990</td>\n",
              "      <td>-0.180794</td>\n",
              "      <td>0.455485</td>\n",
              "      <td>0.417864</td>\n",
              "      <td>-0.229462</td>\n",
              "      <td>-0.280792</td>\n",
              "      <td>0.566262</td>\n",
              "      <td>0.272363</td>\n",
              "      <td>-0.040208</td>\n",
              "      <td>-0.285968</td>\n",
              "      <td>0.249009</td>\n",
              "      <td>0.267130</td>\n",
              "      <td>-0.402929</td>\n",
              "      <td>1.000000</td>\n",
              "      <td>0.417712</td>\n",
              "      <td>0.490898</td>\n",
              "    </tr>\n",
              "    <tr>\n",
              "      <th>Expend</th>\n",
              "      <td>0.259592</td>\n",
              "      <td>0.124717</td>\n",
              "      <td>0.064169</td>\n",
              "      <td>0.660913</td>\n",
              "      <td>0.527447</td>\n",
              "      <td>0.018652</td>\n",
              "      <td>-0.083568</td>\n",
              "      <td>0.672779</td>\n",
              "      <td>0.501739</td>\n",
              "      <td>0.112409</td>\n",
              "      <td>-0.097892</td>\n",
              "      <td>0.432762</td>\n",
              "      <td>0.438799</td>\n",
              "      <td>-0.583832</td>\n",
              "      <td>0.417712</td>\n",
              "      <td>1.000000</td>\n",
              "      <td>0.390343</td>\n",
              "    </tr>\n",
              "    <tr>\n",
              "      <th>Grad.Rate</th>\n",
              "      <td>0.146755</td>\n",
              "      <td>0.067313</td>\n",
              "      <td>-0.022341</td>\n",
              "      <td>0.494989</td>\n",
              "      <td>0.477281</td>\n",
              "      <td>-0.078773</td>\n",
              "      <td>-0.257001</td>\n",
              "      <td>0.571290</td>\n",
              "      <td>0.424942</td>\n",
              "      <td>0.001061</td>\n",
              "      <td>-0.269344</td>\n",
              "      <td>0.305038</td>\n",
              "      <td>0.289527</td>\n",
              "      <td>-0.306710</td>\n",
              "      <td>0.490898</td>\n",
              "      <td>0.390343</td>\n",
              "      <td>1.000000</td>\n",
              "    </tr>\n",
              "  </tbody>\n",
              "</table>\n",
              "</div>"
            ],
            "text/plain": [
              "                 Apps    Accept    Enroll  ...  perc.alumni    Expend  Grad.Rate\n",
              "Apps         1.000000  0.943451  0.846822  ...    -0.090226  0.259592   0.146755\n",
              "Accept       0.943451  1.000000  0.911637  ...    -0.159990  0.124717   0.067313\n",
              "Enroll       0.846822  0.911637  1.000000  ...    -0.180794  0.064169  -0.022341\n",
              "Top10perc    0.338834  0.192447  0.181294  ...     0.455485  0.660913   0.494989\n",
              "Top25perc    0.351640  0.247476  0.226745  ...     0.417864  0.527447   0.477281\n",
              "F.Undergrad  0.814491  0.874223  0.964640  ...    -0.229462  0.018652  -0.078773\n",
              "P.Undergrad  0.398264  0.441271  0.513069  ...    -0.280792 -0.083568  -0.257001\n",
              "Outstate     0.050159 -0.025755 -0.155477  ...     0.566262  0.672779   0.571290\n",
              "Room.Board   0.164939  0.090899 -0.040232  ...     0.272363  0.501739   0.424942\n",
              "Books        0.132559  0.113525  0.112711  ...    -0.040208  0.112409   0.001061\n",
              "Personal     0.178731  0.200989  0.280929  ...    -0.285968 -0.097892  -0.269344\n",
              "PhD          0.390697  0.355758  0.331469  ...     0.249009  0.432762   0.305038\n",
              "Terminal     0.369491  0.337583  0.308274  ...     0.267130  0.438799   0.289527\n",
              "S.F.Ratio    0.095633  0.176229  0.237271  ...    -0.402929 -0.583832  -0.306710\n",
              "perc.alumni -0.090226 -0.159990 -0.180794  ...     1.000000  0.417712   0.490898\n",
              "Expend       0.259592  0.124717  0.064169  ...     0.417712  1.000000   0.390343\n",
              "Grad.Rate    0.146755  0.067313 -0.022341  ...     0.490898  0.390343   1.000000\n",
              "\n",
              "[17 rows x 17 columns]"
            ]
          },
          "metadata": {
            "tags": []
          },
          "execution_count": 9
        }
      ]
    },
    {
      "cell_type": "code",
      "metadata": {
        "colab": {
          "base_uri": "https://localhost:8080/",
          "height": 544
        },
        "id": "vKrPdX3A3qmq",
        "outputId": "6d7ad146-2108-4183-c05e-66b84e30ffb8"
      },
      "source": [
        "fig = plt.figure(figsize=(9,9))\r\n",
        "corr_df = df.corr()\r\n",
        "mask = np.zeros_like(corr_df)\r\n",
        "mask[np.triu_indices_from(mask)] = True\r\n",
        "sns.heatmap(corr_df, mask=mask, cmap=\"YlGnBu\",center=0,\r\n",
        "            square=True)\r\n",
        "plt.show()"
      ],
      "execution_count": 10,
      "outputs": [
        {
          "output_type": "display_data",
          "data": {
            "image/png": "[encoded data removed]",
            "text/plain": [
              "<Figure size 648x648 with 2 Axes>"
            ]
          },
          "metadata": {
            "tags": [],
            "needs_background": "light"
          }
        }
      ]
    },
    {
      "cell_type": "code",
      "metadata": {
        "colab": {
          "base_uri": "https://localhost:8080/"
        },
        "id": "kOa6zfPI3tNb",
        "outputId": "bf581c73-823c-4cb9-c8b4-80ab05d580ba"
      },
      "source": [
        "corr = df.corr().stack()\r\n",
        "corr = corr[corr.index.get_level_values(0) != corr.index.get_level_values(1)]\r\n",
        "corr.abs().max()"
      ],
      "execution_count": 11,
      "outputs": [
        {
          "output_type": "execute_result",
          "data": {
            "text/plain": [
              "0.9646396519522417"
            ]
          },
          "metadata": {
            "tags": []
          },
          "execution_count": 11
        }
      ]
    },
    {
      "cell_type": "code",
      "metadata": {
        "colab": {
          "base_uri": "https://localhost:8080/",
          "height": 501
        },
        "id": "umtCdOSO3wyT",
        "outputId": "1cf83da6-4db9-4ee1-f0ad-1e9c832a83a4"
      },
      "source": [
        "plt.figure(figsize = (10,8))\r\n",
        "plt.scatter(x =df['F.Undergrad'],y =df['Enroll'])"
      ],
      "execution_count": 12,
      "outputs": [
        {
          "output_type": "execute_result",
          "data": {
            "text/plain": [
              "<matplotlib.collections.PathCollection at 0x7f677df773c8>"
            ]
          },
          "metadata": {
            "tags": []
          },
          "execution_count": 12
        },
        {
          "output_type": "display_data",
          "data": {
            "image/png": "[encoded data removed]",
            "text/plain": [
              "<Figure size 720x576 with 1 Axes>"
            ]
          },
          "metadata": {
            "tags": [],
            "needs_background": "light"
          }
        }
      ]
    },
    {
      "cell_type": "code",
      "metadata": {
        "colab": {
          "base_uri": "https://localhost:8080/"
        },
        "id": "9GkhS6Ih3zVP",
        "outputId": "663e03ad-da90-447b-9844-c564165c52bc"
      },
      "source": [
        "corr.abs().min()"
      ],
      "execution_count": 13,
      "outputs": [
        {
          "output_type": "execute_result",
          "data": {
            "text/plain": [
              "0.0010608943965531275"
            ]
          },
          "metadata": {
            "tags": []
          },
          "execution_count": 13
        }
      ]
    },
    {
      "cell_type": "code",
      "metadata": {
        "colab": {
          "base_uri": "https://localhost:8080/",
          "height": 501
        },
        "id": "DUYAqpKu32aS",
        "outputId": "5a472e94-8063-4b42-debc-d96d7838bc05"
      },
      "source": [
        "plt.figure(figsize = (10,8))\r\n",
        "plt.scatter(x =df['Grad.Rate'],y =df['Books'])"
      ],
      "execution_count": 14,
      "outputs": [
        {
          "output_type": "execute_result",
          "data": {
            "text/plain": [
              "<matplotlib.collections.PathCollection at 0x7f677dedc588>"
            ]
          },
          "metadata": {
            "tags": []
          },
          "execution_count": 14
        },
        {
          "output_type": "display_data",
          "data": {
            "image/png": "[encoded data removed]",
            "text/plain": [
              "<Figure size 720x576 with 1 Axes>"
            ]
          },
          "metadata": {
            "tags": [],
            "needs_background": "light"
          }
        }
      ]
    },
    {
      "cell_type": "code",
      "metadata": {
        "colab": {
          "base_uri": "https://localhost:8080/",
          "height": 1000
        },
        "id": "FF-kCnN134fp",
        "outputId": "2ec091d2-9993-4e43-a0c5-46b5fef2ce91"
      },
      "source": [
        "fig = plt.figure(figsize=[12,15])\r\n",
        "sup1 = fig.add_subplot(331)\r\n",
        "sns.boxplot(df['Apps'])\r\n",
        "\r\n",
        "sup2 = fig.add_subplot(332)\r\n",
        "sns.boxplot(df['Accept'])\r\n",
        "\r\n",
        "sup3 = fig.add_subplot(333)\r\n",
        "sns.boxplot(df['Enroll'])\r\n",
        "\r\n",
        "sup4 = fig.add_subplot(334)\r\n",
        "sns.boxplot(df['Top10perc'])\r\n",
        "\r\n",
        "sup5 = fig.add_subplot(335)\r\n",
        "sns.boxplot(df['Top25perc'])\r\n",
        "\r\n",
        "sup6 = fig.add_subplot(336)\r\n",
        "sns.boxplot(df['F.Undergrad'])\r\n",
        "\r\n",
        "sup7 = fig.add_subplot(337)\r\n",
        "sns.boxplot(df['P.Undergrad'])\r\n",
        "\r\n",
        "sup8 = fig.add_subplot(338)\r\n",
        "sns.boxplot(df['Outstate'])\r\n",
        "\r\n",
        "\r\n",
        "sup9 = fig.add_subplot(339)\r\n",
        "sns.boxplot(df['Room.Board'])\r\n",
        "\r\n",
        "\r\n",
        "fig.set_figheight(20)\r\n",
        "fig.set_figwidth(20)\r\n",
        "plt.tight_layout()"
      ],
      "execution_count": 15,
      "outputs": [
        {
          "output_type": "stream",
          "text": [
            "/usr/local/lib/python3.6/dist-packages/seaborn/_decorators.py:43: FutureWarning: Pass the following variable as a keyword arg: x. From version 0.12, the only valid positional argument will be `data`, and passing other arguments without an explicit keyword will result in an error or misinterpretation.\n",
            "  FutureWarning\n",
            "/usr/local/lib/python3.6/dist-packages/seaborn/_decorators.py:43: FutureWarning: Pass the following variable as a keyword arg: x. From version 0.12, the only valid positional argument will be `data`, and passing other arguments without an explicit keyword will result in an error or misinterpretation.\n",
            "  FutureWarning\n",
            "/usr/local/lib/python3.6/dist-packages/seaborn/_decorators.py:43: FutureWarning: Pass the following variable as a keyword arg: x. From version 0.12, the only valid positional argument will be `data`, and passing other arguments without an explicit keyword will result in an error or misinterpretation.\n",
            "  FutureWarning\n",
            "/usr/local/lib/python3.6/dist-packages/seaborn/_decorators.py:43: FutureWarning: Pass the following variable as a keyword arg: x. From version 0.12, the only valid positional argument will be `data`, and passing other arguments without an explicit keyword will result in an error or misinterpretation.\n",
            "  FutureWarning\n",
            "/usr/local/lib/python3.6/dist-packages/seaborn/_decorators.py:43: FutureWarning: Pass the following variable as a keyword arg: x. From version 0.12, the only valid positional argument will be `data`, and passing other arguments without an explicit keyword will result in an error or misinterpretation.\n",
            "  FutureWarning\n",
            "/usr/local/lib/python3.6/dist-packages/seaborn/_decorators.py:43: FutureWarning: Pass the following variable as a keyword arg: x. From version 0.12, the only valid positional argument will be `data`, and passing other arguments without an explicit keyword will result in an error or misinterpretation.\n",
            "  FutureWarning\n",
            "/usr/local/lib/python3.6/dist-packages/seaborn/_decorators.py:43: FutureWarning: Pass the following variable as a keyword arg: x. From version 0.12, the only valid positional argument will be `data`, and passing other arguments without an explicit keyword will result in an error or misinterpretation.\n",
            "  FutureWarning\n",
            "/usr/local/lib/python3.6/dist-packages/seaborn/_decorators.py:43: FutureWarning: Pass the following variable as a keyword arg: x. From version 0.12, the only valid positional argument will be `data`, and passing other arguments without an explicit keyword will result in an error or misinterpretation.\n",
            "  FutureWarning\n",
            "/usr/local/lib/python3.6/dist-packages/seaborn/_decorators.py:43: FutureWarning: Pass the following variable as a keyword arg: x. From version 0.12, the only valid positional argument will be `data`, and passing other arguments without an explicit keyword will result in an error or misinterpretation.\n",
            "  FutureWarning\n"
          ],
          "name": "stderr"
        },
        {
          "output_type": "display_data",
          "data": {
            "image/png": "[encoded data removed]",
            "text/plain": [
              "<Figure size 1440x1440 with 9 Axes>"
            ]
          },
          "metadata": {
            "tags": [],
            "needs_background": "light"
          }
        }
      ]
    },
    {
      "cell_type": "code",
      "metadata": {
        "colab": {
          "base_uri": "https://localhost:8080/",
          "height": 279
        },
        "id": "wQlnFzkA3_Vj",
        "outputId": "ca92e88e-985f-41a2-cb0d-88cbe651c332"
      },
      "source": [
        "ax = sns.countplot(x=\"Private\", data=df)"
      ],
      "execution_count": 16,
      "outputs": [
        {
          "output_type": "display_data",
          "data": {
            "image/png": "[encoded data removed]",
            "text/plain": [
              "<Figure size 432x288 with 1 Axes>"
            ]
          },
          "metadata": {
            "tags": [],
            "needs_background": "light"
          }
        }
      ]
    },
    {
      "cell_type": "code",
      "metadata": {
        "colab": {
          "base_uri": "https://localhost:8080/",
          "height": 279
        },
        "id": "ZbY5hw5w4CLA",
        "outputId": "f308aec2-db99-47f1-9f27-3d9b8daabbab"
      },
      "source": [
        "ax = sns.countplot(y=\"Private\", data=df)"
      ],
      "execution_count": 17,
      "outputs": [
        {
          "output_type": "display_data",
          "data": {
            "image/png": "[encoded data removed]",
            "text/plain": [
              "<Figure size 432x288 with 1 Axes>"
            ]
          },
          "metadata": {
            "tags": [],
            "needs_background": "light"
          }
        }
      ]
    },
    {
      "cell_type": "code",
      "metadata": {
        "colab": {
          "base_uri": "https://localhost:8080/",
          "height": 279
        },
        "id": "Ptj35CQT4Dwf",
        "outputId": "87459c32-c48a-4966-9523-716ad9a6bcf6"
      },
      "source": [
        "ax = sns.barplot(x=\"Private\", y=\"Grad.Rate\", data=df)"
      ],
      "execution_count": 18,
      "outputs": [
        {
          "output_type": "display_data",
          "data": {
            "image/png": "[encoded data removed]",
            "text/plain": [
              "<Figure size 432x288 with 1 Axes>"
            ]
          },
          "metadata": {
            "tags": [],
            "needs_background": "light"
          }
        }
      ]
    },
    {
      "cell_type": "code",
      "metadata": {
        "colab": {
          "base_uri": "https://localhost:8080/",
          "height": 161
        },
        "id": "BUFPcrd54F7f",
        "outputId": "47aaf37b-7c13-4ffb-a676-6d3275ffdca1"
      },
      "source": [
        "df.groupby('Private').mean()"
      ],
      "execution_count": 19,
      "outputs": [
        {
          "output_type": "execute_result",
          "data": {
            "text/html": [
              "<div>\n",
              "<style scoped>\n",
              "    .dataframe tbody tr th:only-of-type {\n",
              "        vertical-align: middle;\n",
              "    }\n",
              "\n",
              "    .dataframe tbody tr th {\n",
              "        vertical-align: top;\n",
              "    }\n",
              "\n",
              "    .dataframe thead th {\n",
              "        text-align: right;\n",
              "    }\n",
              "</style>\n",
              "<table border=\"1\" class=\"dataframe\">\n",
              "  <thead>\n",
              "    <tr style=\"text-align: right;\">\n",
              "      <th></th>\n",
              "      <th>Apps</th>\n",
              "      <th>Accept</th>\n",
              "      <th>Enroll</th>\n",
              "      <th>Top10perc</th>\n",
              "      <th>Top25perc</th>\n",
              "      <th>F.Undergrad</th>\n",
              "      <th>P.Undergrad</th>\n",
              "      <th>Outstate</th>\n",
              "      <th>Room.Board</th>\n",
              "      <th>Books</th>\n",
              "      <th>Personal</th>\n",
              "      <th>PhD</th>\n",
              "      <th>Terminal</th>\n",
              "      <th>S.F.Ratio</th>\n",
              "      <th>perc.alumni</th>\n",
              "      <th>Expend</th>\n",
              "      <th>Grad.Rate</th>\n",
              "    </tr>\n",
              "    <tr>\n",
              "      <th>Private</th>\n",
              "      <th></th>\n",
              "      <th></th>\n",
              "      <th></th>\n",
              "      <th></th>\n",
              "      <th></th>\n",
              "      <th></th>\n",
              "      <th></th>\n",
              "      <th></th>\n",
              "      <th></th>\n",
              "      <th></th>\n",
              "      <th></th>\n",
              "      <th></th>\n",
              "      <th></th>\n",
              "      <th></th>\n",
              "      <th></th>\n",
              "      <th></th>\n",
              "      <th></th>\n",
              "    </tr>\n",
              "  </thead>\n",
              "  <tbody>\n",
              "    <tr>\n",
              "      <th>No</th>\n",
              "      <td>5729.919811</td>\n",
              "      <td>3919.287736</td>\n",
              "      <td>1640.872642</td>\n",
              "      <td>22.834906</td>\n",
              "      <td>52.702830</td>\n",
              "      <td>8571.004717</td>\n",
              "      <td>1978.188679</td>\n",
              "      <td>6813.410377</td>\n",
              "      <td>3748.240566</td>\n",
              "      <td>554.377358</td>\n",
              "      <td>1676.981132</td>\n",
              "      <td>76.834906</td>\n",
              "      <td>82.816038</td>\n",
              "      <td>17.139151</td>\n",
              "      <td>14.358491</td>\n",
              "      <td>7458.316038</td>\n",
              "      <td>56.042453</td>\n",
              "    </tr>\n",
              "    <tr>\n",
              "      <th>Yes</th>\n",
              "      <td>1977.929204</td>\n",
              "      <td>1305.702655</td>\n",
              "      <td>456.945133</td>\n",
              "      <td>29.330973</td>\n",
              "      <td>56.957522</td>\n",
              "      <td>1872.168142</td>\n",
              "      <td>433.966372</td>\n",
              "      <td>11801.693805</td>\n",
              "      <td>4586.143363</td>\n",
              "      <td>547.506195</td>\n",
              "      <td>1214.440708</td>\n",
              "      <td>71.093805</td>\n",
              "      <td>78.534513</td>\n",
              "      <td>12.945487</td>\n",
              "      <td>25.890265</td>\n",
              "      <td>10486.353982</td>\n",
              "      <td>68.998230</td>\n",
              "    </tr>\n",
              "  </tbody>\n",
              "</table>\n",
              "</div>"
            ],
            "text/plain": [
              "                Apps       Accept  ...        Expend  Grad.Rate\n",
              "Private                            ...                         \n",
              "No       5729.919811  3919.287736  ...   7458.316038  56.042453\n",
              "Yes      1977.929204  1305.702655  ...  10486.353982  68.998230\n",
              "\n",
              "[2 rows x 17 columns]"
            ]
          },
          "metadata": {
            "tags": []
          },
          "execution_count": 19
        }
      ]
    },
    {
      "cell_type": "code",
      "metadata": {
        "colab": {
          "base_uri": "https://localhost:8080/",
          "height": 542
        },
        "id": "xAkwVdws4H-_",
        "outputId": "01b9291d-ec60-48e7-d096-64e6a229f36e"
      },
      "source": [
        "import plotly.express as px\r\n",
        "fig = px.pie(df, values= df['Private'].value_counts(), names=df['Private'].value_counts().index, title='ยอดสมัครเข้ามหาวิทยาลัยทั้งหมดโดยแบ่งเป็นมหาวิทยาลัยรัฐกับเอกชน')\r\n",
        "fig.show()"
      ],
      "execution_count": 20,
      "outputs": [
        {
          "output_type": "display_data",
          "data": {
            "text/html": [
              "<html>\n",
              "<head><meta charset=\"utf-8\" /></head>\n",
              "<body>\n",
              "    <div>\n",
              "            <script src=\"https://cdnjs.cloudflare.com/ajax/libs/mathjax/2.7.5/MathJax.js?config=TeX-AMS-MML_SVG\"></script><script type=\"text/javascript\">if (window.MathJax) {MathJax.Hub.Config({SVG: {font: \"STIX-Web\"}});}</script>\n",
              "                <script type=\"text/javascript\">window.PlotlyConfig = {MathJaxConfig: 'local'};</script>\n",
              "        <script src=\"https://cdn.plot.ly/plotly-latest.min.js\"></script>    \n",
              "            <div id=\"2c417cd5-8627-4092-886e-b33559335e06\" class=\"plotly-graph-div\" style=\"height:525px; width:100%;\"></div>\n",
              "            <script type=\"text/javascript\">\n",
              "                \n",
              "                    window.PLOTLYENV=window.PLOTLYENV || {};\n",
              "                    \n",
              "                if (document.getElementById(\"2c417cd5-8627-4092-886e-b33559335e06\")) {\n",
              "                    Plotly.newPlot(\n",
              "                        '2c417cd5-8627-4092-886e-b33559335e06',\n",
              "                        [{\"domain\": {\"x\": [0.0, 1.0], \"y\": [0.0, 1.0]}, \"hoverlabel\": {\"namelength\": 0}, \"hovertemplate\": \"label=%{label}<br>value=%{value}\", \"labels\": [\"Yes\", \"No\"], \"legendgroup\": \"\", \"name\": \"\", \"showlegend\": true, \"type\": \"pie\", \"values\": [565, 212]}],\n",
              "                        {\"legend\": {\"tracegroupgap\": 0}, \"template\": {\"data\": {\"bar\": [{\"error_x\": {\"color\": \"#2a3f5f\"}, \"error_y\": {\"color\": \"#2a3f5f\"}, \"marker\": {\"line\": {\"color\": \"#E5ECF6\", \"width\": 0.5}}, \"type\": \"bar\"}], \"barpolar\": [{\"marker\": {\"line\": {\"color\": \"#E5ECF6\", \"width\": 0.5}}, \"type\": \"barpolar\"}], \"carpet\": [{\"aaxis\": {\"endlinecolor\": \"#2a3f5f\", \"gridcolor\": \"white\", \"linecolor\": \"white\", \"minorgridcolor\": \"white\", \"startlinecolor\": \"#2a3f5f\"}, \"baxis\": {\"endlinecolor\": \"#2a3f5f\", \"gridcolor\": \"white\", \"linecolor\": \"white\", \"minorgridcolor\": \"white\", \"startlinecolor\": \"#2a3f5f\"}, \"type\": \"carpet\"}], \"choropleth\": [{\"colorbar\": {\"outlinewidth\": 0, \"ticks\": \"\"}, \"type\": \"choropleth\"}], \"contour\": [{\"colorbar\": {\"outlinewidth\": 0, \"ticks\": \"\"}, \"colorscale\": [[0.0, \"#0d0887\"], [0.1111111111111111, \"#46039f\"], [0.2222222222222222, \"#7201a8\"], [0.3333333333333333, \"#9c179e\"], [0.4444444444444444, \"#bd3786\"], [0.5555555555555556, \"#d8576b\"], [0.6666666666666666, \"#ed7953\"], [0.7777777777777778, \"#fb9f3a\"], [0.8888888888888888, \"#fdca26\"], [1.0, \"#f0f921\"]], \"type\": \"contour\"}], \"contourcarpet\": [{\"colorbar\": {\"outlinewidth\": 0, \"ticks\": \"\"}, \"type\": \"contourcarpet\"}], \"heatmap\": [{\"colorbar\": {\"outlinewidth\": 0, \"ticks\": \"\"}, \"colorscale\": [[0.0, \"#0d0887\"], [0.1111111111111111, \"#46039f\"], [0.2222222222222222, \"#7201a8\"], [0.3333333333333333, \"#9c179e\"], [0.4444444444444444, \"#bd3786\"], [0.5555555555555556, \"#d8576b\"], [0.6666666666666666, \"#ed7953\"], [0.7777777777777778, \"#fb9f3a\"], [0.8888888888888888, \"#fdca26\"], [1.0, \"#f0f921\"]], \"type\": \"heatmap\"}], \"heatmapgl\": [{\"colorbar\": {\"outlinewidth\": 0, \"ticks\": \"\"}, \"colorscale\": [[0.0, \"#0d0887\"], [0.1111111111111111, \"#46039f\"], [0.2222222222222222, \"#7201a8\"], [0.3333333333333333, \"#9c179e\"], [0.4444444444444444, \"#bd3786\"], [0.5555555555555556, \"#d8576b\"], [0.6666666666666666, \"#ed7953\"], [0.7777777777777778, \"#fb9f3a\"], [0.8888888888888888, \"#fdca26\"], [1.0, \"#f0f921\"]], \"type\": \"heatmapgl\"}], \"histogram\": [{\"marker\": {\"colorbar\": {\"outlinewidth\": 0, \"ticks\": \"\"}}, \"type\": \"histogram\"}], \"histogram2d\": [{\"colorbar\": {\"outlinewidth\": 0, \"ticks\": \"\"}, \"colorscale\": [[0.0, \"#0d0887\"], [0.1111111111111111, \"#46039f\"], [0.2222222222222222, \"#7201a8\"], [0.3333333333333333, \"#9c179e\"], [0.4444444444444444, \"#bd3786\"], [0.5555555555555556, \"#d8576b\"], [0.6666666666666666, \"#ed7953\"], [0.7777777777777778, \"#fb9f3a\"], [0.8888888888888888, \"#fdca26\"], [1.0, \"#f0f921\"]], \"type\": \"histogram2d\"}], \"histogram2dcontour\": [{\"colorbar\": {\"outlinewidth\": 0, \"ticks\": \"\"}, \"colorscale\": [[0.0, \"#0d0887\"], [0.1111111111111111, \"#46039f\"], [0.2222222222222222, \"#7201a8\"], [0.3333333333333333, \"#9c179e\"], [0.4444444444444444, \"#bd3786\"], [0.5555555555555556, \"#d8576b\"], [0.6666666666666666, \"#ed7953\"], [0.7777777777777778, \"#fb9f3a\"], [0.8888888888888888, \"#fdca26\"], [1.0, \"#f0f921\"]], \"type\": \"histogram2dcontour\"}], \"mesh3d\": [{\"colorbar\": {\"outlinewidth\": 0, \"ticks\": \"\"}, \"type\": \"mesh3d\"}], \"parcoords\": [{\"line\": {\"colorbar\": {\"outlinewidth\": 0, \"ticks\": \"\"}}, \"type\": \"parcoords\"}], \"pie\": [{\"automargin\": true, \"type\": \"pie\"}], \"scatter\": [{\"marker\": {\"colorbar\": {\"outlinewidth\": 0, \"ticks\": \"\"}}, \"type\": \"scatter\"}], \"scatter3d\": [{\"line\": {\"colorbar\": {\"outlinewidth\": 0, \"ticks\": \"\"}}, \"marker\": {\"colorbar\": {\"outlinewidth\": 0, \"ticks\": \"\"}}, \"type\": \"scatter3d\"}], \"scattercarpet\": [{\"marker\": {\"colorbar\": {\"outlinewidth\": 0, \"ticks\": \"\"}}, \"type\": \"scattercarpet\"}], \"scattergeo\": [{\"marker\": {\"colorbar\": {\"outlinewidth\": 0, \"ticks\": \"\"}}, \"type\": \"scattergeo\"}], \"scattergl\": [{\"marker\": {\"colorbar\": {\"outlinewidth\": 0, \"ticks\": \"\"}}, \"type\": \"scattergl\"}], \"scattermapbox\": [{\"marker\": {\"colorbar\": {\"outlinewidth\": 0, \"ticks\": \"\"}}, \"type\": \"scattermapbox\"}], \"scatterpolar\": [{\"marker\": {\"colorbar\": {\"outlinewidth\": 0, \"ticks\": \"\"}}, \"type\": \"scatterpolar\"}], \"scatterpolargl\": [{\"marker\": {\"colorbar\": {\"outlinewidth\": 0, \"ticks\": \"\"}}, \"type\": \"scatterpolargl\"}], \"scatterternary\": [{\"marker\": {\"colorbar\": {\"outlinewidth\": 0, \"ticks\": \"\"}}, \"type\": \"scatterternary\"}], \"surface\": [{\"colorbar\": {\"outlinewidth\": 0, \"ticks\": \"\"}, \"colorscale\": [[0.0, \"#0d0887\"], [0.1111111111111111, \"#46039f\"], [0.2222222222222222, \"#7201a8\"], [0.3333333333333333, \"#9c179e\"], [0.4444444444444444, \"#bd3786\"], [0.5555555555555556, \"#d8576b\"], [0.6666666666666666, \"#ed7953\"], [0.7777777777777778, \"#fb9f3a\"], [0.8888888888888888, \"#fdca26\"], [1.0, \"#f0f921\"]], \"type\": \"surface\"}], \"table\": [{\"cells\": {\"fill\": {\"color\": \"#EBF0F8\"}, \"line\": {\"color\": \"white\"}}, \"header\": {\"fill\": {\"color\": \"#C8D4E3\"}, \"line\": {\"color\": \"white\"}}, \"type\": \"table\"}]}, \"layout\": {\"annotationdefaults\": {\"arrowcolor\": \"#2a3f5f\", \"arrowhead\": 0, \"arrowwidth\": 1}, \"coloraxis\": {\"colorbar\": {\"outlinewidth\": 0, \"ticks\": \"\"}}, \"colorscale\": {\"diverging\": [[0, \"#8e0152\"], [0.1, \"#c51b7d\"], [0.2, \"#de77ae\"], [0.3, \"#f1b6da\"], [0.4, \"#fde0ef\"], [0.5, \"#f7f7f7\"], [0.6, \"#e6f5d0\"], [0.7, \"#b8e186\"], [0.8, \"#7fbc41\"], [0.9, \"#4d9221\"], [1, \"#276419\"]], \"sequential\": [[0.0, \"#0d0887\"], [0.1111111111111111, \"#46039f\"], [0.2222222222222222, \"#7201a8\"], [0.3333333333333333, \"#9c179e\"], [0.4444444444444444, \"#bd3786\"], [0.5555555555555556, \"#d8576b\"], [0.6666666666666666, \"#ed7953\"], [0.7777777777777778, \"#fb9f3a\"], [0.8888888888888888, \"#fdca26\"], [1.0, \"#f0f921\"]], \"sequentialminus\": [[0.0, \"#0d0887\"], [0.1111111111111111, \"#46039f\"], [0.2222222222222222, \"#7201a8\"], [0.3333333333333333, \"#9c179e\"], [0.4444444444444444, \"#bd3786\"], [0.5555555555555556, \"#d8576b\"], [0.6666666666666666, \"#ed7953\"], [0.7777777777777778, \"#fb9f3a\"], [0.8888888888888888, \"#fdca26\"], [1.0, \"#f0f921\"]]}, \"colorway\": [\"#636efa\", \"#EF553B\", \"#00cc96\", \"#ab63fa\", \"#FFA15A\", \"#19d3f3\", \"#FF6692\", \"#B6E880\", \"#FF97FF\", \"#FECB52\"], \"font\": {\"color\": \"#2a3f5f\"}, \"geo\": {\"bgcolor\": \"white\", \"lakecolor\": \"white\", \"landcolor\": \"#E5ECF6\", \"showlakes\": true, \"showland\": true, \"subunitcolor\": \"white\"}, \"hoverlabel\": {\"align\": \"left\"}, \"hovermode\": \"closest\", \"mapbox\": {\"style\": \"light\"}, \"paper_bgcolor\": \"white\", \"plot_bgcolor\": \"#E5ECF6\", \"polar\": {\"angularaxis\": {\"gridcolor\": \"white\", \"linecolor\": \"white\", \"ticks\": \"\"}, \"bgcolor\": \"#E5ECF6\", \"radialaxis\": {\"gridcolor\": \"white\", \"linecolor\": \"white\", \"ticks\": \"\"}}, \"scene\": {\"xaxis\": {\"backgroundcolor\": \"#E5ECF6\", \"gridcolor\": \"white\", \"gridwidth\": 2, \"linecolor\": \"white\", \"showbackground\": true, \"ticks\": \"\", \"zerolinecolor\": \"white\"}, \"yaxis\": {\"backgroundcolor\": \"#E5ECF6\", \"gridcolor\": \"white\", \"gridwidth\": 2, \"linecolor\": \"white\", \"showbackground\": true, \"ticks\": \"\", \"zerolinecolor\": \"white\"}, \"zaxis\": {\"backgroundcolor\": \"#E5ECF6\", \"gridcolor\": \"white\", \"gridwidth\": 2, \"linecolor\": \"white\", \"showbackground\": true, \"ticks\": \"\", \"zerolinecolor\": \"white\"}}, \"shapedefaults\": {\"line\": {\"color\": \"#2a3f5f\"}}, \"ternary\": {\"aaxis\": {\"gridcolor\": \"white\", \"linecolor\": \"white\", \"ticks\": \"\"}, \"baxis\": {\"gridcolor\": \"white\", \"linecolor\": \"white\", \"ticks\": \"\"}, \"bgcolor\": \"#E5ECF6\", \"caxis\": {\"gridcolor\": \"white\", \"linecolor\": \"white\", \"ticks\": \"\"}}, \"title\": {\"x\": 0.05}, \"xaxis\": {\"automargin\": true, \"gridcolor\": \"white\", \"linecolor\": \"white\", \"ticks\": \"\", \"title\": {\"standoff\": 15}, \"zerolinecolor\": \"white\", \"zerolinewidth\": 2}, \"yaxis\": {\"automargin\": true, \"gridcolor\": \"white\", \"linecolor\": \"white\", \"ticks\": \"\", \"title\": {\"standoff\": 15}, \"zerolinecolor\": \"white\", \"zerolinewidth\": 2}}}, \"title\": {\"text\": \"\\u0e22\\u0e2d\\u0e14\\u0e2a\\u0e21\\u0e31\\u0e04\\u0e23\\u0e40\\u0e02\\u0e49\\u0e32\\u0e21\\u0e2b\\u0e32\\u0e27\\u0e34\\u0e17\\u0e22\\u0e32\\u0e25\\u0e31\\u0e22\\u0e17\\u0e31\\u0e49\\u0e07\\u0e2b\\u0e21\\u0e14\\u0e42\\u0e14\\u0e22\\u0e41\\u0e1a\\u0e48\\u0e07\\u0e40\\u0e1b\\u0e47\\u0e19\\u0e21\\u0e2b\\u0e32\\u0e27\\u0e34\\u0e17\\u0e22\\u0e32\\u0e25\\u0e31\\u0e22\\u0e23\\u0e31\\u0e10\\u0e01\\u0e31\\u0e1a\\u0e40\\u0e2d\\u0e01\\u0e0a\\u0e19\"}},\n",
              "                        {\"responsive\": true}\n",
              "                    ).then(function(){\n",
              "                            \n",
              "var gd = document.getElementById('2c417cd5-8627-4092-886e-b33559335e06');\n",
              "var x = new MutationObserver(function (mutations, observer) {{\n",
              "        var display = window.getComputedStyle(gd).display;\n",
              "        if (!display || display === 'none') {{\n",
              "            console.log([gd, 'removed!']);\n",
              "            Plotly.purge(gd);\n",
              "            observer.disconnect();\n",
              "        }}\n",
              "}});\n",
              "\n",
              "// Listen for the removal of the full notebook cells\n",
              "var notebookContainer = gd.closest('#notebook-container');\n",
              "if (notebookContainer) {{\n",
              "    x.observe(notebookContainer, {childList: true});\n",
              "}}\n",
              "\n",
              "// Listen for the clearing of the current output cell\n",
              "var outputEl = gd.closest('.output');\n",
              "if (outputEl) {{\n",
              "    x.observe(outputEl, {childList: true});\n",
              "}}\n",
              "\n",
              "                        })\n",
              "                };\n",
              "                \n",
              "            </script>\n",
              "        </div>\n",
              "</body>\n",
              "</html>"
            ]
          },
          "metadata": {
            "tags": []
          }
        }
      ]
    },
    {
      "cell_type": "code",
      "metadata": {
        "colab": {
          "base_uri": "https://localhost:8080/"
        },
        "id": "sc7z5Dkv4KjO",
        "outputId": "a20a5f9b-386e-4e28-9e55-eeaa6b6d65b7"
      },
      "source": [
        "df['Private'].value_counts(normalize=True) * 100"
      ],
      "execution_count": 21,
      "outputs": [
        {
          "output_type": "execute_result",
          "data": {
            "text/plain": [
              "Yes    72.715573\n",
              "No     27.284427\n",
              "Name: Private, dtype: float64"
            ]
          },
          "metadata": {
            "tags": []
          },
          "execution_count": 21
        }
      ]
    },
    {
      "cell_type": "code",
      "metadata": {
        "colab": {
          "base_uri": "https://localhost:8080/",
          "height": 542
        },
        "id": "KGU_-Vfm4MC8",
        "outputId": "df5d5e0a-516b-4e45-8724-90cc3a1baf89"
      },
      "source": [
        "fig = px.box(df, x=\"Private\", y=\"Books\", points=\"all\")\r\n",
        "fig.show()"
      ],
      "execution_count": 22,
      "outputs": [
        {
          "output_type": "display_data",
          "data": {
            "text/html": [
              "<html>\n",
              "<head><meta charset=\"utf-8\" /></head>\n",
              "<body>\n",
              "    <div>\n",
              "            <script src=\"https://cdnjs.cloudflare.com/ajax/libs/mathjax/2.7.5/MathJax.js?config=TeX-AMS-MML_SVG\"></script><script type=\"text/javascript\">if (window.MathJax) {MathJax.Hub.Config({SVG: {font: \"STIX-Web\"}});}</script>\n",
              "                <script type=\"text/javascript\">window.PlotlyConfig = {MathJaxConfig: 'local'};</script>\n",
              "        <script src=\"https://cdn.plot.ly/plotly-latest.min.js\"></script>    \n",
              "            <div id=\"a3b5eb91-bbde-4578-acba-96c99c3253df\" class=\"plotly-graph-div\" style=\"height:525px; width:100%;\"></div>\n",
              "            <script type=\"text/javascript\">\n",
              "                \n",
              "                    window.PLOTLYENV=window.PLOTLYENV || {};\n",
              "                    \n",
              "                if (document.getElementById(\"a3b5eb91-bbde-4578-acba-96c99c3253df\")) {\n",
              "                    Plotly.newPlot(\n",
              "                        'a3b5eb91-bbde-4578-acba-96c99c3253df',\n",
              "                        [{\"alignmentgroup\": \"True\", \"boxpoints\": \"all\", \"hoverlabel\": {\"namelength\": 0}, \"hovertemplate\": \"Private=%{x}<br>Books=%{y}\", \"legendgroup\": \"\", \"marker\": {\"color\": \"#636efa\"}, \"name\": \"\", \"notched\": false, \"offsetgroup\": \"\", \"orientation\": \"v\", \"showlegend\": false, \"type\": \"box\", \"x\": [\"Yes\", \"Yes\", \"Yes\", \"Yes\", \"Yes\", \"Yes\", \"Yes\", \"Yes\", \"Yes\", \"Yes\", \"Yes\", \"Yes\", \"Yes\", \"Yes\", \"Yes\", \"Yes\", \"Yes\", \"Yes\", \"Yes\", \"No\", \"Yes\", \"No\", \"Yes\", \"No\", \"Yes\", \"No\", \"Yes\", \"No\", \"Yes\", \"Yes\", \"Yes\", \"Yes\", \"Yes\", \"Yes\", \"Yes\", \"Yes\", \"Yes\", \"Yes\", \"Yes\", \"Yes\", \"Yes\", \"Yes\", \"Yes\", \"Yes\", \"Yes\", \"No\", \"Yes\", \"Yes\", \"Yes\", \"Yes\", \"Yes\", \"Yes\", \"Yes\", \"Yes\", \"Yes\", \"Yes\", \"No\", \"Yes\", \"Yes\", \"Yes\", \"Yes\", \"No\", \"Yes\", \"Yes\", \"Yes\", \"Yes\", \"Yes\", \"Yes\", \"Yes\", \"Yes\", \"Yes\", \"Yes\", \"Yes\", \"Yes\", \"Yes\", \"Yes\", \"Yes\", \"Yes\", \"No\", \"No\", \"Yes\", \"Yes\", \"Yes\", \"Yes\", \"Yes\", \"Yes\", \"Yes\", \"Yes\", \"Yes\", \"Yes\", \"Yes\", \"Yes\", \"No\", \"Yes\", \"Yes\", \"Yes\", \"Yes\", \"Yes\", \"Yes\", \"Yes\", \"Yes\", \"Yes\", \"No\", \"No\", \"No\", \"Yes\", \"Yes\", \"Yes\", \"Yes\", \"Yes\", \"Yes\", \"Yes\", \"No\", \"Yes\", \"Yes\", \"Yes\", \"Yes\", \"Yes\", \"No\", \"No\", \"Yes\", \"Yes\", \"Yes\", \"Yes\", \"Yes\", \"No\", \"Yes\", \"Yes\", \"Yes\", \"Yes\", \"Yes\", \"Yes\", \"Yes\", \"Yes\", \"Yes\", \"Yes\", \"Yes\", \"Yes\", \"No\", \"Yes\", \"Yes\", \"No\", \"Yes\", \"Yes\", \"Yes\", \"Yes\", \"Yes\", \"Yes\", \"Yes\", \"Yes\", \"Yes\", \"Yes\", \"Yes\", \"Yes\", \"Yes\", \"Yes\", \"Yes\", \"Yes\", \"Yes\", \"Yes\", \"Yes\", \"No\", \"Yes\", \"Yes\", \"Yes\", \"No\", \"Yes\", \"Yes\", \"Yes\", \"Yes\", \"Yes\", \"Yes\", \"Yes\", \"Yes\", \"Yes\", \"Yes\", \"No\", \"No\", \"Yes\", \"Yes\", \"No\", \"No\", \"Yes\", \"Yes\", \"Yes\", \"Yes\", \"Yes\", \"Yes\", \"Yes\", \"Yes\", \"Yes\", \"Yes\", \"No\", \"Yes\", \"Yes\", \"No\", \"Yes\", \"No\", \"Yes\", \"Yes\", \"Yes\", \"No\", \"Yes\", \"No\", \"Yes\", \"Yes\", \"No\", \"No\", \"Yes\", \"Yes\", \"Yes\", \"Yes\", \"Yes\", \"Yes\", \"Yes\", \"Yes\", \"Yes\", \"Yes\", \"No\", \"Yes\", \"Yes\", \"Yes\", \"No\", \"No\", \"Yes\", \"Yes\", \"Yes\", \"Yes\", \"Yes\", \"Yes\", \"Yes\", \"Yes\", \"Yes\", \"No\", \"Yes\", \"Yes\", \"Yes\", \"Yes\", \"Yes\", \"Yes\", \"Yes\", \"Yes\", \"Yes\", \"Yes\", \"Yes\", \"Yes\", \"Yes\", \"Yes\", \"Yes\", \"Yes\", \"Yes\", \"Yes\", \"Yes\", \"Yes\", \"Yes\", \"Yes\", \"Yes\", \"Yes\", \"Yes\", \"Yes\", \"Yes\", \"Yes\", \"Yes\", \"Yes\", \"Yes\", \"Yes\", \"Yes\", \"Yes\", \"Yes\", \"No\", \"Yes\", \"Yes\", \"Yes\", \"No\", \"No\", \"Yes\", \"Yes\", \"No\", \"Yes\", \"No\", \"Yes\", \"No\", \"Yes\", \"Yes\", \"Yes\", \"No\", \"Yes\", \"Yes\", \"No\", \"Yes\", \"No\", \"Yes\", \"Yes\", \"Yes\", \"Yes\", \"Yes\", \"Yes\", \"Yes\", \"Yes\", \"Yes\", \"Yes\", \"Yes\", \"Yes\", \"No\", \"Yes\", \"No\", \"Yes\", \"Yes\", \"Yes\", \"Yes\", \"Yes\", \"Yes\", \"Yes\", \"Yes\", \"Yes\", \"Yes\", \"No\", \"Yes\", \"Yes\", \"Yes\", \"No\", \"No\", \"Yes\", \"Yes\", \"No\", \"No\", \"Yes\", \"Yes\", \"Yes\", \"Yes\", \"Yes\", \"Yes\", \"Yes\", \"No\", \"Yes\", \"Yes\", \"Yes\", \"Yes\", \"Yes\", \"Yes\", \"No\", \"Yes\", \"Yes\", \"Yes\", \"Yes\", \"Yes\", \"Yes\", \"No\", \"Yes\", \"Yes\", \"Yes\", \"Yes\", \"Yes\", \"Yes\", \"Yes\", \"No\", \"Yes\", \"Yes\", \"Yes\", \"Yes\", \"Yes\", \"Yes\", \"Yes\", \"No\", \"Yes\", \"No\", \"No\", \"No\", \"Yes\", \"No\", \"Yes\", \"Yes\", \"Yes\", \"Yes\", \"Yes\", \"No\", \"No\", \"No\", \"Yes\", \"Yes\", \"Yes\", \"No\", \"No\", \"No\", \"Yes\", \"No\", \"Yes\", \"Yes\", \"Yes\", \"Yes\", \"Yes\", \"Yes\", \"Yes\", \"Yes\", \"Yes\", \"Yes\", \"Yes\", \"Yes\", \"Yes\", \"Yes\", \"Yes\", \"No\", \"Yes\", \"Yes\", \"Yes\", \"No\", \"No\", \"Yes\", \"Yes\", \"Yes\", \"No\", \"No\", \"No\", \"Yes\", \"Yes\", \"No\", \"Yes\", \"No\", \"Yes\", \"No\", \"No\", \"No\", \"Yes\", \"Yes\", \"Yes\", \"Yes\", \"Yes\", \"No\", \"Yes\", \"Yes\", \"Yes\", \"Yes\", \"No\", \"Yes\", \"Yes\", \"Yes\", \"No\", \"Yes\", \"Yes\", \"Yes\", \"Yes\", \"Yes\", \"Yes\", \"Yes\", \"No\", \"No\", \"Yes\", \"No\", \"Yes\", \"Yes\", \"Yes\", \"Yes\", \"Yes\", \"Yes\", \"Yes\", \"Yes\", \"Yes\", \"No\", \"Yes\", \"Yes\", \"Yes\", \"No\", \"Yes\", \"Yes\", \"Yes\", \"No\", \"No\", \"Yes\", \"Yes\", \"Yes\", \"Yes\", \"Yes\", \"Yes\", \"Yes\", \"Yes\", \"Yes\", \"Yes\", \"Yes\", \"Yes\", \"Yes\", \"Yes\", \"Yes\", \"No\", \"No\", \"No\", \"No\", \"Yes\", \"Yes\", \"Yes\", \"No\", \"Yes\", \"Yes\", \"Yes\", \"Yes\", \"Yes\", \"Yes\", \"Yes\", \"Yes\", \"Yes\", \"Yes\", \"Yes\", \"Yes\", \"Yes\", \"Yes\", \"Yes\", \"Yes\", \"Yes\", \"Yes\", \"No\", \"Yes\", \"No\", \"Yes\", \"Yes\", \"Yes\", \"Yes\", \"Yes\", \"Yes\", \"Yes\", \"Yes\", \"Yes\", \"No\", \"Yes\", \"Yes\", \"Yes\", \"Yes\", \"Yes\", \"Yes\", \"Yes\", \"Yes\", \"No\", \"No\", \"No\", \"Yes\", \"No\", \"Yes\", \"Yes\", \"No\", \"No\", \"Yes\", \"Yes\", \"Yes\", \"Yes\", \"Yes\", \"Yes\", \"Yes\", \"Yes\", \"Yes\", \"Yes\", \"Yes\", \"Yes\", \"No\", \"Yes\", \"Yes\", \"Yes\", \"Yes\", \"Yes\", \"Yes\", \"Yes\", \"No\", \"Yes\", \"No\", \"No\", \"No\", \"No\", \"No\", \"No\", \"No\", \"No\", \"No\", \"No\", \"No\", \"No\", \"No\", \"No\", \"Yes\", \"Yes\", \"Yes\", \"Yes\", \"Yes\", \"Yes\", \"Yes\", \"No\", \"No\", \"Yes\", \"Yes\", \"No\", \"Yes\", \"No\", \"Yes\", \"Yes\", \"Yes\", \"No\", \"Yes\", \"Yes\", \"Yes\", \"Yes\", \"Yes\", \"Yes\", \"Yes\", \"Yes\", \"Yes\", \"Yes\", \"No\", \"No\", \"No\", \"No\", \"No\", \"No\", \"Yes\", \"Yes\", \"No\", \"No\", \"Yes\", \"Yes\", \"Yes\", \"Yes\", \"Yes\", \"Yes\", \"Yes\", \"No\", \"No\", \"Yes\", \"No\", \"No\", \"No\", \"Yes\", \"No\", \"Yes\", \"No\", \"No\", \"No\", \"No\", \"No\", \"No\", \"No\", \"No\", \"Yes\", \"No\", \"No\", \"No\", \"No\", \"No\", \"No\", \"No\", \"No\", \"Yes\", \"No\", \"No\", \"Yes\", \"No\", \"No\", \"No\", \"No\", \"No\", \"No\", \"No\", \"No\", \"No\", \"No\", \"No\", \"Yes\", \"No\", \"No\", \"Yes\", \"No\", \"Yes\", \"Yes\", \"No\", \"Yes\", \"Yes\", \"Yes\", \"Yes\", \"No\", \"Yes\", \"No\", \"No\", \"No\", \"Yes\", \"No\", \"No\", \"No\", \"Yes\", \"Yes\", \"No\", \"No\", \"No\", \"No\", \"Yes\", \"Yes\", \"Yes\", \"Yes\", \"No\", \"No\", \"No\", \"No\", \"No\", \"No\", \"No\", \"No\", \"No\", \"No\", \"No\", \"No\", \"Yes\", \"Yes\", \"Yes\", \"No\", \"Yes\", \"Yes\", \"Yes\", \"Yes\", \"No\", \"No\", \"No\", \"Yes\", \"Yes\", \"Yes\", \"Yes\", \"Yes\", \"Yes\", \"Yes\", \"Yes\", \"Yes\", \"Yes\", \"Yes\", \"Yes\", \"Yes\", \"No\", \"Yes\", \"No\", \"Yes\", \"Yes\", \"Yes\", \"Yes\", \"Yes\", \"Yes\", \"Yes\", \"Yes\", \"No\", \"No\", \"Yes\", \"No\", \"Yes\", \"No\", \"Yes\", \"No\", \"No\", \"No\", \"Yes\", \"Yes\", \"Yes\", \"No\", \"Yes\", \"Yes\", \"Yes\", \"Yes\", \"Yes\", \"Yes\", \"Yes\", \"Yes\", \"Yes\", \"Yes\", \"Yes\", \"Yes\", \"Yes\", \"Yes\", \"No\", \"No\", \"Yes\", \"Yes\", \"Yes\", \"Yes\", \"No\", \"Yes\", \"Yes\", \"Yes\", \"Yes\"], \"x0\": \" \", \"xaxis\": \"x\", \"y\": [450, 750, 400, 450, 800, 500, 500, 450, 300, 660, 500, 400, 600, 400, 650, 450, 660, 550, 900, 500, 400, 96, 350, 700, 500, 450, 500, 600, 540, 540, 600, 400, 750, 400, 1000, 500, 750, 600, 600, 600, 400, 750, 300, 650, 355, 660, 350, 600, 630, 350, 550, 500, 600, 650, 400, 500, 500, 450, 400, 475, 1495, 600, 500, 2000, 410, 500, 500, 600, 560, 860, 720, 500, 800, 450, 500, 300, 425, 612, 612, 600, 400, 600, 600, 400, 500, 300, 550, 450, 480, 400, 500, 525, 400, 600, 526, 600, 500, 570, 500, 600, 2340, 650, 500, 300, 654, 600, 600, 600, 400, 700, 400, 600, 525, 500, 500, 500, 350, 700, 800, 600, 500, 400, 500, 500, 550, 666, 400, 500, 630, 600, 500, 450, 380, 800, 600, 450, 450, 400, 600, 500, 450, 470, 400, 500, 550, 450, 450, 570, 400, 600, 500, 550, 650, 400, 400, 680, 450, 500, 550, 600, 400, 500, 500, 550, 595, 600, 500, 400, 600, 450, 450, 560, 520, 500, 625, 600, 500, 600, 530, 450, 650, 120, 600, 450, 600, 500, 450, 450, 490, 570, 700, 600, 450, 475, 330, 600, 700, 350, 500, 500, 750, 800, 400, 600, 350, 600, 500, 400, 600, 525, 500, 600, 630, 600, 500, 500, 500, 400, 580, 700, 550, 670, 795, 720, 500, 500, 531, 600, 400, 600, 500, 300, 550, 500, 400, 550, 400, 400, 525, 450, 400, 500, 300, 450, 660, 600, 500, 700, 700, 500, 500, 700, 500, 500, 400, 400, 600, 1000, 500, 450, 465, 500, 500, 300, 600, 350, 650, 600, 500, 537, 400, 500, 750, 600, 600, 700, 570, 640, 634, 500, 400, 400, 400, 600, 500, 500, 500, 450, 600, 500, 500, 500, 750, 600, 400, 600, 400, 600, 450, 600, 750, 920, 500, 508, 600, 528, 525, 400, 400, 750, 400, 550, 600, 450, 500, 600, 350, 1000, 500, 800, 225, 550, 500, 500, 600, 618, 600, 545, 600, 700, 600, 500, 450, 500, 500, 550, 450, 525, 500, 450, 450, 500, 470, 550, 600, 700, 600, 650, 575, 350, 500, 500, 425, 600, 725, 600, 500, 400, 600, 400, 425, 450, 375, 540, 475, 500, 504, 900, 1100, 450, 550, 450, 550, 1000, 600, 480, 600, 200, 400, 400, 530, 550, 550, 700, 500, 600, 550, 250, 500, 850, 750, 500, 550, 500, 500, 550, 250, 630, 400, 600, 600, 700, 600, 650, 550, 700, 600, 450, 500, 450, 500, 600, 600, 600, 450, 600, 400, 400, 600, 620, 470, 250, 450, 300, 759, 500, 400, 400, 575, 558, 600, 600, 550, 550, 515, 500, 800, 420, 500, 616, 660, 600, 630, 450, 550, 512, 500, 500, 400, 600, 600, 600, 500, 650, 800, 400, 436, 598, 554, 675, 450, 570, 610, 450, 1000, 500, 600, 400, 370, 500, 450, 1230, 550, 700, 350, 600, 450, 500, 600, 500, 955, 550, 800, 690, 690, 690, 400, 500, 450, 350, 450, 400, 500, 600, 500, 350, 650, 800, 500, 400, 500, 500, 550, 500, 500, 600, 400, 500, 600, 569, 612, 630, 600, 1200, 500, 600, 600, 500, 650, 350, 450, 500, 575, 475, 500, 550, 500, 500, 500, 500, 200, 450, 630, 221, 576, 400, 500, 600, 430, 550, 600, 600, 660, 385, 500, 275, 400, 650, 300, 630, 675, 700, 425, 600, 500, 450, 600, 450, 711, 480, 700, 700, 708, 600, 500, 500, 550, 630, 620, 600, 550, 600, 500, 1125, 400, 500, 635, 400, 1000, 450, 400, 600, 600, 650, 490, 600, 600, 400, 700, 600, 500, 700, 468, 500, 500, 550, 500, 350, 450, 600, 500, 450, 518, 750, 500, 636, 790, 700, 400, 500, 556, 700, 500, 500, 530, 400, 600, 400, 700, 630, 525, 500, 687, 500, 630, 525, 700, 630, 530, 450, 600, 400, 494, 550, 500, 500, 630, 476, 753, 600, 714, 600, 600, 700, 500, 550, 300, 500, 900, 650, 600, 550, 600, 600, 500, 450, 600, 450, 540, 595, 600, 765, 570, 500, 400, 600, 630, 500, 700, 500, 630, 750, 600, 650, 500, 495, 500, 600, 540, 500, 500, 500, 500, 750, 500, 650, 452, 1300, 646, 450, 1200, 858, 500, 500, 708, 541, 376, 550, 300, 475, 535, 570, 600, 500, 500, 450, 600, 500, 630, 600, 400, 500, 500, 740, 500, 500, 500, 500, 500, 585, 500, 500, 400, 400, 300, 680, 500, 800, 768, 540, 500, 650, 500, 500, 600, 850, 500, 1400, 400, 600, 450, 110, 500, 500, 498, 500, 639, 500, 600, 430, 600, 490, 530, 700, 600, 750, 500, 678, 500, 550, 400, 500, 550, 500, 450, 550, 300, 580, 500, 400, 605, 530, 500, 600, 617, 630, 500], \"y0\": \" \", \"yaxis\": \"y\"}],\n",
              "                        {\"boxmode\": \"group\", \"legend\": {\"tracegroupgap\": 0}, \"margin\": {\"t\": 60}, \"template\": {\"data\": {\"bar\": [{\"error_x\": {\"color\": \"#2a3f5f\"}, \"error_y\": {\"color\": \"#2a3f5f\"}, \"marker\": {\"line\": {\"color\": \"#E5ECF6\", \"width\": 0.5}}, \"type\": \"bar\"}], \"barpolar\": [{\"marker\": {\"line\": {\"color\": \"#E5ECF6\", \"width\": 0.5}}, \"type\": \"barpolar\"}], \"carpet\": [{\"aaxis\": {\"endlinecolor\": \"#2a3f5f\", \"gridcolor\": \"white\", \"linecolor\": \"white\", \"minorgridcolor\": \"white\", \"startlinecolor\": \"#2a3f5f\"}, \"baxis\": {\"endlinecolor\": \"#2a3f5f\", \"gridcolor\": \"white\", \"linecolor\": \"white\", \"minorgridcolor\": \"white\", \"startlinecolor\": \"#2a3f5f\"}, \"type\": \"carpet\"}], \"choropleth\": [{\"colorbar\": {\"outlinewidth\": 0, \"ticks\": \"\"}, \"type\": \"choropleth\"}], \"contour\": [{\"colorbar\": {\"outlinewidth\": 0, \"ticks\": \"\"}, \"colorscale\": [[0.0, \"#0d0887\"], [0.1111111111111111, \"#46039f\"], [0.2222222222222222, \"#7201a8\"], [0.3333333333333333, \"#9c179e\"], [0.4444444444444444, \"#bd3786\"], [0.5555555555555556, \"#d8576b\"], [0.6666666666666666, \"#ed7953\"], [0.7777777777777778, \"#fb9f3a\"], [0.8888888888888888, \"#fdca26\"], [1.0, \"#f0f921\"]], \"type\": \"contour\"}], \"contourcarpet\": [{\"colorbar\": {\"outlinewidth\": 0, \"ticks\": \"\"}, \"type\": \"contourcarpet\"}], \"heatmap\": [{\"colorbar\": {\"outlinewidth\": 0, \"ticks\": \"\"}, \"colorscale\": [[0.0, \"#0d0887\"], [0.1111111111111111, \"#46039f\"], [0.2222222222222222, \"#7201a8\"], [0.3333333333333333, \"#9c179e\"], [0.4444444444444444, \"#bd3786\"], [0.5555555555555556, \"#d8576b\"], [0.6666666666666666, \"#ed7953\"], [0.7777777777777778, \"#fb9f3a\"], [0.8888888888888888, \"#fdca26\"], [1.0, \"#f0f921\"]], \"type\": \"heatmap\"}], \"heatmapgl\": [{\"colorbar\": {\"outlinewidth\": 0, \"ticks\": \"\"}, \"colorscale\": [[0.0, \"#0d0887\"], [0.1111111111111111, \"#46039f\"], [0.2222222222222222, \"#7201a8\"], [0.3333333333333333, \"#9c179e\"], [0.4444444444444444, \"#bd3786\"], [0.5555555555555556, \"#d8576b\"], [0.6666666666666666, \"#ed7953\"], [0.7777777777777778, \"#fb9f3a\"], [0.8888888888888888, \"#fdca26\"], [1.0, \"#f0f921\"]], \"type\": \"heatmapgl\"}], \"histogram\": [{\"marker\": {\"colorbar\": {\"outlinewidth\": 0, \"ticks\": \"\"}}, \"type\": \"histogram\"}], \"histogram2d\": [{\"colorbar\": {\"outlinewidth\": 0, \"ticks\": \"\"}, \"colorscale\": [[0.0, \"#0d0887\"], [0.1111111111111111, \"#46039f\"], [0.2222222222222222, \"#7201a8\"], [0.3333333333333333, \"#9c179e\"], [0.4444444444444444, \"#bd3786\"], [0.5555555555555556, \"#d8576b\"], [0.6666666666666666, \"#ed7953\"], [0.7777777777777778, \"#fb9f3a\"], [0.8888888888888888, \"#fdca26\"], [1.0, \"#f0f921\"]], \"type\": \"histogram2d\"}], \"histogram2dcontour\": [{\"colorbar\": {\"outlinewidth\": 0, \"ticks\": \"\"}, \"colorscale\": [[0.0, \"#0d0887\"], [0.1111111111111111, \"#46039f\"], [0.2222222222222222, \"#7201a8\"], [0.3333333333333333, \"#9c179e\"], [0.4444444444444444, \"#bd3786\"], [0.5555555555555556, \"#d8576b\"], [0.6666666666666666, \"#ed7953\"], [0.7777777777777778, \"#fb9f3a\"], [0.8888888888888888, \"#fdca26\"], [1.0, \"#f0f921\"]], \"type\": \"histogram2dcontour\"}], \"mesh3d\": [{\"colorbar\": {\"outlinewidth\": 0, \"ticks\": \"\"}, \"type\": \"mesh3d\"}], \"parcoords\": [{\"line\": {\"colorbar\": {\"outlinewidth\": 0, \"ticks\": \"\"}}, \"type\": \"parcoords\"}], \"pie\": [{\"automargin\": true, \"type\": \"pie\"}], \"scatter\": [{\"marker\": {\"colorbar\": {\"outlinewidth\": 0, \"ticks\": \"\"}}, \"type\": \"scatter\"}], \"scatter3d\": [{\"line\": {\"colorbar\": {\"outlinewidth\": 0, \"ticks\": \"\"}}, \"marker\": {\"colorbar\": {\"outlinewidth\": 0, \"ticks\": \"\"}}, \"type\": \"scatter3d\"}], \"scattercarpet\": [{\"marker\": {\"colorbar\": {\"outlinewidth\": 0, \"ticks\": \"\"}}, \"type\": \"scattercarpet\"}], \"scattergeo\": [{\"marker\": {\"colorbar\": {\"outlinewidth\": 0, \"ticks\": \"\"}}, \"type\": \"scattergeo\"}], \"scattergl\": [{\"marker\": {\"colorbar\": {\"outlinewidth\": 0, \"ticks\": \"\"}}, \"type\": \"scattergl\"}], \"scattermapbox\": [{\"marker\": {\"colorbar\": {\"outlinewidth\": 0, \"ticks\": \"\"}}, \"type\": \"scattermapbox\"}], \"scatterpolar\": [{\"marker\": {\"colorbar\": {\"outlinewidth\": 0, \"ticks\": \"\"}}, \"type\": \"scatterpolar\"}], \"scatterpolargl\": [{\"marker\": {\"colorbar\": {\"outlinewidth\": 0, \"ticks\": \"\"}}, \"type\": \"scatterpolargl\"}], \"scatterternary\": [{\"marker\": {\"colorbar\": {\"outlinewidth\": 0, \"ticks\": \"\"}}, \"type\": \"scatterternary\"}], \"surface\": [{\"colorbar\": {\"outlinewidth\": 0, \"ticks\": \"\"}, \"colorscale\": [[0.0, \"#0d0887\"], [0.1111111111111111, \"#46039f\"], [0.2222222222222222, \"#7201a8\"], [0.3333333333333333, \"#9c179e\"], [0.4444444444444444, \"#bd3786\"], [0.5555555555555556, \"#d8576b\"], [0.6666666666666666, \"#ed7953\"], [0.7777777777777778, \"#fb9f3a\"], [0.8888888888888888, \"#fdca26\"], [1.0, \"#f0f921\"]], \"type\": \"surface\"}], \"table\": [{\"cells\": {\"fill\": {\"color\": \"#EBF0F8\"}, \"line\": {\"color\": \"white\"}}, \"header\": {\"fill\": {\"color\": \"#C8D4E3\"}, \"line\": {\"color\": \"white\"}}, \"type\": \"table\"}]}, \"layout\": {\"annotationdefaults\": {\"arrowcolor\": \"#2a3f5f\", \"arrowhead\": 0, \"arrowwidth\": 1}, \"coloraxis\": {\"colorbar\": {\"outlinewidth\": 0, \"ticks\": \"\"}}, \"colorscale\": {\"diverging\": [[0, \"#8e0152\"], [0.1, \"#c51b7d\"], [0.2, \"#de77ae\"], [0.3, \"#f1b6da\"], [0.4, \"#fde0ef\"], [0.5, \"#f7f7f7\"], [0.6, \"#e6f5d0\"], [0.7, \"#b8e186\"], [0.8, \"#7fbc41\"], [0.9, \"#4d9221\"], [1, \"#276419\"]], \"sequential\": [[0.0, \"#0d0887\"], [0.1111111111111111, \"#46039f\"], [0.2222222222222222, \"#7201a8\"], [0.3333333333333333, \"#9c179e\"], [0.4444444444444444, \"#bd3786\"], [0.5555555555555556, \"#d8576b\"], [0.6666666666666666, \"#ed7953\"], [0.7777777777777778, \"#fb9f3a\"], [0.8888888888888888, \"#fdca26\"], [1.0, \"#f0f921\"]], \"sequentialminus\": [[0.0, \"#0d0887\"], [0.1111111111111111, \"#46039f\"], [0.2222222222222222, \"#7201a8\"], [0.3333333333333333, \"#9c179e\"], [0.4444444444444444, \"#bd3786\"], [0.5555555555555556, \"#d8576b\"], [0.6666666666666666, \"#ed7953\"], [0.7777777777777778, \"#fb9f3a\"], [0.8888888888888888, \"#fdca26\"], [1.0, \"#f0f921\"]]}, \"colorway\": [\"#636efa\", \"#EF553B\", \"#00cc96\", \"#ab63fa\", \"#FFA15A\", \"#19d3f3\", \"#FF6692\", \"#B6E880\", \"#FF97FF\", \"#FECB52\"], \"font\": {\"color\": \"#2a3f5f\"}, \"geo\": {\"bgcolor\": \"white\", \"lakecolor\": \"white\", \"landcolor\": \"#E5ECF6\", \"showlakes\": true, \"showland\": true, \"subunitcolor\": \"white\"}, \"hoverlabel\": {\"align\": \"left\"}, \"hovermode\": \"closest\", \"mapbox\": {\"style\": \"light\"}, \"paper_bgcolor\": \"white\", \"plot_bgcolor\": \"#E5ECF6\", \"polar\": {\"angularaxis\": {\"gridcolor\": \"white\", \"linecolor\": \"white\", \"ticks\": \"\"}, \"bgcolor\": \"#E5ECF6\", \"radialaxis\": {\"gridcolor\": \"white\", \"linecolor\": \"white\", \"ticks\": \"\"}}, \"scene\": {\"xaxis\": {\"backgroundcolor\": \"#E5ECF6\", \"gridcolor\": \"white\", \"gridwidth\": 2, \"linecolor\": \"white\", \"showbackground\": true, \"ticks\": \"\", \"zerolinecolor\": \"white\"}, \"yaxis\": {\"backgroundcolor\": \"#E5ECF6\", \"gridcolor\": \"white\", \"gridwidth\": 2, \"linecolor\": \"white\", \"showbackground\": true, \"ticks\": \"\", \"zerolinecolor\": \"white\"}, \"zaxis\": {\"backgroundcolor\": \"#E5ECF6\", \"gridcolor\": \"white\", \"gridwidth\": 2, \"linecolor\": \"white\", \"showbackground\": true, \"ticks\": \"\", \"zerolinecolor\": \"white\"}}, \"shapedefaults\": {\"line\": {\"color\": \"#2a3f5f\"}}, \"ternary\": {\"aaxis\": {\"gridcolor\": \"white\", \"linecolor\": \"white\", \"ticks\": \"\"}, \"baxis\": {\"gridcolor\": \"white\", \"linecolor\": \"white\", \"ticks\": \"\"}, \"bgcolor\": \"#E5ECF6\", \"caxis\": {\"gridcolor\": \"white\", \"linecolor\": \"white\", \"ticks\": \"\"}}, \"title\": {\"x\": 0.05}, \"xaxis\": {\"automargin\": true, \"gridcolor\": \"white\", \"linecolor\": \"white\", \"ticks\": \"\", \"title\": {\"standoff\": 15}, \"zerolinecolor\": \"white\", \"zerolinewidth\": 2}, \"yaxis\": {\"automargin\": true, \"gridcolor\": \"white\", \"linecolor\": \"white\", \"ticks\": \"\", \"title\": {\"standoff\": 15}, \"zerolinecolor\": \"white\", \"zerolinewidth\": 2}}}, \"xaxis\": {\"anchor\": \"y\", \"domain\": [0.0, 1.0], \"title\": {\"text\": \"Private\"}}, \"yaxis\": {\"anchor\": \"x\", \"domain\": [0.0, 1.0], \"title\": {\"text\": \"Books\"}}},\n",
              "                        {\"responsive\": true}\n",
              "                    ).then(function(){\n",
              "                            \n",
              "var gd = document.getElementById('a3b5eb91-bbde-4578-acba-96c99c3253df');\n",
              "var x = new MutationObserver(function (mutations, observer) {{\n",
              "        var display = window.getComputedStyle(gd).display;\n",
              "        if (!display || display === 'none') {{\n",
              "            console.log([gd, 'removed!']);\n",
              "            Plotly.purge(gd);\n",
              "            observer.disconnect();\n",
              "        }}\n",
              "}});\n",
              "\n",
              "// Listen for the removal of the full notebook cells\n",
              "var notebookContainer = gd.closest('#notebook-container');\n",
              "if (notebookContainer) {{\n",
              "    x.observe(notebookContainer, {childList: true});\n",
              "}}\n",
              "\n",
              "// Listen for the clearing of the current output cell\n",
              "var outputEl = gd.closest('.output');\n",
              "if (outputEl) {{\n",
              "    x.observe(outputEl, {childList: true});\n",
              "}}\n",
              "\n",
              "                        })\n",
              "                };\n",
              "                \n",
              "            </script>\n",
              "        </div>\n",
              "</body>\n",
              "</html>"
            ]
          },
          "metadata": {
            "tags": []
          }
        }
      ]
    },
    {
      "cell_type": "code",
      "metadata": {
        "colab": {
          "base_uri": "https://localhost:8080/",
          "height": 542
        },
        "id": "uhMwi_oO4OrJ",
        "outputId": "5b7c5813-e74c-4126-8286-eacd952bf1ce"
      },
      "source": [
        "fig = px.imshow(df.corr())\r\n",
        "fig.show()"
      ],
      "execution_count": 23,
      "outputs": [
        {
          "output_type": "display_data",
          "data": {
            "text/html": [
              "<html>\n",
              "<head><meta charset=\"utf-8\" /></head>\n",
              "<body>\n",
              "    <div>\n",
              "            <script src=\"https://cdnjs.cloudflare.com/ajax/libs/mathjax/2.7.5/MathJax.js?config=TeX-AMS-MML_SVG\"></script><script type=\"text/javascript\">if (window.MathJax) {MathJax.Hub.Config({SVG: {font: \"STIX-Web\"}});}</script>\n",
              "                <script type=\"text/javascript\">window.PlotlyConfig = {MathJaxConfig: 'local'};</script>\n",
              "        <script src=\"https://cdn.plot.ly/plotly-latest.min.js\"></script>    \n",
              "            <div id=\"f800a231-c7d5-40a6-9a6d-869610c4a5a1\" class=\"plotly-graph-div\" style=\"height:525px; width:100%;\"></div>\n",
              "            <script type=\"text/javascript\">\n",
              "                \n",
              "                    window.PLOTLYENV=window.PLOTLYENV || {};\n",
              "                    \n",
              "                if (document.getElementById(\"f800a231-c7d5-40a6-9a6d-869610c4a5a1\")) {\n",
              "                    Plotly.newPlot(\n",
              "                        'f800a231-c7d5-40a6-9a6d-869610c4a5a1',\n",
              "                        [{\"coloraxis\": \"coloraxis\", \"type\": \"heatmap\", \"z\": [[1.0, 0.9434505720431929, 0.8468220502434366, 0.33883367935156233, 0.351639896876476, 0.8144905798759254, 0.39826427263575565, 0.05015903376342105, 0.16493895927340696, 0.13255859836456807, 0.1787308451958012, 0.3906973331482773, 0.36949147279234223, 0.0956330285314271, -0.09022588600252436, 0.2595919774596289, 0.14675459955109232], [0.9434505720431929, 1.0, 0.9116366634040101, 0.1924469276658927, 0.24747574169744782, 0.8742232775200599, 0.44127073258880745, -0.025754546603315342, 0.09089863110941221, 0.11352535170549174, 0.20098866688598016, 0.3557578755251192, 0.33758337058949117, 0.17622901352554007, -0.15998986561873557, 0.12471701185694586, 0.06731254983602436], [0.8468220502434366, 0.9116366634040101, 1.0, 0.18129352834466517, 0.2267451069963109, 0.9646396519522417, 0.5130686034415672, -0.15547734472912708, -0.04023168372488635, 0.11271089080154062, 0.28092946067081587, 0.3314691413502472, 0.30827407138073254, 0.237271310147069, -0.1807941299819087, 0.06416922814093852, -0.02234103863994843], [0.33883367935156233, 0.1924469276658927, 0.18129352834466517, 1.0, 0.8919949726786708, 0.1412887282968652, -0.10535628167212129, 0.5623305446783817, 0.37148037817463647, 0.11885843127394632, -0.09331639721204313, 0.5318280208993889, 0.4911350233733549, -0.3848745113953598, 0.4554852609641207, 0.6609134072824764, 0.4949892348013397], [0.351639896876476, 0.24747574169744782, 0.2267451069963109, 0.8919949726786708, 1.0, 0.19944465587998275, -0.05357664347810956, 0.4893938320720885, 0.3314898888157453, 0.11552712972927713, -0.08081026908733052, 0.5458622079936074, 0.5247488385031341, -0.29462884111002136, 0.41786428523670205, 0.5274474262161, 0.4772811643757831], [0.8144905798759254, 0.8742232775200599, 0.9646396519522417, 0.1412887282968652, 0.19944465587998275, 1.0, 0.5705121869790896, -0.2157419987704194, -0.06889039190439895, 0.11554976113101581, 0.31719954433002145, 0.31833697235058706, 0.30001894318122224, 0.2797033470537346, -0.22946222127153773, 0.018651618550243425, -0.07877312893232166], [0.39826427263575565, 0.44127073258880745, 0.5130686034415672, -0.10535628167212129, -0.05357664347810956, 0.5705121869790896, 1.0, -0.25351231785867645, -0.06132550683247188, 0.08119952050404157, 0.3198816174693279, 0.1491142152073852, 0.1419035730789712, 0.23253051169288494, -0.2807923621545132, -0.08356842423283212, -0.25700099074811256], [0.05015903376342105, -0.025754546603315342, -0.15547734472912708, 0.5623305446783817, 0.4893938320720885, -0.2157419987704194, -0.25351231785867645, 1.0, 0.6542563987455783, 0.038854868180702974, -0.29908689906543523, 0.38298240585231735, 0.40798319938018424, -0.5548212765797106, 0.5662624226830495, 0.672778618960898, 0.5712899282482016], [0.16493895927340696, 0.09089863110941221, -0.04023168372488635, 0.37148037817463647, 0.3314898888157453, -0.06889039190439895, -0.06132550683247188, 0.6542563987455783, 1.0, 0.12796296987089284, -0.19942818085131153, 0.32920228371604815, 0.374539547311753, -0.36262773568878626, 0.27236345254428224, 0.50173941719186, 0.42494154129996226], [0.13255859836456807, 0.11352535170549174, 0.11271089080154062, 0.11885843127394632, 0.11552712972927713, 0.11554976113101581, 0.08119952050404157, 0.038854868180702974, 0.12796296987089284, 1.0, 0.17929476353816615, 0.026905730958091484, 0.09995469974492678, -0.031929274262487296, -0.04020773604406472, 0.11240907525214447, 0.0010608943965531275], [0.1787308451958012, 0.20098866688598016, 0.28092946067081587, -0.09331639721204313, -0.08081026908733052, 0.31719954433002145, 0.3198816174693279, -0.29908689906543523, -0.19942818085131153, 0.17929476353816615, 1.0, -0.010935793965758056, -0.030613109085466644, 0.1363448333146175, -0.2859680816379327, -0.09789189339731354, -0.26934396424987245], [0.3906973331482773, 0.3557578755251192, 0.3314691413502472, 0.5318280208993889, 0.5458622079936074, 0.31833697235058706, 0.1491142152073852, 0.38298240585231735, 0.32920228371604815, 0.026905730958091484, -0.010935793965758056, 1.0, 0.8495870298679323, -0.13053011455532376, 0.24900865824013008, 0.4327616787126463, 0.3050378500234113], [0.36949147279234223, 0.33758337058949117, 0.30827407138073254, 0.4911350233733549, 0.5247488385031341, 0.30001894318122224, 0.1419035730789712, 0.40798319938018424, 0.374539547311753, 0.09995469974492678, -0.030613109085466644, 0.8495870298679323, 1.0, -0.1601039535015759, 0.26713029063742505, 0.4387992227212037, 0.289527231525837], [0.0956330285314271, 0.17622901352554007, 0.237271310147069, -0.3848745113953598, -0.29462884111002136, 0.2797033470537346, 0.23253051169288494, -0.5548212765797106, -0.36262773568878626, -0.031929274262487296, 0.1363448333146175, -0.13053011455532376, -0.1601039535015759, 1.0, -0.40292916569842485, -0.5838320415937047, -0.30671040532694477], [-0.09022588600252436, -0.15998986561873557, -0.1807941299819087, 0.4554852609641207, 0.41786428523670205, -0.22946222127153773, -0.2807923621545132, 0.5662624226830495, 0.27236345254428224, -0.04020773604406472, -0.2859680816379327, 0.24900865824013008, 0.26713029063742505, -0.40292916569842485, 1.0, 0.41771171916792105, 0.49089756228472076], [0.2595919774596289, 0.12471701185694586, 0.06416922814093852, 0.6609134072824764, 0.5274474262161, 0.018651618550243425, -0.08356842423283212, 0.672778618960898, 0.50173941719186, 0.11240907525214447, -0.09789189339731354, 0.4327616787126463, 0.4387992227212037, -0.5838320415937047, 0.41771171916792105, 1.0, 0.390342695859389], [0.14675459955109232, 0.06731254983602436, -0.02234103863994843, 0.4949892348013397, 0.4772811643757831, -0.07877312893232166, -0.25700099074811256, 0.5712899282482016, 0.42494154129996226, 0.0010608943965531275, -0.26934396424987245, 0.3050378500234113, 0.289527231525837, -0.30671040532694477, 0.49089756228472076, 0.390342695859389, 1.0]]}],\n",
              "                        {\"coloraxis\": {\"colorscale\": [[0.0, \"#0d0887\"], [0.1111111111111111, \"#46039f\"], [0.2222222222222222, \"#7201a8\"], [0.3333333333333333, \"#9c179e\"], [0.4444444444444444, \"#bd3786\"], [0.5555555555555556, \"#d8576b\"], [0.6666666666666666, \"#ed7953\"], [0.7777777777777778, \"#fb9f3a\"], [0.8888888888888888, \"#fdca26\"], [1.0, \"#f0f921\"]]}, \"margin\": {\"t\": 60}, \"template\": {\"data\": {\"bar\": [{\"error_x\": {\"color\": \"#2a3f5f\"}, \"error_y\": {\"color\": \"#2a3f5f\"}, \"marker\": {\"line\": {\"color\": \"#E5ECF6\", \"width\": 0.5}}, \"type\": \"bar\"}], \"barpolar\": [{\"marker\": {\"line\": {\"color\": \"#E5ECF6\", \"width\": 0.5}}, \"type\": \"barpolar\"}], \"carpet\": [{\"aaxis\": {\"endlinecolor\": \"#2a3f5f\", \"gridcolor\": \"white\", \"linecolor\": \"white\", \"minorgridcolor\": \"white\", \"startlinecolor\": \"#2a3f5f\"}, \"baxis\": {\"endlinecolor\": \"#2a3f5f\", \"gridcolor\": \"white\", \"linecolor\": \"white\", \"minorgridcolor\": \"white\", \"startlinecolor\": \"#2a3f5f\"}, \"type\": \"carpet\"}], \"choropleth\": [{\"colorbar\": {\"outlinewidth\": 0, \"ticks\": \"\"}, \"type\": \"choropleth\"}], \"contour\": [{\"colorbar\": {\"outlinewidth\": 0, \"ticks\": \"\"}, \"colorscale\": [[0.0, \"#0d0887\"], [0.1111111111111111, \"#46039f\"], [0.2222222222222222, \"#7201a8\"], [0.3333333333333333, \"#9c179e\"], [0.4444444444444444, \"#bd3786\"], [0.5555555555555556, \"#d8576b\"], [0.6666666666666666, \"#ed7953\"], [0.7777777777777778, \"#fb9f3a\"], [0.8888888888888888, \"#fdca26\"], [1.0, \"#f0f921\"]], \"type\": \"contour\"}], \"contourcarpet\": [{\"colorbar\": {\"outlinewidth\": 0, \"ticks\": \"\"}, \"type\": \"contourcarpet\"}], \"heatmap\": [{\"colorbar\": {\"outlinewidth\": 0, \"ticks\": \"\"}, \"colorscale\": [[0.0, \"#0d0887\"], [0.1111111111111111, \"#46039f\"], [0.2222222222222222, \"#7201a8\"], [0.3333333333333333, \"#9c179e\"], [0.4444444444444444, \"#bd3786\"], [0.5555555555555556, \"#d8576b\"], [0.6666666666666666, \"#ed7953\"], [0.7777777777777778, \"#fb9f3a\"], [0.8888888888888888, \"#fdca26\"], [1.0, \"#f0f921\"]], \"type\": \"heatmap\"}], \"heatmapgl\": [{\"colorbar\": {\"outlinewidth\": 0, \"ticks\": \"\"}, \"colorscale\": [[0.0, \"#0d0887\"], [0.1111111111111111, \"#46039f\"], [0.2222222222222222, \"#7201a8\"], [0.3333333333333333, \"#9c179e\"], [0.4444444444444444, \"#bd3786\"], [0.5555555555555556, \"#d8576b\"], [0.6666666666666666, \"#ed7953\"], [0.7777777777777778, \"#fb9f3a\"], [0.8888888888888888, \"#fdca26\"], [1.0, \"#f0f921\"]], \"type\": \"heatmapgl\"}], \"histogram\": [{\"marker\": {\"colorbar\": {\"outlinewidth\": 0, \"ticks\": \"\"}}, \"type\": \"histogram\"}], \"histogram2d\": [{\"colorbar\": {\"outlinewidth\": 0, \"ticks\": \"\"}, \"colorscale\": [[0.0, \"#0d0887\"], [0.1111111111111111, \"#46039f\"], [0.2222222222222222, \"#7201a8\"], [0.3333333333333333, \"#9c179e\"], [0.4444444444444444, \"#bd3786\"], [0.5555555555555556, \"#d8576b\"], [0.6666666666666666, \"#ed7953\"], [0.7777777777777778, \"#fb9f3a\"], [0.8888888888888888, \"#fdca26\"], [1.0, \"#f0f921\"]], \"type\": \"histogram2d\"}], \"histogram2dcontour\": [{\"colorbar\": {\"outlinewidth\": 0, \"ticks\": \"\"}, \"colorscale\": [[0.0, \"#0d0887\"], [0.1111111111111111, \"#46039f\"], [0.2222222222222222, \"#7201a8\"], [0.3333333333333333, \"#9c179e\"], [0.4444444444444444, \"#bd3786\"], [0.5555555555555556, \"#d8576b\"], [0.6666666666666666, \"#ed7953\"], [0.7777777777777778, \"#fb9f3a\"], [0.8888888888888888, \"#fdca26\"], [1.0, \"#f0f921\"]], \"type\": \"histogram2dcontour\"}], \"mesh3d\": [{\"colorbar\": {\"outlinewidth\": 0, \"ticks\": \"\"}, \"type\": \"mesh3d\"}], \"parcoords\": [{\"line\": {\"colorbar\": {\"outlinewidth\": 0, \"ticks\": \"\"}}, \"type\": \"parcoords\"}], \"pie\": [{\"automargin\": true, \"type\": \"pie\"}], \"scatter\": [{\"marker\": {\"colorbar\": {\"outlinewidth\": 0, \"ticks\": \"\"}}, \"type\": \"scatter\"}], \"scatter3d\": [{\"line\": {\"colorbar\": {\"outlinewidth\": 0, \"ticks\": \"\"}}, \"marker\": {\"colorbar\": {\"outlinewidth\": 0, \"ticks\": \"\"}}, \"type\": \"scatter3d\"}], \"scattercarpet\": [{\"marker\": {\"colorbar\": {\"outlinewidth\": 0, \"ticks\": \"\"}}, \"type\": \"scattercarpet\"}], \"scattergeo\": [{\"marker\": {\"colorbar\": {\"outlinewidth\": 0, \"ticks\": \"\"}}, \"type\": \"scattergeo\"}], \"scattergl\": [{\"marker\": {\"colorbar\": {\"outlinewidth\": 0, \"ticks\": \"\"}}, \"type\": \"scattergl\"}], \"scattermapbox\": [{\"marker\": {\"colorbar\": {\"outlinewidth\": 0, \"ticks\": \"\"}}, \"type\": \"scattermapbox\"}], \"scatterpolar\": [{\"marker\": {\"colorbar\": {\"outlinewidth\": 0, \"ticks\": \"\"}}, \"type\": \"scatterpolar\"}], \"scatterpolargl\": [{\"marker\": {\"colorbar\": {\"outlinewidth\": 0, \"ticks\": \"\"}}, \"type\": \"scatterpolargl\"}], \"scatterternary\": [{\"marker\": {\"colorbar\": {\"outlinewidth\": 0, \"ticks\": \"\"}}, \"type\": \"scatterternary\"}], \"surface\": [{\"colorbar\": {\"outlinewidth\": 0, \"ticks\": \"\"}, \"colorscale\": [[0.0, \"#0d0887\"], [0.1111111111111111, \"#46039f\"], [0.2222222222222222, \"#7201a8\"], [0.3333333333333333, \"#9c179e\"], [0.4444444444444444, \"#bd3786\"], [0.5555555555555556, \"#d8576b\"], [0.6666666666666666, \"#ed7953\"], [0.7777777777777778, \"#fb9f3a\"], [0.8888888888888888, \"#fdca26\"], [1.0, \"#f0f921\"]], \"type\": \"surface\"}], \"table\": [{\"cells\": {\"fill\": {\"color\": \"#EBF0F8\"}, \"line\": {\"color\": \"white\"}}, \"header\": {\"fill\": {\"color\": \"#C8D4E3\"}, \"line\": {\"color\": \"white\"}}, \"type\": \"table\"}]}, \"layout\": {\"annotationdefaults\": {\"arrowcolor\": \"#2a3f5f\", \"arrowhead\": 0, \"arrowwidth\": 1}, \"coloraxis\": {\"colorbar\": {\"outlinewidth\": 0, \"ticks\": \"\"}}, \"colorscale\": {\"diverging\": [[0, \"#8e0152\"], [0.1, \"#c51b7d\"], [0.2, \"#de77ae\"], [0.3, \"#f1b6da\"], [0.4, \"#fde0ef\"], [0.5, \"#f7f7f7\"], [0.6, \"#e6f5d0\"], [0.7, \"#b8e186\"], [0.8, \"#7fbc41\"], [0.9, \"#4d9221\"], [1, \"#276419\"]], \"sequential\": [[0.0, \"#0d0887\"], [0.1111111111111111, \"#46039f\"], [0.2222222222222222, \"#7201a8\"], [0.3333333333333333, \"#9c179e\"], [0.4444444444444444, \"#bd3786\"], [0.5555555555555556, \"#d8576b\"], [0.6666666666666666, \"#ed7953\"], [0.7777777777777778, \"#fb9f3a\"], [0.8888888888888888, \"#fdca26\"], [1.0, \"#f0f921\"]], \"sequentialminus\": [[0.0, \"#0d0887\"], [0.1111111111111111, \"#46039f\"], [0.2222222222222222, \"#7201a8\"], [0.3333333333333333, \"#9c179e\"], [0.4444444444444444, \"#bd3786\"], [0.5555555555555556, \"#d8576b\"], [0.6666666666666666, \"#ed7953\"], [0.7777777777777778, \"#fb9f3a\"], [0.8888888888888888, \"#fdca26\"], [1.0, \"#f0f921\"]]}, \"colorway\": [\"#636efa\", \"#EF553B\", \"#00cc96\", \"#ab63fa\", \"#FFA15A\", \"#19d3f3\", \"#FF6692\", \"#B6E880\", \"#FF97FF\", \"#FECB52\"], \"font\": {\"color\": \"#2a3f5f\"}, \"geo\": {\"bgcolor\": \"white\", \"lakecolor\": \"white\", \"landcolor\": \"#E5ECF6\", \"showlakes\": true, \"showland\": true, \"subunitcolor\": \"white\"}, \"hoverlabel\": {\"align\": \"left\"}, \"hovermode\": \"closest\", \"mapbox\": {\"style\": \"light\"}, \"paper_bgcolor\": \"white\", \"plot_bgcolor\": \"#E5ECF6\", \"polar\": {\"angularaxis\": {\"gridcolor\": \"white\", \"linecolor\": \"white\", \"ticks\": \"\"}, \"bgcolor\": \"#E5ECF6\", \"radialaxis\": {\"gridcolor\": \"white\", \"linecolor\": \"white\", \"ticks\": \"\"}}, \"scene\": {\"xaxis\": {\"backgroundcolor\": \"#E5ECF6\", \"gridcolor\": \"white\", \"gridwidth\": 2, \"linecolor\": \"white\", \"showbackground\": true, \"ticks\": \"\", \"zerolinecolor\": \"white\"}, \"yaxis\": {\"backgroundcolor\": \"#E5ECF6\", \"gridcolor\": \"white\", \"gridwidth\": 2, \"linecolor\": \"white\", \"showbackground\": true, \"ticks\": \"\", \"zerolinecolor\": \"white\"}, \"zaxis\": {\"backgroundcolor\": \"#E5ECF6\", \"gridcolor\": \"white\", \"gridwidth\": 2, \"linecolor\": \"white\", \"showbackground\": true, \"ticks\": \"\", \"zerolinecolor\": \"white\"}}, \"shapedefaults\": {\"line\": {\"color\": \"#2a3f5f\"}}, \"ternary\": {\"aaxis\": {\"gridcolor\": \"white\", \"linecolor\": \"white\", \"ticks\": \"\"}, \"baxis\": {\"gridcolor\": \"white\", \"linecolor\": \"white\", \"ticks\": \"\"}, \"bgcolor\": \"#E5ECF6\", \"caxis\": {\"gridcolor\": \"white\", \"linecolor\": \"white\", \"ticks\": \"\"}}, \"title\": {\"x\": 0.05}, \"xaxis\": {\"automargin\": true, \"gridcolor\": \"white\", \"linecolor\": \"white\", \"ticks\": \"\", \"title\": {\"standoff\": 15}, \"zerolinecolor\": \"white\", \"zerolinewidth\": 2}, \"yaxis\": {\"automargin\": true, \"gridcolor\": \"white\", \"linecolor\": \"white\", \"ticks\": \"\", \"title\": {\"standoff\": 15}, \"zerolinecolor\": \"white\", \"zerolinewidth\": 2}}}, \"xaxis\": {\"constrain\": \"domain\", \"scaleanchor\": \"y\"}, \"yaxis\": {\"autorange\": \"reversed\", \"constrain\": \"domain\"}},\n",
              "                        {\"responsive\": true}\n",
              "                    ).then(function(){\n",
              "                            \n",
              "var gd = document.getElementById('f800a231-c7d5-40a6-9a6d-869610c4a5a1');\n",
              "var x = new MutationObserver(function (mutations, observer) {{\n",
              "        var display = window.getComputedStyle(gd).display;\n",
              "        if (!display || display === 'none') {{\n",
              "            console.log([gd, 'removed!']);\n",
              "            Plotly.purge(gd);\n",
              "            observer.disconnect();\n",
              "        }}\n",
              "}});\n",
              "\n",
              "// Listen for the removal of the full notebook cells\n",
              "var notebookContainer = gd.closest('#notebook-container');\n",
              "if (notebookContainer) {{\n",
              "    x.observe(notebookContainer, {childList: true});\n",
              "}}\n",
              "\n",
              "// Listen for the clearing of the current output cell\n",
              "var outputEl = gd.closest('.output');\n",
              "if (outputEl) {{\n",
              "    x.observe(outputEl, {childList: true});\n",
              "}}\n",
              "\n",
              "                        })\n",
              "                };\n",
              "                \n",
              "            </script>\n",
              "        </div>\n",
              "</body>\n",
              "</html>"
            ]
          },
          "metadata": {
            "tags": []
          }
        }
      ]
    },
    {
      "cell_type": "code",
      "metadata": {
        "id": "CmiyLBgJ4Q_C"
      },
      "source": [
        "q1 = df['Apps'].quantile(0.25)\r\n",
        "q3 = df['Apps'].quantile(0.75)\r\n",
        "iqr = q3-q1\r\n",
        "low_out  = q1-1.5*iqr\r\n",
        "high_out = q3+1.5*iqr"
      ],
      "execution_count": 24,
      "outputs": []
    },
    {
      "cell_type": "code",
      "metadata": {
        "colab": {
          "base_uri": "https://localhost:8080/",
          "height": 713
        },
        "id": "nKqfNics4UTM",
        "outputId": "215b0fc3-8be7-4bb3-b626-d56c695fca93"
      },
      "source": [
        "df = df.loc[(df['Apps'] > low_out) & (df['Apps'] < high_out)]\r\n",
        "df"
      ],
      "execution_count": 25,
      "outputs": [
        {
          "output_type": "execute_result",
          "data": {
            "text/html": [
              "<div>\n",
              "<style scoped>\n",
              "    .dataframe tbody tr th:only-of-type {\n",
              "        vertical-align: middle;\n",
              "    }\n",
              "\n",
              "    .dataframe tbody tr th {\n",
              "        vertical-align: top;\n",
              "    }\n",
              "\n",
              "    .dataframe thead th {\n",
              "        text-align: right;\n",
              "    }\n",
              "</style>\n",
              "<table border=\"1\" class=\"dataframe\">\n",
              "  <thead>\n",
              "    <tr style=\"text-align: right;\">\n",
              "      <th></th>\n",
              "      <th>Unnamed: 0</th>\n",
              "      <th>Private</th>\n",
              "      <th>Apps</th>\n",
              "      <th>Accept</th>\n",
              "      <th>Enroll</th>\n",
              "      <th>Top10perc</th>\n",
              "      <th>Top25perc</th>\n",
              "      <th>F.Undergrad</th>\n",
              "      <th>P.Undergrad</th>\n",
              "      <th>Outstate</th>\n",
              "      <th>Room.Board</th>\n",
              "      <th>Books</th>\n",
              "      <th>Personal</th>\n",
              "      <th>PhD</th>\n",
              "      <th>Terminal</th>\n",
              "      <th>S.F.Ratio</th>\n",
              "      <th>perc.alumni</th>\n",
              "      <th>Expend</th>\n",
              "      <th>Grad.Rate</th>\n",
              "    </tr>\n",
              "  </thead>\n",
              "  <tbody>\n",
              "    <tr>\n",
              "      <th>0</th>\n",
              "      <td>Abilene Christian University</td>\n",
              "      <td>Yes</td>\n",
              "      <td>1660</td>\n",
              "      <td>1232</td>\n",
              "      <td>721</td>\n",
              "      <td>23</td>\n",
              "      <td>52</td>\n",
              "      <td>2885</td>\n",
              "      <td>537</td>\n",
              "      <td>7440</td>\n",
              "      <td>3300</td>\n",
              "      <td>450</td>\n",
              "      <td>2200</td>\n",
              "      <td>70</td>\n",
              "      <td>78</td>\n",
              "      <td>18.1</td>\n",
              "      <td>12</td>\n",
              "      <td>7041</td>\n",
              "      <td>60</td>\n",
              "    </tr>\n",
              "    <tr>\n",
              "      <th>1</th>\n",
              "      <td>Adelphi University</td>\n",
              "      <td>Yes</td>\n",
              "      <td>2186</td>\n",
              "      <td>1924</td>\n",
              "      <td>512</td>\n",
              "      <td>16</td>\n",
              "      <td>29</td>\n",
              "      <td>2683</td>\n",
              "      <td>1227</td>\n",
              "      <td>12280</td>\n",
              "      <td>6450</td>\n",
              "      <td>750</td>\n",
              "      <td>1500</td>\n",
              "      <td>29</td>\n",
              "      <td>30</td>\n",
              "      <td>12.2</td>\n",
              "      <td>16</td>\n",
              "      <td>10527</td>\n",
              "      <td>56</td>\n",
              "    </tr>\n",
              "    <tr>\n",
              "      <th>2</th>\n",
              "      <td>Adrian College</td>\n",
              "      <td>Yes</td>\n",
              "      <td>1428</td>\n",
              "      <td>1097</td>\n",
              "      <td>336</td>\n",
              "      <td>22</td>\n",
              "      <td>50</td>\n",
              "      <td>1036</td>\n",
              "      <td>99</td>\n",
              "      <td>11250</td>\n",
              "      <td>3750</td>\n",
              "      <td>400</td>\n",
              "      <td>1165</td>\n",
              "      <td>53</td>\n",
              "      <td>66</td>\n",
              "      <td>12.9</td>\n",
              "      <td>30</td>\n",
              "      <td>8735</td>\n",
              "      <td>54</td>\n",
              "    </tr>\n",
              "    <tr>\n",
              "      <th>3</th>\n",
              "      <td>Agnes Scott College</td>\n",
              "      <td>Yes</td>\n",
              "      <td>417</td>\n",
              "      <td>349</td>\n",
              "      <td>137</td>\n",
              "      <td>60</td>\n",
              "      <td>89</td>\n",
              "      <td>510</td>\n",
              "      <td>63</td>\n",
              "      <td>12960</td>\n",
              "      <td>5450</td>\n",
              "      <td>450</td>\n",
              "      <td>875</td>\n",
              "      <td>92</td>\n",
              "      <td>97</td>\n",
              "      <td>7.7</td>\n",
              "      <td>37</td>\n",
              "      <td>19016</td>\n",
              "      <td>59</td>\n",
              "    </tr>\n",
              "    <tr>\n",
              "      <th>4</th>\n",
              "      <td>Alaska Pacific University</td>\n",
              "      <td>Yes</td>\n",
              "      <td>193</td>\n",
              "      <td>146</td>\n",
              "      <td>55</td>\n",
              "      <td>16</td>\n",
              "      <td>44</td>\n",
              "      <td>249</td>\n",
              "      <td>869</td>\n",
              "      <td>7560</td>\n",
              "      <td>4120</td>\n",
              "      <td>800</td>\n",
              "      <td>1500</td>\n",
              "      <td>76</td>\n",
              "      <td>72</td>\n",
              "      <td>11.9</td>\n",
              "      <td>2</td>\n",
              "      <td>10922</td>\n",
              "      <td>15</td>\n",
              "    </tr>\n",
              "    <tr>\n",
              "      <th>...</th>\n",
              "      <td>...</td>\n",
              "      <td>...</td>\n",
              "      <td>...</td>\n",
              "      <td>...</td>\n",
              "      <td>...</td>\n",
              "      <td>...</td>\n",
              "      <td>...</td>\n",
              "      <td>...</td>\n",
              "      <td>...</td>\n",
              "      <td>...</td>\n",
              "      <td>...</td>\n",
              "      <td>...</td>\n",
              "      <td>...</td>\n",
              "      <td>...</td>\n",
              "      <td>...</td>\n",
              "      <td>...</td>\n",
              "      <td>...</td>\n",
              "      <td>...</td>\n",
              "      <td>...</td>\n",
              "    </tr>\n",
              "    <tr>\n",
              "      <th>771</th>\n",
              "      <td>Worcester Polytechnic Institute</td>\n",
              "      <td>Yes</td>\n",
              "      <td>2768</td>\n",
              "      <td>2314</td>\n",
              "      <td>682</td>\n",
              "      <td>49</td>\n",
              "      <td>86</td>\n",
              "      <td>2802</td>\n",
              "      <td>86</td>\n",
              "      <td>15884</td>\n",
              "      <td>5370</td>\n",
              "      <td>530</td>\n",
              "      <td>730</td>\n",
              "      <td>92</td>\n",
              "      <td>94</td>\n",
              "      <td>15.2</td>\n",
              "      <td>34</td>\n",
              "      <td>10774</td>\n",
              "      <td>82</td>\n",
              "    </tr>\n",
              "    <tr>\n",
              "      <th>772</th>\n",
              "      <td>Worcester State College</td>\n",
              "      <td>No</td>\n",
              "      <td>2197</td>\n",
              "      <td>1515</td>\n",
              "      <td>543</td>\n",
              "      <td>4</td>\n",
              "      <td>26</td>\n",
              "      <td>3089</td>\n",
              "      <td>2029</td>\n",
              "      <td>6797</td>\n",
              "      <td>3900</td>\n",
              "      <td>500</td>\n",
              "      <td>1200</td>\n",
              "      <td>60</td>\n",
              "      <td>60</td>\n",
              "      <td>21.0</td>\n",
              "      <td>14</td>\n",
              "      <td>4469</td>\n",
              "      <td>40</td>\n",
              "    </tr>\n",
              "    <tr>\n",
              "      <th>773</th>\n",
              "      <td>Xavier University</td>\n",
              "      <td>Yes</td>\n",
              "      <td>1959</td>\n",
              "      <td>1805</td>\n",
              "      <td>695</td>\n",
              "      <td>24</td>\n",
              "      <td>47</td>\n",
              "      <td>2849</td>\n",
              "      <td>1107</td>\n",
              "      <td>11520</td>\n",
              "      <td>4960</td>\n",
              "      <td>600</td>\n",
              "      <td>1250</td>\n",
              "      <td>73</td>\n",
              "      <td>75</td>\n",
              "      <td>13.3</td>\n",
              "      <td>31</td>\n",
              "      <td>9189</td>\n",
              "      <td>83</td>\n",
              "    </tr>\n",
              "    <tr>\n",
              "      <th>774</th>\n",
              "      <td>Xavier University of Louisiana</td>\n",
              "      <td>Yes</td>\n",
              "      <td>2097</td>\n",
              "      <td>1915</td>\n",
              "      <td>695</td>\n",
              "      <td>34</td>\n",
              "      <td>61</td>\n",
              "      <td>2793</td>\n",
              "      <td>166</td>\n",
              "      <td>6900</td>\n",
              "      <td>4200</td>\n",
              "      <td>617</td>\n",
              "      <td>781</td>\n",
              "      <td>67</td>\n",
              "      <td>75</td>\n",
              "      <td>14.4</td>\n",
              "      <td>20</td>\n",
              "      <td>8323</td>\n",
              "      <td>49</td>\n",
              "    </tr>\n",
              "    <tr>\n",
              "      <th>776</th>\n",
              "      <td>York College of Pennsylvania</td>\n",
              "      <td>Yes</td>\n",
              "      <td>2989</td>\n",
              "      <td>1855</td>\n",
              "      <td>691</td>\n",
              "      <td>28</td>\n",
              "      <td>63</td>\n",
              "      <td>2988</td>\n",
              "      <td>1726</td>\n",
              "      <td>4990</td>\n",
              "      <td>3560</td>\n",
              "      <td>500</td>\n",
              "      <td>1250</td>\n",
              "      <td>75</td>\n",
              "      <td>75</td>\n",
              "      <td>18.1</td>\n",
              "      <td>28</td>\n",
              "      <td>4509</td>\n",
              "      <td>99</td>\n",
              "    </tr>\n",
              "  </tbody>\n",
              "</table>\n",
              "<p>707 rows × 19 columns</p>\n",
              "</div>"
            ],
            "text/plain": [
              "                          Unnamed: 0 Private  ...  Expend  Grad.Rate\n",
              "0       Abilene Christian University     Yes  ...    7041         60\n",
              "1                 Adelphi University     Yes  ...   10527         56\n",
              "2                     Adrian College     Yes  ...    8735         54\n",
              "3                Agnes Scott College     Yes  ...   19016         59\n",
              "4          Alaska Pacific University     Yes  ...   10922         15\n",
              "..                               ...     ...  ...     ...        ...\n",
              "771  Worcester Polytechnic Institute     Yes  ...   10774         82\n",
              "772          Worcester State College      No  ...    4469         40\n",
              "773                Xavier University     Yes  ...    9189         83\n",
              "774   Xavier University of Louisiana     Yes  ...    8323         49\n",
              "776     York College of Pennsylvania     Yes  ...    4509         99\n",
              "\n",
              "[707 rows x 19 columns]"
            ]
          },
          "metadata": {
            "tags": []
          },
          "execution_count": 25
        }
      ]
    },
    {
      "cell_type": "code",
      "metadata": {
        "id": "iGWa0a094WZ5"
      },
      "source": [
        "df = df.drop(columns=['Unnamed: 0'])"
      ],
      "execution_count": 26,
      "outputs": []
    },
    {
      "cell_type": "code",
      "metadata": {
        "colab": {
          "base_uri": "https://localhost:8080/",
          "height": 435
        },
        "id": "q8yBvUaI4Yfc",
        "outputId": "1d1a6e34-1cac-4439-ed8c-e4aa0360b75f"
      },
      "source": [
        "df = pd.get_dummies(df,drop_first=True)\r\n",
        "df"
      ],
      "execution_count": 27,
      "outputs": [
        {
          "output_type": "execute_result",
          "data": {
            "text/html": [
              "<div>\n",
              "<style scoped>\n",
              "    .dataframe tbody tr th:only-of-type {\n",
              "        vertical-align: middle;\n",
              "    }\n",
              "\n",
              "    .dataframe tbody tr th {\n",
              "        vertical-align: top;\n",
              "    }\n",
              "\n",
              "    .dataframe thead th {\n",
              "        text-align: right;\n",
              "    }\n",
              "</style>\n",
              "<table border=\"1\" class=\"dataframe\">\n",
              "  <thead>\n",
              "    <tr style=\"text-align: right;\">\n",
              "      <th></th>\n",
              "      <th>Apps</th>\n",
              "      <th>Accept</th>\n",
              "      <th>Enroll</th>\n",
              "      <th>Top10perc</th>\n",
              "      <th>Top25perc</th>\n",
              "      <th>F.Undergrad</th>\n",
              "      <th>P.Undergrad</th>\n",
              "      <th>Outstate</th>\n",
              "      <th>Room.Board</th>\n",
              "      <th>Books</th>\n",
              "      <th>Personal</th>\n",
              "      <th>PhD</th>\n",
              "      <th>Terminal</th>\n",
              "      <th>S.F.Ratio</th>\n",
              "      <th>perc.alumni</th>\n",
              "      <th>Expend</th>\n",
              "      <th>Grad.Rate</th>\n",
              "      <th>Private_Yes</th>\n",
              "    </tr>\n",
              "  </thead>\n",
              "  <tbody>\n",
              "    <tr>\n",
              "      <th>0</th>\n",
              "      <td>1660</td>\n",
              "      <td>1232</td>\n",
              "      <td>721</td>\n",
              "      <td>23</td>\n",
              "      <td>52</td>\n",
              "      <td>2885</td>\n",
              "      <td>537</td>\n",
              "      <td>7440</td>\n",
              "      <td>3300</td>\n",
              "      <td>450</td>\n",
              "      <td>2200</td>\n",
              "      <td>70</td>\n",
              "      <td>78</td>\n",
              "      <td>18.1</td>\n",
              "      <td>12</td>\n",
              "      <td>7041</td>\n",
              "      <td>60</td>\n",
              "      <td>1</td>\n",
              "    </tr>\n",
              "    <tr>\n",
              "      <th>1</th>\n",
              "      <td>2186</td>\n",
              "      <td>1924</td>\n",
              "      <td>512</td>\n",
              "      <td>16</td>\n",
              "      <td>29</td>\n",
              "      <td>2683</td>\n",
              "      <td>1227</td>\n",
              "      <td>12280</td>\n",
              "      <td>6450</td>\n",
              "      <td>750</td>\n",
              "      <td>1500</td>\n",
              "      <td>29</td>\n",
              "      <td>30</td>\n",
              "      <td>12.2</td>\n",
              "      <td>16</td>\n",
              "      <td>10527</td>\n",
              "      <td>56</td>\n",
              "      <td>1</td>\n",
              "    </tr>\n",
              "    <tr>\n",
              "      <th>2</th>\n",
              "      <td>1428</td>\n",
              "      <td>1097</td>\n",
              "      <td>336</td>\n",
              "      <td>22</td>\n",
              "      <td>50</td>\n",
              "      <td>1036</td>\n",
              "      <td>99</td>\n",
              "      <td>11250</td>\n",
              "      <td>3750</td>\n",
              "      <td>400</td>\n",
              "      <td>1165</td>\n",
              "      <td>53</td>\n",
              "      <td>66</td>\n",
              "      <td>12.9</td>\n",
              "      <td>30</td>\n",
              "      <td>8735</td>\n",
              "      <td>54</td>\n",
              "      <td>1</td>\n",
              "    </tr>\n",
              "    <tr>\n",
              "      <th>3</th>\n",
              "      <td>417</td>\n",
              "      <td>349</td>\n",
              "      <td>137</td>\n",
              "      <td>60</td>\n",
              "      <td>89</td>\n",
              "      <td>510</td>\n",
              "      <td>63</td>\n",
              "      <td>12960</td>\n",
              "      <td>5450</td>\n",
              "      <td>450</td>\n",
              "      <td>875</td>\n",
              "      <td>92</td>\n",
              "      <td>97</td>\n",
              "      <td>7.7</td>\n",
              "      <td>37</td>\n",
              "      <td>19016</td>\n",
              "      <td>59</td>\n",
              "      <td>1</td>\n",
              "    </tr>\n",
              "    <tr>\n",
              "      <th>4</th>\n",
              "      <td>193</td>\n",
              "      <td>146</td>\n",
              "      <td>55</td>\n",
              "      <td>16</td>\n",
              "      <td>44</td>\n",
              "      <td>249</td>\n",
              "      <td>869</td>\n",
              "      <td>7560</td>\n",
              "      <td>4120</td>\n",
              "      <td>800</td>\n",
              "      <td>1500</td>\n",
              "      <td>76</td>\n",
              "      <td>72</td>\n",
              "      <td>11.9</td>\n",
              "      <td>2</td>\n",
              "      <td>10922</td>\n",
              "      <td>15</td>\n",
              "      <td>1</td>\n",
              "    </tr>\n",
              "    <tr>\n",
              "      <th>...</th>\n",
              "      <td>...</td>\n",
              "      <td>...</td>\n",
              "      <td>...</td>\n",
              "      <td>...</td>\n",
              "      <td>...</td>\n",
              "      <td>...</td>\n",
              "      <td>...</td>\n",
              "      <td>...</td>\n",
              "      <td>...</td>\n",
              "      <td>...</td>\n",
              "      <td>...</td>\n",
              "      <td>...</td>\n",
              "      <td>...</td>\n",
              "      <td>...</td>\n",
              "      <td>...</td>\n",
              "      <td>...</td>\n",
              "      <td>...</td>\n",
              "      <td>...</td>\n",
              "    </tr>\n",
              "    <tr>\n",
              "      <th>771</th>\n",
              "      <td>2768</td>\n",
              "      <td>2314</td>\n",
              "      <td>682</td>\n",
              "      <td>49</td>\n",
              "      <td>86</td>\n",
              "      <td>2802</td>\n",
              "      <td>86</td>\n",
              "      <td>15884</td>\n",
              "      <td>5370</td>\n",
              "      <td>530</td>\n",
              "      <td>730</td>\n",
              "      <td>92</td>\n",
              "      <td>94</td>\n",
              "      <td>15.2</td>\n",
              "      <td>34</td>\n",
              "      <td>10774</td>\n",
              "      <td>82</td>\n",
              "      <td>1</td>\n",
              "    </tr>\n",
              "    <tr>\n",
              "      <th>772</th>\n",
              "      <td>2197</td>\n",
              "      <td>1515</td>\n",
              "      <td>543</td>\n",
              "      <td>4</td>\n",
              "      <td>26</td>\n",
              "      <td>3089</td>\n",
              "      <td>2029</td>\n",
              "      <td>6797</td>\n",
              "      <td>3900</td>\n",
              "      <td>500</td>\n",
              "      <td>1200</td>\n",
              "      <td>60</td>\n",
              "      <td>60</td>\n",
              "      <td>21.0</td>\n",
              "      <td>14</td>\n",
              "      <td>4469</td>\n",
              "      <td>40</td>\n",
              "      <td>0</td>\n",
              "    </tr>\n",
              "    <tr>\n",
              "      <th>773</th>\n",
              "      <td>1959</td>\n",
              "      <td>1805</td>\n",
              "      <td>695</td>\n",
              "      <td>24</td>\n",
              "      <td>47</td>\n",
              "      <td>2849</td>\n",
              "      <td>1107</td>\n",
              "      <td>11520</td>\n",
              "      <td>4960</td>\n",
              "      <td>600</td>\n",
              "      <td>1250</td>\n",
              "      <td>73</td>\n",
              "      <td>75</td>\n",
              "      <td>13.3</td>\n",
              "      <td>31</td>\n",
              "      <td>9189</td>\n",
              "      <td>83</td>\n",
              "      <td>1</td>\n",
              "    </tr>\n",
              "    <tr>\n",
              "      <th>774</th>\n",
              "      <td>2097</td>\n",
              "      <td>1915</td>\n",
              "      <td>695</td>\n",
              "      <td>34</td>\n",
              "      <td>61</td>\n",
              "      <td>2793</td>\n",
              "      <td>166</td>\n",
              "      <td>6900</td>\n",
              "      <td>4200</td>\n",
              "      <td>617</td>\n",
              "      <td>781</td>\n",
              "      <td>67</td>\n",
              "      <td>75</td>\n",
              "      <td>14.4</td>\n",
              "      <td>20</td>\n",
              "      <td>8323</td>\n",
              "      <td>49</td>\n",
              "      <td>1</td>\n",
              "    </tr>\n",
              "    <tr>\n",
              "      <th>776</th>\n",
              "      <td>2989</td>\n",
              "      <td>1855</td>\n",
              "      <td>691</td>\n",
              "      <td>28</td>\n",
              "      <td>63</td>\n",
              "      <td>2988</td>\n",
              "      <td>1726</td>\n",
              "      <td>4990</td>\n",
              "      <td>3560</td>\n",
              "      <td>500</td>\n",
              "      <td>1250</td>\n",
              "      <td>75</td>\n",
              "      <td>75</td>\n",
              "      <td>18.1</td>\n",
              "      <td>28</td>\n",
              "      <td>4509</td>\n",
              "      <td>99</td>\n",
              "      <td>1</td>\n",
              "    </tr>\n",
              "  </tbody>\n",
              "</table>\n",
              "<p>707 rows × 18 columns</p>\n",
              "</div>"
            ],
            "text/plain": [
              "     Apps  Accept  Enroll  ...  Expend  Grad.Rate  Private_Yes\n",
              "0    1660    1232     721  ...    7041         60            1\n",
              "1    2186    1924     512  ...   10527         56            1\n",
              "2    1428    1097     336  ...    8735         54            1\n",
              "3     417     349     137  ...   19016         59            1\n",
              "4     193     146      55  ...   10922         15            1\n",
              "..    ...     ...     ...  ...     ...        ...          ...\n",
              "771  2768    2314     682  ...   10774         82            1\n",
              "772  2197    1515     543  ...    4469         40            0\n",
              "773  1959    1805     695  ...    9189         83            1\n",
              "774  2097    1915     695  ...    8323         49            1\n",
              "776  2989    1855     691  ...    4509         99            1\n",
              "\n",
              "[707 rows x 18 columns]"
            ]
          },
          "metadata": {
            "tags": []
          },
          "execution_count": 27
        }
      ]
    },
    {
      "cell_type": "code",
      "metadata": {
        "id": "0NJItkCb4Z8v"
      },
      "source": [
        "from sklearn.model_selection import train_test_split\r\n",
        "from sklearn.metrics import accuracy_score,f1_score,precision_score,recall_score\r\n",
        "from sklearn.metrics import confusion_matrix\r\n",
        "from sklearn.preprocessing import StandardScaler\r\n",
        "from sklearn.preprocessing import MinMaxScaler"
      ],
      "execution_count": 28,
      "outputs": []
    },
    {
      "cell_type": "code",
      "metadata": {
        "id": "nTKdF2T04csa"
      },
      "source": [
        "sc_n = MinMaxScaler()"
      ],
      "execution_count": 29,
      "outputs": []
    },
    {
      "cell_type": "code",
      "metadata": {
        "colab": {
          "base_uri": "https://localhost:8080/",
          "height": 435
        },
        "id": "faBm2GBJ4ePr",
        "outputId": "f975c706-2c6b-4af6-fa45-d1160f2f99cc"
      },
      "source": [
        "df_sc = sc_n.fit_transform(df)\r\n",
        "df_sc = pd.DataFrame(df_sc,columns=df.columns)\r\n",
        "df_sc"
      ],
      "execution_count": 30,
      "outputs": [
        {
          "output_type": "execute_result",
          "data": {
            "text/html": [
              "<div>\n",
              "<style scoped>\n",
              "    .dataframe tbody tr th:only-of-type {\n",
              "        vertical-align: middle;\n",
              "    }\n",
              "\n",
              "    .dataframe tbody tr th {\n",
              "        vertical-align: top;\n",
              "    }\n",
              "\n",
              "    .dataframe thead th {\n",
              "        text-align: right;\n",
              "    }\n",
              "</style>\n",
              "<table border=\"1\" class=\"dataframe\">\n",
              "  <thead>\n",
              "    <tr style=\"text-align: right;\">\n",
              "      <th></th>\n",
              "      <th>Apps</th>\n",
              "      <th>Accept</th>\n",
              "      <th>Enroll</th>\n",
              "      <th>Top10perc</th>\n",
              "      <th>Top25perc</th>\n",
              "      <th>F.Undergrad</th>\n",
              "      <th>P.Undergrad</th>\n",
              "      <th>Outstate</th>\n",
              "      <th>Room.Board</th>\n",
              "      <th>Books</th>\n",
              "      <th>Personal</th>\n",
              "      <th>PhD</th>\n",
              "      <th>Terminal</th>\n",
              "      <th>S.F.Ratio</th>\n",
              "      <th>perc.alumni</th>\n",
              "      <th>Expend</th>\n",
              "      <th>Grad.Rate</th>\n",
              "      <th>Private_Yes</th>\n",
              "    </tr>\n",
              "  </thead>\n",
              "  <tbody>\n",
              "    <tr>\n",
              "      <th>0</th>\n",
              "      <td>0.202254</td>\n",
              "      <td>0.172645</td>\n",
              "      <td>0.149782</td>\n",
              "      <td>0.231579</td>\n",
              "      <td>0.472527</td>\n",
              "      <td>0.100811</td>\n",
              "      <td>0.048901</td>\n",
              "      <td>0.263430</td>\n",
              "      <td>0.239596</td>\n",
              "      <td>0.157754</td>\n",
              "      <td>0.297710</td>\n",
              "      <td>0.652632</td>\n",
              "      <td>0.710526</td>\n",
              "      <td>0.418231</td>\n",
              "      <td>0.187500</td>\n",
              "      <td>0.090672</td>\n",
              "      <td>0.462963</td>\n",
              "      <td>1.0</td>\n",
              "    </tr>\n",
              "    <tr>\n",
              "      <th>1</th>\n",
              "      <td>0.269630</td>\n",
              "      <td>0.275636</td>\n",
              "      <td>0.104148</td>\n",
              "      <td>0.157895</td>\n",
              "      <td>0.219780</td>\n",
              "      <td>0.093395</td>\n",
              "      <td>0.111851</td>\n",
              "      <td>0.513430</td>\n",
              "      <td>0.736129</td>\n",
              "      <td>0.291444</td>\n",
              "      <td>0.190840</td>\n",
              "      <td>0.221053</td>\n",
              "      <td>0.078947</td>\n",
              "      <td>0.260054</td>\n",
              "      <td>0.250000</td>\n",
              "      <td>0.172664</td>\n",
              "      <td>0.425926</td>\n",
              "      <td>1.0</td>\n",
              "    </tr>\n",
              "    <tr>\n",
              "      <th>2</th>\n",
              "      <td>0.172537</td>\n",
              "      <td>0.152552</td>\n",
              "      <td>0.065721</td>\n",
              "      <td>0.221053</td>\n",
              "      <td>0.450549</td>\n",
              "      <td>0.032931</td>\n",
              "      <td>0.008941</td>\n",
              "      <td>0.460227</td>\n",
              "      <td>0.310530</td>\n",
              "      <td>0.135472</td>\n",
              "      <td>0.139695</td>\n",
              "      <td>0.473684</td>\n",
              "      <td>0.552632</td>\n",
              "      <td>0.278820</td>\n",
              "      <td>0.468750</td>\n",
              "      <td>0.130516</td>\n",
              "      <td>0.407407</td>\n",
              "      <td>1.0</td>\n",
              "    </tr>\n",
              "    <tr>\n",
              "      <th>3</th>\n",
              "      <td>0.043038</td>\n",
              "      <td>0.041226</td>\n",
              "      <td>0.022271</td>\n",
              "      <td>0.621053</td>\n",
              "      <td>0.879121</td>\n",
              "      <td>0.013620</td>\n",
              "      <td>0.005656</td>\n",
              "      <td>0.548554</td>\n",
              "      <td>0.578499</td>\n",
              "      <td>0.157754</td>\n",
              "      <td>0.095420</td>\n",
              "      <td>0.884211</td>\n",
              "      <td>0.960526</td>\n",
              "      <td>0.139410</td>\n",
              "      <td>0.578125</td>\n",
              "      <td>0.372330</td>\n",
              "      <td>0.453704</td>\n",
              "      <td>1.0</td>\n",
              "    </tr>\n",
              "    <tr>\n",
              "      <th>4</th>\n",
              "      <td>0.014346</td>\n",
              "      <td>0.011014</td>\n",
              "      <td>0.004367</td>\n",
              "      <td>0.157895</td>\n",
              "      <td>0.384615</td>\n",
              "      <td>0.004038</td>\n",
              "      <td>0.079190</td>\n",
              "      <td>0.269628</td>\n",
              "      <td>0.368852</td>\n",
              "      <td>0.313725</td>\n",
              "      <td>0.190840</td>\n",
              "      <td>0.715789</td>\n",
              "      <td>0.631579</td>\n",
              "      <td>0.252011</td>\n",
              "      <td>0.031250</td>\n",
              "      <td>0.181955</td>\n",
              "      <td>0.046296</td>\n",
              "      <td>1.0</td>\n",
              "    </tr>\n",
              "    <tr>\n",
              "      <th>...</th>\n",
              "      <td>...</td>\n",
              "      <td>...</td>\n",
              "      <td>...</td>\n",
              "      <td>...</td>\n",
              "      <td>...</td>\n",
              "      <td>...</td>\n",
              "      <td>...</td>\n",
              "      <td>...</td>\n",
              "      <td>...</td>\n",
              "      <td>...</td>\n",
              "      <td>...</td>\n",
              "      <td>...</td>\n",
              "      <td>...</td>\n",
              "      <td>...</td>\n",
              "      <td>...</td>\n",
              "      <td>...</td>\n",
              "      <td>...</td>\n",
              "      <td>...</td>\n",
              "    </tr>\n",
              "    <tr>\n",
              "      <th>702</th>\n",
              "      <td>0.344178</td>\n",
              "      <td>0.333681</td>\n",
              "      <td>0.141266</td>\n",
              "      <td>0.505263</td>\n",
              "      <td>0.846154</td>\n",
              "      <td>0.097764</td>\n",
              "      <td>0.007755</td>\n",
              "      <td>0.699587</td>\n",
              "      <td>0.565889</td>\n",
              "      <td>0.193405</td>\n",
              "      <td>0.073282</td>\n",
              "      <td>0.884211</td>\n",
              "      <td>0.921053</td>\n",
              "      <td>0.340483</td>\n",
              "      <td>0.531250</td>\n",
              "      <td>0.178474</td>\n",
              "      <td>0.666667</td>\n",
              "      <td>1.0</td>\n",
              "    </tr>\n",
              "    <tr>\n",
              "      <th>703</th>\n",
              "      <td>0.271039</td>\n",
              "      <td>0.214764</td>\n",
              "      <td>0.110917</td>\n",
              "      <td>0.031579</td>\n",
              "      <td>0.186813</td>\n",
              "      <td>0.108301</td>\n",
              "      <td>0.185020</td>\n",
              "      <td>0.230217</td>\n",
              "      <td>0.334174</td>\n",
              "      <td>0.180036</td>\n",
              "      <td>0.145038</td>\n",
              "      <td>0.547368</td>\n",
              "      <td>0.473684</td>\n",
              "      <td>0.495979</td>\n",
              "      <td>0.218750</td>\n",
              "      <td>0.030177</td>\n",
              "      <td>0.277778</td>\n",
              "      <td>0.0</td>\n",
              "    </tr>\n",
              "    <tr>\n",
              "      <th>704</th>\n",
              "      <td>0.240553</td>\n",
              "      <td>0.257925</td>\n",
              "      <td>0.144105</td>\n",
              "      <td>0.242105</td>\n",
              "      <td>0.417582</td>\n",
              "      <td>0.099490</td>\n",
              "      <td>0.100903</td>\n",
              "      <td>0.474174</td>\n",
              "      <td>0.501261</td>\n",
              "      <td>0.224599</td>\n",
              "      <td>0.152672</td>\n",
              "      <td>0.684211</td>\n",
              "      <td>0.671053</td>\n",
              "      <td>0.289544</td>\n",
              "      <td>0.484375</td>\n",
              "      <td>0.141194</td>\n",
              "      <td>0.675926</td>\n",
              "      <td>1.0</td>\n",
              "    </tr>\n",
              "    <tr>\n",
              "      <th>705</th>\n",
              "      <td>0.258230</td>\n",
              "      <td>0.274297</td>\n",
              "      <td>0.144105</td>\n",
              "      <td>0.347368</td>\n",
              "      <td>0.571429</td>\n",
              "      <td>0.097434</td>\n",
              "      <td>0.015053</td>\n",
              "      <td>0.235537</td>\n",
              "      <td>0.381463</td>\n",
              "      <td>0.232175</td>\n",
              "      <td>0.081069</td>\n",
              "      <td>0.621053</td>\n",
              "      <td>0.671053</td>\n",
              "      <td>0.319035</td>\n",
              "      <td>0.312500</td>\n",
              "      <td>0.120825</td>\n",
              "      <td>0.361111</td>\n",
              "      <td>1.0</td>\n",
              "    </tr>\n",
              "    <tr>\n",
              "      <th>706</th>\n",
              "      <td>0.372486</td>\n",
              "      <td>0.265367</td>\n",
              "      <td>0.143231</td>\n",
              "      <td>0.284211</td>\n",
              "      <td>0.593407</td>\n",
              "      <td>0.104593</td>\n",
              "      <td>0.157376</td>\n",
              "      <td>0.136880</td>\n",
              "      <td>0.280580</td>\n",
              "      <td>0.180036</td>\n",
              "      <td>0.152672</td>\n",
              "      <td>0.705263</td>\n",
              "      <td>0.671053</td>\n",
              "      <td>0.418231</td>\n",
              "      <td>0.437500</td>\n",
              "      <td>0.031118</td>\n",
              "      <td>0.824074</td>\n",
              "      <td>1.0</td>\n",
              "    </tr>\n",
              "  </tbody>\n",
              "</table>\n",
              "<p>707 rows × 18 columns</p>\n",
              "</div>"
            ],
            "text/plain": [
              "         Apps    Accept    Enroll  ...    Expend  Grad.Rate  Private_Yes\n",
              "0    0.202254  0.172645  0.149782  ...  0.090672   0.462963          1.0\n",
              "1    0.269630  0.275636  0.104148  ...  0.172664   0.425926          1.0\n",
              "2    0.172537  0.152552  0.065721  ...  0.130516   0.407407          1.0\n",
              "3    0.043038  0.041226  0.022271  ...  0.372330   0.453704          1.0\n",
              "4    0.014346  0.011014  0.004367  ...  0.181955   0.046296          1.0\n",
              "..        ...       ...       ...  ...       ...        ...          ...\n",
              "702  0.344178  0.333681  0.141266  ...  0.178474   0.666667          1.0\n",
              "703  0.271039  0.214764  0.110917  ...  0.030177   0.277778          0.0\n",
              "704  0.240553  0.257925  0.144105  ...  0.141194   0.675926          1.0\n",
              "705  0.258230  0.274297  0.144105  ...  0.120825   0.361111          1.0\n",
              "706  0.372486  0.265367  0.143231  ...  0.031118   0.824074          1.0\n",
              "\n",
              "[707 rows x 18 columns]"
            ]
          },
          "metadata": {
            "tags": []
          },
          "execution_count": 30
        }
      ]
    },
    {
      "cell_type": "code",
      "metadata": {
        "id": "IOBVrtq64gAE"
      },
      "source": [
        "from sklearn.cluster import KMeans"
      ],
      "execution_count": 31,
      "outputs": []
    },
    {
      "cell_type": "code",
      "metadata": {
        "id": "n7a6MVt84iIA"
      },
      "source": [
        "x = df_sc[['Apps','Accept']].values"
      ],
      "execution_count": 32,
      "outputs": []
    },
    {
      "cell_type": "code",
      "metadata": {
        "id": "NTCmhVwg4kMZ"
      },
      "source": [
        "kmeans = KMeans(n_clusters=2 , random_state=99)"
      ],
      "execution_count": 33,
      "outputs": []
    },
    {
      "cell_type": "code",
      "metadata": {
        "id": "UVY1D4KZ4lu0"
      },
      "source": [
        "kmeans_label = kmeans.fit_predict(x)"
      ],
      "execution_count": 34,
      "outputs": []
    },
    {
      "cell_type": "code",
      "metadata": {
        "colab": {
          "base_uri": "https://localhost:8080/"
        },
        "id": "J3NBuRmi4nYl",
        "outputId": "ccee5c97-52ec-4acd-d3ff-2efe6bb74455"
      },
      "source": [
        "kmeans.cluster_centers_"
      ],
      "execution_count": 35,
      "outputs": [
        {
          "output_type": "execute_result",
          "data": {
            "text/plain": [
              "array([[0.14624869, 0.12570876],\n",
              "       [0.63242808, 0.49517756]])"
            ]
          },
          "metadata": {
            "tags": []
          },
          "execution_count": 35
        }
      ]
    },
    {
      "cell_type": "code",
      "metadata": {
        "colab": {
          "base_uri": "https://localhost:8080/"
        },
        "id": "y8eswlyr4pOW",
        "outputId": "a7ef1b6d-d37f-491a-958d-da9f83319df4"
      },
      "source": [
        "kmeans.inertia_"
      ],
      "execution_count": 36,
      "outputs": [
        {
          "output_type": "execute_result",
          "data": {
            "text/plain": [
              "18.500936763207747"
            ]
          },
          "metadata": {
            "tags": []
          },
          "execution_count": 36
        }
      ]
    },
    {
      "cell_type": "code",
      "metadata": {
        "colab": {
          "base_uri": "https://localhost:8080/"
        },
        "id": "7z3T7kJD4reQ",
        "outputId": "577992e4-14de-49d2-ccaf-1947115e6e95"
      },
      "source": [
        "kmeans.n_iter_"
      ],
      "execution_count": 37,
      "outputs": [
        {
          "output_type": "execute_result",
          "data": {
            "text/plain": [
              "3"
            ]
          },
          "metadata": {
            "tags": []
          },
          "execution_count": 37
        }
      ]
    },
    {
      "cell_type": "code",
      "metadata": {
        "id": "jQX3RVIh4tZp"
      },
      "source": [
        "x1 = x[kmeans_label == 0 ][:,0]\r\n",
        "y1 = x[kmeans_label == 0 ][:,1]\r\n",
        "x2 = x[kmeans_label == 1 ][:,0]\r\n",
        "y2 = x[kmeans_label == 1 ][:,1]"
      ],
      "execution_count": 38,
      "outputs": []
    },
    {
      "cell_type": "code",
      "metadata": {
        "colab": {
          "base_uri": "https://localhost:8080/",
          "height": 405
        },
        "id": "Blzf8J3g4vgE",
        "outputId": "443dfd86-64c8-4803-8ba5-3a73179ed8bc"
      },
      "source": [
        "plt.figure(figsize=(10,6))\r\n",
        "plt.scatter(x1,y1,c='red',label =\"Cluster 1\" )\r\n",
        "plt.scatter(x2,y2,c='blue',label =\"Cluster 2\" )\r\n",
        "plt.scatter(kmeans.cluster_centers_[:,0],kmeans.cluster_centers_[:,1],c='yellow',label =\"Center\" )\r\n",
        "plt.xlabel('Apps')\r\n",
        "plt.ylabel('Accept')\r\n",
        "plt.legend()"
      ],
      "execution_count": 39,
      "outputs": [
        {
          "output_type": "execute_result",
          "data": {
            "text/plain": [
              "<matplotlib.legend.Legend at 0x7f6774ad4c18>"
            ]
          },
          "metadata": {
            "tags": []
          },
          "execution_count": 39
        },
        {
          "output_type": "display_data",
          "data": {
            "image/png": "[encoded data removed]",
            "text/plain": [
              "<Figure size 720x432 with 1 Axes>"
            ]
          },
          "metadata": {
            "tags": [],
            "needs_background": "light"
          }
        }
      ]
    },
    {
      "cell_type": "code",
      "metadata": {
        "colab": {
          "base_uri": "https://localhost:8080/",
          "height": 501
        },
        "id": "i42JFc0g4xIK",
        "outputId": "fb1a651a-0ec2-45b3-e711-9d7395c04604"
      },
      "source": [
        "K_lst = []\r\n",
        "for i in range(1,10):\r\n",
        "    kmeans = KMeans(n_clusters=i , random_state=99)\r\n",
        "    kmeans.fit(x)\r\n",
        "    K_lst.append(kmeans.inertia_)\r\n",
        "plt.figure(figsize = (10,8))\r\n",
        "plt.plot(range(1,10),K_lst)"
      ],
      "execution_count": 40,
      "outputs": [
        {
          "output_type": "execute_result",
          "data": {
            "text/plain": [
              "[<matplotlib.lines.Line2D at 0x7f6774ac7c18>]"
            ]
          },
          "metadata": {
            "tags": []
          },
          "execution_count": 40
        },
        {
          "output_type": "display_data",
          "data": {
            "image/png": "[encoded data removed]",
            "text/plain": [
              "<Figure size 720x576 with 1 Axes>"
            ]
          },
          "metadata": {
            "tags": [],
            "needs_background": "light"
          }
        }
      ]
    },
    {
      "cell_type": "code",
      "metadata": {
        "id": "nap9DeWO40UT"
      },
      "source": [
        "kmeans = KMeans(n_clusters=3 , random_state=99)"
      ],
      "execution_count": 41,
      "outputs": []
    },
    {
      "cell_type": "code",
      "metadata": {
        "id": "D18J4fiY420r"
      },
      "source": [
        "kmeans_label = kmeans.fit_predict(x)"
      ],
      "execution_count": 42,
      "outputs": []
    },
    {
      "cell_type": "code",
      "metadata": {
        "colab": {
          "base_uri": "https://localhost:8080/"
        },
        "id": "NeJHKfIo44ZK",
        "outputId": "7376cfa8-d120-4aeb-90d0-3aff925d6a70"
      },
      "source": [
        "kmeans.cluster_centers_"
      ],
      "execution_count": 43,
      "outputs": [
        {
          "output_type": "execute_result",
          "data": {
            "text/plain": [
              "array([[0.10556925, 0.09384697],\n",
              "       [0.76747416, 0.60441268],\n",
              "       [0.37116495, 0.29595906]])"
            ]
          },
          "metadata": {
            "tags": []
          },
          "execution_count": 43
        }
      ]
    },
    {
      "cell_type": "code",
      "metadata": {
        "colab": {
          "base_uri": "https://localhost:8080/"
        },
        "id": "bUHWKivk46E9",
        "outputId": "28908391-0879-4809-961a-17557bd9002e"
      },
      "source": [
        "kmeans.inertia_"
      ],
      "execution_count": 44,
      "outputs": [
        {
          "output_type": "execute_result",
          "data": {
            "text/plain": [
              "9.295966372666273"
            ]
          },
          "metadata": {
            "tags": []
          },
          "execution_count": 44
        }
      ]
    },
    {
      "cell_type": "code",
      "metadata": {
        "colab": {
          "base_uri": "https://localhost:8080/"
        },
        "id": "lb_-ic8r47p7",
        "outputId": "f27f1744-50a4-491e-b6ff-8537a2405702"
      },
      "source": [
        "kmeans.n_iter_"
      ],
      "execution_count": 45,
      "outputs": [
        {
          "output_type": "execute_result",
          "data": {
            "text/plain": [
              "15"
            ]
          },
          "metadata": {
            "tags": []
          },
          "execution_count": 45
        }
      ]
    },
    {
      "cell_type": "code",
      "metadata": {
        "id": "ggs5wVEF487A"
      },
      "source": [
        "x1 = x[kmeans_label == 0 ][:,0]\r\n",
        "y1 = x[kmeans_label == 0 ][:,1]\r\n",
        "x2 = x[kmeans_label == 1 ][:,0]\r\n",
        "y2 = x[kmeans_label == 1 ][:,1]\r\n",
        "x3 = x[kmeans_label == 2 ][:,0]\r\n",
        "y3 = x[kmeans_label == 2 ][:,1]"
      ],
      "execution_count": 46,
      "outputs": []
    },
    {
      "cell_type": "code",
      "metadata": {
        "colab": {
          "base_uri": "https://localhost:8080/",
          "height": 405
        },
        "id": "d4ZszyXb4_A6",
        "outputId": "0ad107ae-594a-4153-e43b-0127f70cc52d"
      },
      "source": [
        "plt.figure(figsize=(10,6))\r\n",
        "plt.scatter(x1,y1,c='red',label =\"Cluster 1\" )\r\n",
        "plt.scatter(x2,y2,c='blue',label =\"Cluster 2\" )\r\n",
        "plt.scatter(x3,y3,c='green',label =\"Cluster 3\" )\r\n",
        "plt.scatter(kmeans.cluster_centers_[:,0],kmeans.cluster_centers_[:,1],c='yellow',label =\"Center\" )\r\n",
        "plt.xlabel('Apps')\r\n",
        "plt.ylabel('Accept')\r\n",
        "plt.legend()"
      ],
      "execution_count": 47,
      "outputs": [
        {
          "output_type": "execute_result",
          "data": {
            "text/plain": [
              "<matplotlib.legend.Legend at 0x7f6774a44da0>"
            ]
          },
          "metadata": {
            "tags": []
          },
          "execution_count": 47
        },
        {
          "output_type": "display_data",
          "data": {
            "image/png": "[encoded data removed]",
            "text/plain": [
              "<Figure size 720x432 with 1 Axes>"
            ]
          },
          "metadata": {
            "tags": [],
            "needs_background": "light"
          }
        }
      ]
    },
    {
      "cell_type": "code",
      "metadata": {
        "id": "9FWU3JRT5An1"
      },
      "source": [
        "y = df_sc[['Top25perc','Outstate']].values"
      ],
      "execution_count": 48,
      "outputs": []
    },
    {
      "cell_type": "code",
      "metadata": {
        "id": "1sq87ENr5E5E"
      },
      "source": [
        "kmeans = KMeans(n_clusters=2 , random_state=99)"
      ],
      "execution_count": 49,
      "outputs": []
    },
    {
      "cell_type": "code",
      "metadata": {
        "id": "Hyu97q6c5Ge5"
      },
      "source": [
        "kmeans_label = kmeans.fit_predict(y)"
      ],
      "execution_count": 50,
      "outputs": []
    },
    {
      "cell_type": "code",
      "metadata": {
        "colab": {
          "base_uri": "https://localhost:8080/"
        },
        "id": "urkXcnrA5IF_",
        "outputId": "80ffa8d3-1030-42c9-901a-b6e172b7fb25"
      },
      "source": [
        "kmeans.cluster_centers_"
      ],
      "execution_count": 51,
      "outputs": [
        {
          "output_type": "execute_result",
          "data": {
            "text/plain": [
              "array([[0.69582591, 0.60967522],\n",
              "       [0.38396185, 0.30776819]])"
            ]
          },
          "metadata": {
            "tags": []
          },
          "execution_count": 51
        }
      ]
    },
    {
      "cell_type": "code",
      "metadata": {
        "colab": {
          "base_uri": "https://localhost:8080/"
        },
        "id": "F_uf5TlY5Jv-",
        "outputId": "7085d8df-5a4a-4e3e-e5d4-d77566ed6635"
      },
      "source": [
        "kmeans.inertia_"
      ],
      "execution_count": 52,
      "outputs": [
        {
          "output_type": "execute_result",
          "data": {
            "text/plain": [
              "29.750635183263068"
            ]
          },
          "metadata": {
            "tags": []
          },
          "execution_count": 52
        }
      ]
    },
    {
      "cell_type": "code",
      "metadata": {
        "colab": {
          "base_uri": "https://localhost:8080/"
        },
        "id": "PCV3YpVz5LWh",
        "outputId": "fd168ba9-9c89-41af-d3ca-ba54dc60f81f"
      },
      "source": [
        "kmeans.n_iter_"
      ],
      "execution_count": 53,
      "outputs": [
        {
          "output_type": "execute_result",
          "data": {
            "text/plain": [
              "5"
            ]
          },
          "metadata": {
            "tags": []
          },
          "execution_count": 53
        }
      ]
    },
    {
      "cell_type": "code",
      "metadata": {
        "id": "oMOh1W-F5M6J"
      },
      "source": [
        "x1 = y[kmeans_label == 0 ][:,0]\r\n",
        "y1 = y[kmeans_label == 0 ][:,1]\r\n",
        "x2 = y[kmeans_label == 1 ][:,0]\r\n",
        "y2 = y[kmeans_label == 1 ][:,1]"
      ],
      "execution_count": 54,
      "outputs": []
    },
    {
      "cell_type": "code",
      "metadata": {
        "colab": {
          "base_uri": "https://localhost:8080/",
          "height": 405
        },
        "id": "Ct4Cfv-A5O91",
        "outputId": "420d3405-e904-47eb-ca1d-75456ddd859a"
      },
      "source": [
        "plt.figure(figsize=(10,6))\r\n",
        "plt.scatter(x1,y1,c='red',label =\"Cluster 1\" )\r\n",
        "plt.scatter(x2,y2,c='blue',label =\"Cluster 2\" )\r\n",
        "plt.scatter(kmeans.cluster_centers_[:,0],kmeans.cluster_centers_[:,1],c='yellow',label =\"Center\" )\r\n",
        "plt.xlabel('Top25perc')\r\n",
        "plt.ylabel('Outstate')\r\n",
        "plt.legend()"
      ],
      "execution_count": 55,
      "outputs": [
        {
          "output_type": "execute_result",
          "data": {
            "text/plain": [
              "<matplotlib.legend.Legend at 0x7f67749bdb00>"
            ]
          },
          "metadata": {
            "tags": []
          },
          "execution_count": 55
        },
        {
          "output_type": "display_data",
          "data": {
            "image/png": "[encoded data removed]",
            "text/plain": [
              "<Figure size 720x432 with 1 Axes>"
            ]
          },
          "metadata": {
            "tags": [],
            "needs_background": "light"
          }
        }
      ]
    },
    {
      "cell_type": "code",
      "metadata": {
        "colab": {
          "base_uri": "https://localhost:8080/",
          "height": 501
        },
        "id": "0ILCGJg-5RQk",
        "outputId": "fe43e1f2-e95a-4afe-eff7-08380b96e421"
      },
      "source": [
        "K_lst = []\r\n",
        "for i in range(1,10):\r\n",
        "    kmeans = KMeans(n_clusters=i , random_state=99)\r\n",
        "    kmeans.fit(y)\r\n",
        "    K_lst.append(kmeans.inertia_)\r\n",
        "plt.figure(figsize = (10,8))\r\n",
        "plt.plot(range(1,10),K_lst)"
      ],
      "execution_count": 56,
      "outputs": [
        {
          "output_type": "execute_result",
          "data": {
            "text/plain": [
              "[<matplotlib.lines.Line2D at 0x7f6774928ef0>]"
            ]
          },
          "metadata": {
            "tags": []
          },
          "execution_count": 56
        },
        {
          "output_type": "display_data",
          "data": {
            "image/png": "[encoded data removed]",
            "text/plain": [
              "<Figure size 720x576 with 1 Axes>"
            ]
          },
          "metadata": {
            "tags": [],
            "needs_background": "light"
          }
        }
      ]
    },
    {
      "cell_type": "code",
      "metadata": {
        "id": "ivNsVfeU5TWy"
      },
      "source": [
        "kmeans = KMeans(n_clusters=3 , random_state=99)"
      ],
      "execution_count": 57,
      "outputs": []
    },
    {
      "cell_type": "code",
      "metadata": {
        "id": "gosvyU5R5Vgp"
      },
      "source": [
        "kmeans_label = kmeans.fit_predict(y)"
      ],
      "execution_count": 58,
      "outputs": []
    },
    {
      "cell_type": "code",
      "metadata": {
        "colab": {
          "base_uri": "https://localhost:8080/"
        },
        "id": "NrhZwU765W_r",
        "outputId": "9b6fab00-9ca5-49cb-e3a4-ee9523ebd85e"
      },
      "source": [
        "kmeans.cluster_centers_"
      ],
      "execution_count": 59,
      "outputs": [
        {
          "output_type": "execute_result",
          "data": {
            "text/plain": [
              "array([[0.58049451, 0.34693806],\n",
              "       [0.30082418, 0.31060664],\n",
              "       [0.71345029, 0.69456074]])"
            ]
          },
          "metadata": {
            "tags": []
          },
          "execution_count": 59
        }
      ]
    },
    {
      "cell_type": "code",
      "metadata": {
        "colab": {
          "base_uri": "https://localhost:8080/"
        },
        "id": "xPpdlTEA5YWM",
        "outputId": "32ded9f9-3953-4893-eca2-40389fab15e9"
      },
      "source": [
        "kmeans.inertia_"
      ],
      "execution_count": 60,
      "outputs": [
        {
          "output_type": "execute_result",
          "data": {
            "text/plain": [
              "21.583812318197566"
            ]
          },
          "metadata": {
            "tags": []
          },
          "execution_count": 60
        }
      ]
    },
    {
      "cell_type": "code",
      "metadata": {
        "colab": {
          "base_uri": "https://localhost:8080/"
        },
        "id": "lzfjnT0l5Z3C",
        "outputId": "dcb00739-8a1c-476c-d9b8-4242e567a285"
      },
      "source": [
        "kmeans.n_iter_"
      ],
      "execution_count": 61,
      "outputs": [
        {
          "output_type": "execute_result",
          "data": {
            "text/plain": [
              "13"
            ]
          },
          "metadata": {
            "tags": []
          },
          "execution_count": 61
        }
      ]
    },
    {
      "cell_type": "code",
      "metadata": {
        "id": "01N7qF-Y5bRy"
      },
      "source": [
        "x1 = y[kmeans_label == 0 ][:,0]\r\n",
        "y1 = y[kmeans_label == 0 ][:,1]\r\n",
        "x2 = y[kmeans_label == 1 ][:,0]\r\n",
        "y2 = y[kmeans_label == 1 ][:,1]\r\n",
        "x3 = y[kmeans_label == 2 ][:,0]\r\n",
        "y3 = y[kmeans_label == 2 ][:,1]"
      ],
      "execution_count": 62,
      "outputs": []
    },
    {
      "cell_type": "code",
      "metadata": {
        "colab": {
          "base_uri": "https://localhost:8080/",
          "height": 405
        },
        "id": "cLGUloES5dYE",
        "outputId": "d6c51544-e2e6-4098-d085-ca2a3ff3713d"
      },
      "source": [
        "plt.figure(figsize=(10,6))\r\n",
        "plt.scatter(x1,y1,c='red',label =\"Cluster 1\" )\r\n",
        "plt.scatter(x2,y2,c='blue',label =\"Cluster 2\" )\r\n",
        "plt.scatter(x3,y3,c='green',label =\"Cluster 3\" )\r\n",
        "plt.scatter(kmeans.cluster_centers_[:,0],kmeans.cluster_centers_[:,1],c='yellow',label =\"Center\" )\r\n",
        "plt.xlabel('Top25perc')\r\n",
        "plt.ylabel('Outstate')\r\n",
        "plt.legend()"
      ],
      "execution_count": 63,
      "outputs": [
        {
          "output_type": "execute_result",
          "data": {
            "text/plain": [
              "<matplotlib.legend.Legend at 0x7f67748a19b0>"
            ]
          },
          "metadata": {
            "tags": []
          },
          "execution_count": 63
        },
        {
          "output_type": "display_data",
          "data": {
            "image/png": "[encoded data removed]",
            "text/plain": [
              "<Figure size 720x432 with 1 Axes>"
            ]
          },
          "metadata": {
            "tags": [],
            "needs_background": "light"
          }
        }
      ]
    },
    {
      "cell_type": "code",
      "metadata": {
        "id": "s5aqStWb5fFf"
      },
      "source": [
        "import scipy.cluster.hierarchy as sch"
      ],
      "execution_count": 64,
      "outputs": []
    },
    {
      "cell_type": "code",
      "metadata": {
        "colab": {
          "base_uri": "https://localhost:8080/",
          "height": 567
        },
        "id": "CJLMa2S75g8h",
        "outputId": "40224276-8815-4755-e51b-22e6ff45868f"
      },
      "source": [
        "plt.figure(figsize=[14,9])\r\n",
        "dendrogram = sch.dendrogram(sch.linkage(x,method = 'ward'))\r\n",
        "plt.title('Dendrogram')\r\n",
        "plt.xlabel('Apps, Accept')\r\n",
        "plt.ylabel('Euclidean distances')\r\n",
        "plt.xticks([])"
      ],
      "execution_count": 65,
      "outputs": [
        {
          "output_type": "execute_result",
          "data": {
            "text/plain": [
              "([], <a list of 0 Text major ticklabel objects>)"
            ]
          },
          "metadata": {
            "tags": []
          },
          "execution_count": 65
        },
        {
          "output_type": "display_data",
          "data": {
            "image/png": "[encoded data removed]",
            "text/plain": [
              "<Figure size 1008x648 with 1 Axes>"
            ]
          },
          "metadata": {
            "tags": [],
            "needs_background": "light"
          }
        }
      ]
    },
    {
      "cell_type": "code",
      "metadata": {
        "id": "T_GXguAk5itP"
      },
      "source": [
        "from sklearn.cluster import AgglomerativeClustering\r\n",
        "hc = AgglomerativeClustering(n_clusters= 3 ,affinity= 'euclidean',linkage='ward')\r\n",
        "predict_hc = hc.fit_predict(x)"
      ],
      "execution_count": 66,
      "outputs": []
    },
    {
      "cell_type": "code",
      "metadata": {
        "id": "hIKGUC615lAj"
      },
      "source": [
        "x1 = x[predict_hc == 0 ][:,0]\r\n",
        "y1 = x[predict_hc == 0 ][:,1]\r\n",
        "x2 = x[predict_hc == 1 ][:,0]\r\n",
        "y2 = x[predict_hc == 1 ][:,1]\r\n",
        "x3 = x[predict_hc == 2 ][:,0]\r\n",
        "y3 = x[predict_hc == 2 ][:,1]"
      ],
      "execution_count": 67,
      "outputs": []
    },
    {
      "cell_type": "code",
      "metadata": {
        "colab": {
          "base_uri": "https://localhost:8080/",
          "height": 405
        },
        "id": "5IZ3FKlA5mto",
        "outputId": "f81ff73e-9f6a-4eaa-addb-8beaad2b4216"
      },
      "source": [
        "plt.figure(figsize=(10,6))\r\n",
        "plt.scatter(x1,y1,c='red',label =\"Cluster 1\" )\r\n",
        "plt.scatter(x2,y2,c='blue',label =\"Cluster 2\" )\r\n",
        "plt.scatter(x3,y3,c='green',label =\"Cluster 3\" )\r\n",
        "plt.xlabel('Apps')\r\n",
        "plt.ylabel('Accept')\r\n",
        "plt.legend()"
      ],
      "execution_count": 68,
      "outputs": [
        {
          "output_type": "execute_result",
          "data": {
            "text/plain": [
              "<matplotlib.legend.Legend at 0x7f67741d4860>"
            ]
          },
          "metadata": {
            "tags": []
          },
          "execution_count": 68
        },
        {
          "output_type": "display_data",
          "data": {
            "image/png": "[encoded data removed]",
            "text/plain": [
              "<Figure size 720x432 with 1 Axes>"
            ]
          },
          "metadata": {
            "tags": [],
            "needs_background": "light"
          }
        }
      ]
    },
    {
      "cell_type": "code",
      "metadata": {
        "colab": {
          "base_uri": "https://localhost:8080/",
          "height": 567
        },
        "id": "GPZt6IbP5oxm",
        "outputId": "16810763-fa73-4219-f2d1-42f1e2eb0564"
      },
      "source": [
        "plt.figure(figsize=[14,9])\r\n",
        "dendrogram = sch.dendrogram(sch.linkage(y,method = 'ward'))\r\n",
        "plt.title('Dendrogram')\r\n",
        "plt.xlabel('Top25perc, Outstate')\r\n",
        "plt.ylabel('Euclidean distances')\r\n",
        "plt.xticks([])"
      ],
      "execution_count": 69,
      "outputs": [
        {
          "output_type": "execute_result",
          "data": {
            "text/plain": [
              "([], <a list of 0 Text major ticklabel objects>)"
            ]
          },
          "metadata": {
            "tags": []
          },
          "execution_count": 69
        },
        {
          "output_type": "display_data",
          "data": {
            "image/png": "[encoded data removed]",
            "text/plain": [
              "<Figure size 1008x648 with 1 Axes>"
            ]
          },
          "metadata": {
            "tags": [],
            "needs_background": "light"
          }
        }
      ]
    },
    {
      "cell_type": "code",
      "metadata": {
        "id": "YHJkRkQS5rAT"
      },
      "source": [
        "from sklearn.cluster import AgglomerativeClustering\r\n",
        "hc = AgglomerativeClustering(n_clusters= 3 ,affinity= 'euclidean',linkage='ward')\r\n",
        "predict_hc = hc.fit_predict(y)"
      ],
      "execution_count": 70,
      "outputs": []
    },
    {
      "cell_type": "code",
      "metadata": {
        "id": "QzfubGcW5s-s"
      },
      "source": [
        "x1 = y[kmeans_label == 0 ][:,0]\r\n",
        "y1 = y[kmeans_label == 0 ][:,1]\r\n",
        "x2 = y[kmeans_label == 1 ][:,0]\r\n",
        "y2 = y[kmeans_label == 1 ][:,1]\r\n",
        "x3 = y[kmeans_label == 2 ][:,0]\r\n",
        "y3 = y[kmeans_label == 2 ][:,1]"
      ],
      "execution_count": 71,
      "outputs": []
    },
    {
      "cell_type": "code",
      "metadata": {
        "colab": {
          "base_uri": "https://localhost:8080/",
          "height": 405
        },
        "id": "k5TJI-FE5ui8",
        "outputId": "c272e879-d7d4-4725-a3e0-5cfb5529ff95"
      },
      "source": [
        "plt.figure(figsize=(10,6))\r\n",
        "plt.scatter(x1,y1,c='red',label =\"Cluster 1\" )\r\n",
        "plt.scatter(x2,y2,c='blue',label =\"Cluster 2\" )\r\n",
        "plt.scatter(x3,y3,c='green',label =\"Cluster 3\" )\r\n",
        "plt.xlabel('Top25perc')\r\n",
        "plt.ylabel('Outstate')\r\n",
        "plt.legend()"
      ],
      "execution_count": 72,
      "outputs": [
        {
          "output_type": "execute_result",
          "data": {
            "text/plain": [
              "<matplotlib.legend.Legend at 0x7f6774821b70>"
            ]
          },
          "metadata": {
            "tags": []
          },
          "execution_count": 72
        },
        {
          "output_type": "display_data",
          "data": {
            "image/png": "[encoded data removed]",
            "text/plain": [
              "<Figure size 720x432 with 1 Axes>"
            ]
          },
          "metadata": {
            "tags": [],
            "needs_background": "light"
          }
        }
      ]
    }
  ]
}