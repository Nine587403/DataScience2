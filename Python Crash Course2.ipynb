{
 "cells": [
  {
   "cell_type": "code",
   "execution_count": null,
   "metadata": {},
   "outputs": [],
   "source": [
    "a = int(input('กรุณาใส่ข้อความ'))\n",
    "if(a==0):\n",
    "    print(\"เลขศูนย์\")\n",
    "elif(a%2!=0):\n",
    "    print(\"เลขคี่\")\n",
    "else:\n",
    "    print(\"เลขคู่\")"
   ]
  },
  {
   "cell_type": "code",
   "execution_count": null,
   "metadata": {},
   "outputs": [],
   "source": [
    "a = float(input('กรุณาใส่ข้อความ'))\n",
    "b = float(input('กรุณาใส่ข้อความ'))\n",
    "while b == 0:\n",
    "    b = float(input('กรุณาใส่ข้อความ'))\n",
    "total = a / b\n",
    "print (total)"
   ]
  },
  {
   "cell_type": "code",
   "execution_count": null,
   "metadata": {},
   "outputs": [],
   "source": [
    "a = float(input('Include Number : '))\n",
    "b = 0\n",
    "sum = a\n",
    "while a != 0 :\n",
    "    a = float(input('Include Number : '))\n",
    "    sum += a\n",
    "    b += 1\n",
    "print('sum : ',sum)\n",
    "print('number : ',b)\n",
    "print('average : ',sum/b)"
   ]
  },
  {
   "cell_type": "code",
   "execution_count": null,
   "metadata": {},
   "outputs": [],
   "source": [
    "a = int(input('input : '))\n",
    "if a%7 == 0 :\n",
    "    print('หาร 7 ลงตัว')\n",
    "else: \n",
    "    print('หาร 7 ไม่ลงตัว')"
   ]
  },
  {
   "cell_type": "code",
   "execution_count": null,
   "metadata": {},
   "outputs": [],
   "source": [
    "a = int(input('a : '))\n",
    "b = int(input('b : '))\n",
    "c = int(input('c : '))\n",
    "\n",
    "if (a+b+c == 180) and (a == 90 or b == 90 or c == 90):\n",
    "    print('สร้าง 3 เหลี่ยมมุมฉากได้')\n",
    "else: print('ไม่สามารถสร้างสามเหลี่ยมมุมฉากได้')"
   ]
  },
  {
   "cell_type": "code",
   "execution_count": null,
   "metadata": {},
   "outputs": [],
   "source": [
    "a = int(input('Include Number : '))\n",
    "b = int(input('Include Number : '))\n",
    "c = int(input('Include Number : '))\n",
    "\n",
    "if (a+b+c == 180) and (a < 90 and b < 90 and c < 90):\n",
    "    print('สามเหลี่ยมมุมแหลม')\n",
    "elif (a+b+c == 180) and (a > 90 or b > 90 or c > 90):\n",
    "    print('สามเหลี่ยมมุมป้าน')\n",
    "elif (a+b+c == 180) and (a == 90 or b == 90 or c == 90):\n",
    "    print('สามเหลี่ยมมุมฉาก')\n",
    "else: print('ไม่ใช่สามเหลี่ยม')"
   ]
  },
  {
   "cell_type": "code",
   "execution_count": null,
   "metadata": {},
   "outputs": [],
   "source": [
    "a = float(input('ครั้งที่ 1 : '))\n",
    "b = float(input('ครั้งที่ 2 : '))\n",
    "c = float(input('ครั้งที่ 3 : '))\n",
    "while a < 1000 or a > 5000 or \\\n",
    "      b < 1000 or b > 5000 or \\\n",
    "      c < 1000 or c > 5000 :\n",
    "    a = float(input('ครั้งที่ 1 : '))\n",
    "    b = float(input('ครั้งที่ 2 : '))\n",
    "    c = float(input('ครั้งที่ 3 : '))\n",
    "Sum = a+b+c\n",
    "if Sum > 6000 and Sum <= 12000:\n",
    "    print(Sum*0.85)\n",
    "elif Sum > 12000 :\n",
    "    print(Sum*0.75)\n",
    "else : print(Sum)\n"
   ]
  },
  {
   "cell_type": "code",
   "execution_count": null,
   "metadata": {},
   "outputs": [],
   "source": [
    "a = float(input('First : '))\n",
    "b = float(input('Second : '))\n",
    "c = float(input('Third : '))\n",
    "d = float(input('Fourth : '))\n",
    "while a < 1000 or a > 5000 or \\\n",
    "      b < 1000 or b > 5000 or \\\n",
    "      c < 1000 or c > 5000 or \\\n",
    "      d < 1000 or d > 5000 :\n",
    "    a = float(input('First : '))\n",
    "    b = float(input('Second : '))\n",
    "    c = float(input('Third : '))\n",
    "    d = float(input('Fourth : '))\n",
    "Total = a+b+c+d\n",
    "\n",
    "if Total > 6000 and Sum <= 12000:\n",
    "    print('Overall : ',Sum*0.85)\n",
    "elif Total > 12000 :\n",
    "    print('Overall : ',a+b+c+d*0.75)\n",
    "else : \n",
    "    print('Overall : ',Sum)"
   ]
  },
  {
   "cell_type": "code",
   "execution_count": null,
   "metadata": {},
   "outputs": [],
   "source": [
    "a = float(input('First : '))\n",
    "b = float(input('Second : '))\n",
    "c = float(input('Third : '))\n",
    "d = float(input('Fourth : '))\n",
    "while a < 1000 or a > 5000 or \\\n",
    "      b < 1000 or b > 5000 or \\\n",
    "      c < 1000 or c > 5000 or \\\n",
    "      d < 1000 or d > 5000 :\n",
    "    a = float(input('First : '))\n",
    "    b = float(input('Second : '))\n",
    "    c = float(input('Third : '))\n",
    "    d = float(input('Fourth : '))\n",
    "fourtimes = a+b+c+d\n",
    "threetimes = a+b+c\n",
    "if  threetimes > 4000 and threesome <= 9000:\n",
    "    print('fourtimes : ',Sum*0.75)\n",
    "elif threetimes > 9000 :\n",
    "    print('fourtimes : ',a+b+c+d*0.7)\n",
    "else : \n",
    "    print('fourtimes : ',Sum)"
   ]
  },
  {
   "cell_type": "code",
   "execution_count": null,
   "metadata": {},
   "outputs": [],
   "source": [
    "a = float(input('1th : '))\n",
    "b = float(input('2th : '))\n",
    "c = float(input('3th : '))\n",
    "d = float(input('4th : '))\n",
    "while a < 1000 or a > 5000 or \\\n",
    "      b < 1000 or b > 5000 or \\\n",
    "      c < 1000 or c > 5000 or \\\n",
    "      d < 1000 or d > 5000 :\n",
    "    a = float(input('1th : '))\n",
    "    b = float(input('2th : '))\n",
    "    c = float(input('3th : '))\n",
    "    d = float(input('4th : '))\n",
    "Sum1 = a+b+c+d\n",
    "Sum2 = a+b+c\n",
    "x = int(input('Do you have a credit card, if you have click 1 unless 0: '))\n",
    "\n",
    "if bool(x) == False :\n",
    "    if Sum1 > 4000 and Sum2 <= 9000:\n",
    "        print('total : ',Sum*0.75)\n",
    "    elif Sum2 > 9000 :\n",
    "        print('total : ',a+b+c+d*0.7)\n",
    "    else : \n",
    "        print('total : ',Sum)\n",
    "else : \n",
    "    if Sum2 > 4000 and tSum2<= 9000:\n",
    "        print('total: ',(Sum*0.75)*0.95)\n",
    "    elif Sum2 > 9000 :\n",
    "        print('total : ',(a+b+c+d*0.7)*0.95)\n",
    "    else : \n",
    "        print('total : ',Sum*0.95)"
   ]
  },
  {
   "cell_type": "code",
   "execution_count": null,
   "metadata": {},
   "outputs": [],
   "source": [
    "a = str(input('I am a beautiful girl : '))\n",
    "while len(a) < 7:\n",
    "    a = str(input('I am a beautiful girl : '))\n",
    "for i in a :\n",
    "    if i == i.upper():\n",
    "        print(i.lower())\n",
    "    elif i == i.lower():\n",
    "        print(i.upper())\n",
    "    else: print(i)"
   ]
  },
  {
   "cell_type": "code",
   "execution_count": null,
   "metadata": {},
   "outputs": [],
   "source": [
    "a = str(input('put someting here : '))\n",
    "b = str(input('put someting here : '))\n",
    "c = str(input('put someting here : '))\n",
    "d = str(input('put someting here : '))\n",
    "lst = [a, b, c, d]\n",
    "print('Max : ',max(lst))\n",
    "sorted(lst)\n",
    "for i in lst:\n",
    "    print(i)"
   ]
  },
  {
   "cell_type": "code",
   "execution_count": null,
   "metadata": {},
   "outputs": [],
   "source": [
    "a = int(input('Hours : '))\n",
    "b = int(input('Minutes : '))\n",
    "while a < 0 or a > 60 or \\\n",
    "      b < 0 or b > 60 :\n",
    "    print('Please input again')\n",
    "    a = int(input('Hours : '))\n",
    "    b = int(input('Minutes : '))\n",
    "print('Price : ', a*150+b*2)"
   ]
  },
  {
   "cell_type": "code",
   "execution_count": null,
   "metadata": {},
   "outputs": [],
   "source": [
    "a = int(input('Hours : '))\n",
    "b = int(input('Minutes : '))\n",
    "while a < 0 or a > 60 or \\\n",
    "      b < 0 or b > 60 :\n",
    "    print('Please input again')\n",
    "    a = int(input('Hours : '))\n",
    "    b = int(input('Minutes : '))\n",
    "if a == 0 :\n",
    "    print('Price : ', 0)\n",
    "elif a > 0 and b <= 15 :\n",
    "    print('Price : ', a*300)\n",
    "elif a > 0 and b > 15 :\n",
    "    print('Price : ', (a+1)*300)"
   ]
  },
  {
   "cell_type": "code",
   "execution_count": null,
   "metadata": {},
   "outputs": [],
   "source": [
    "a = int(input('Head : '))\n",
    "b = int(input('Legs : ')) \n",
    "c = (l-2*a)/2\n",
    "d = a-c\n",
    "print('cow : ', c)\n",
    "print('bird : ', d)\n",
    "if c >= 0 and d >= 0 and c%1 == 0 and b%1 == 0:\n",
    "    print('taxes : ', c*220+b*150)\n",
    "else: print('no need to pay taxes')"
   ]
  }
 ],
 "metadata": {
  "kernelspec": {
   "display_name": "Python 3",
   "language": "python",
   "name": "python3"
  },
  "language_info": {
   "codemirror_mode": {
    "name": "ipython",
    "version": 3
   },
   "file_extension": ".py",
   "mimetype": "text/x-python",
   "name": "python",
   "nbconvert_exporter": "python",
   "pygments_lexer": "ipython3",
   "version": "3.7.9"
  }
 },
 "nbformat": 4,
 "nbformat_minor": 4
}
