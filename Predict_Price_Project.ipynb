{
  "nbformat": 4,
  "nbformat_minor": 0,
  "metadata": {
    "colab": {
      "name": "Predict-Price-Project.ipynb",
      "provenance": [],
      "collapsed_sections": []
    },
    "kernelspec": {
      "name": "python3",
      "display_name": "Python 3"
    }
  },
  "cells": [
    {
      "cell_type": "code",
      "metadata": {
        "id": "-WiVUZeSeNSt"
      },
      "source": [
        "import numpy as np\r\n",
        "import pandas as pd\r\n",
        "import matplotlib.pyplot as plt"
      ],
      "execution_count": null,
      "outputs": []
    },
    {
      "cell_type": "code",
      "metadata": {
        "id": "bZjwv1c1eWJS"
      },
      "source": [
        "import time"
      ],
      "execution_count": null,
      "outputs": []
    },
    {
      "cell_type": "code",
      "metadata": {
        "id": "8Vd8siJOeXmC"
      },
      "source": [
        "import bs4 as bs\r\n",
        "import urllib.request"
      ],
      "execution_count": null,
      "outputs": []
    },
    {
      "cell_type": "code",
      "metadata": {
        "id": "MveZ9TrNebkh"
      },
      "source": [
        "def pull_info_from_Settrade(stockName):\r\n",
        "  data = stockName\r\n",
        "  data = []\r\n",
        "  for i in range (8):\r\n",
        "    url = f'https://www.settrade.com/C04_02_stock_historical_p1.jsp?txtSymbol={stockName}&selectPage=2&max=15&offset={i*15}'\r\n",
        "    source = urllib.request.urlopen(url).read()\r\n",
        "    soup = bs.BeautifulSoup(source,'lxml')\r\n",
        "    table = soup.table\r\n",
        "    table_rows = table.find_all('tr')\r\n",
        "    for tr in table_rows:\r\n",
        "      td = tr.find_all('td')\r\n",
        "      row = [i.text for i in td]\r\n",
        "    #print(row)\r\n",
        "      data.append(row)\r\n",
        "  return data"
      ],
      "execution_count": null,
      "outputs": []
    },
    {
      "cell_type": "code",
      "metadata": {
        "id": "O7aX7CGLedPF"
      },
      "source": [
        "def pull_info_from_web(urlName):\r\n",
        "  url = urlName\r\n",
        "  source = urllib.request.urlopen(url).read()\r\n",
        "  soup = bs.BeautifulSoup(source,'lxml')\r\n",
        "  table = soup.table\r\n",
        "  table_rows = table.find_all('tr')\r\n",
        "  for tr in table_rows:\r\n",
        "    td = tr.find_all('td')\r\n",
        "    row = [i.text for i in td]\r\n",
        "  return row"
      ],
      "execution_count": null,
      "outputs": []
    },
    {
      "cell_type": "code",
      "metadata": {
        "id": "w3Rh3JlkeftW"
      },
      "source": [
        "urlName = 'https://www.investing.com/commodities/gold-historical-data'"
      ],
      "execution_count": null,
      "outputs": []
    },
    {
      "cell_type": "code",
      "metadata": {
        "colab": {
          "base_uri": "https://localhost:8080/"
        },
        "id": "NkjD5c3Ifjgm",
        "outputId": "922bed32-6c75-4013-851e-91e7eed667ee"
      },
      "source": [
        "t0 = time.time()\r\n",
        "#stock_list = ['scc','cpall','advanc','kbank','ptt','aot']\r\n",
        "scc = pull_info_from_Settrade('scc')\r\n",
        "cpall = pull_info_from_Settrade('cpall')\r\n",
        "advanc = pull_info_from_Settrade('advanc')\r\n",
        "kbank = pull_info_from_Settrade('kbank')\r\n",
        "ptt = pull_info_from_Settrade('ptt')\r\n",
        "aot = pull_info_from_Settrade('aot')\r\n",
        "print(time.time() - t0)"
      ],
      "execution_count": null,
      "outputs": [
        {
          "output_type": "stream",
          "text": [
            "431.3233971595764\n"
          ],
          "name": "stdout"
        }
      ]
    },
    {
      "cell_type": "code",
      "metadata": {
        "id": "o0mrlh4hflqF"
      },
      "source": [
        "def createDataFrame(data):\r\n",
        "  df = pd.DataFrame(data,columns=['date','open','high','low','avg_price','close','change','%change','volume(x1000)','value(MB)','setIndex','%change'])\r\n",
        "  df = df.mask(df.eq('None')).dropna() \r\n",
        "  #df['date'] = pd.to_datetime(df.date,format='%Y%m%d')\r\n",
        "  df = df.set_index('date')\r\n",
        "\r\n",
        "  for i in range (11):\r\n",
        "    df.iloc[:,i] = df.iloc[:,i].str.replace('[^\\d\\.]','').astype('float')\r\n",
        "  df = df.apply(pd.to_numeric)\r\n",
        "\r\n",
        "  return df\r\n",
        "\r\n",
        "def trim_X(df):\r\n",
        "  df = df.iloc[:,[4]]\r\n",
        "  return df\r\n",
        "\r\n",
        "def trim_y(df):\r\n",
        "  df = df.iloc[:,[9]]\r\n",
        "  return df\r\n",
        "\r\n",
        "def createandTrimX(data):\r\n",
        "  df = createDataFrame(data)\r\n",
        "  X = trim_X(df)\r\n",
        "  return X\r\n",
        "\r\n",
        "def createandTrimy(data):\r\n",
        "  df = createDataFrame(data)\r\n",
        "  y = trim_y(df)\r\n",
        "  return y"
      ],
      "execution_count": null,
      "outputs": []
    },
    {
      "cell_type": "code",
      "metadata": {
        "id": "JXlDYNH7fqox"
      },
      "source": [
        "df_scc = createandTrimX(scc)\r\n",
        "y = createandTrimy(scc)\r\n",
        "df_cpall = createandTrimX(cpall)\r\n",
        "df_advanc = createandTrimX(advanc)\r\n",
        "df_kbank = createandTrimX(kbank)\r\n",
        "df_ptt = createandTrimX(ptt)\r\n",
        "df_aot = createandTrimX(aot)"
      ],
      "execution_count": null,
      "outputs": []
    },
    {
      "cell_type": "code",
      "metadata": {
        "id": "lVUrYHETfsrd"
      },
      "source": [
        "df_scc.rename(columns={'close':'scc'},inplace=True)\r\n",
        "df_cpall.rename(columns={'close':'cpall'},inplace=True)\r\n",
        "df_advanc.rename(columns={'close':'advanc'},inplace=True)\r\n",
        "df_kbank.rename(columns={'close':'kbank'},inplace=True)\r\n",
        "df_ptt.rename(columns={'close':'ptt'},inplace=True)\r\n",
        "df_aot.rename(columns={'close':'aot'},inplace=True)"
      ],
      "execution_count": null,
      "outputs": []
    },
    {
      "cell_type": "code",
      "metadata": {
        "id": "Q7apKRAmfuSE"
      },
      "source": [
        "listofStock = [df_scc,df_cpall,df_advanc,df_kbank,df_ptt,df_aot]\r\n",
        "X = pd.concat(listofStock, axis=1, sort=False)"
      ],
      "execution_count": null,
      "outputs": []
    },
    {
      "cell_type": "code",
      "metadata": {
        "colab": {
          "base_uri": "https://localhost:8080/",
          "height": 446
        },
        "id": "3Ci4M-9YfxlF",
        "outputId": "3ac863ec-8f9c-4bf6-d988-ce67e0e8f7bd"
      },
      "source": [
        "X"
      ],
      "execution_count": null,
      "outputs": [
        {
          "output_type": "execute_result",
          "data": {
            "text/html": [
              "<div>\n",
              "<style scoped>\n",
              "    .dataframe tbody tr th:only-of-type {\n",
              "        vertical-align: middle;\n",
              "    }\n",
              "\n",
              "    .dataframe tbody tr th {\n",
              "        vertical-align: top;\n",
              "    }\n",
              "\n",
              "    .dataframe thead th {\n",
              "        text-align: right;\n",
              "    }\n",
              "</style>\n",
              "<table border=\"1\" class=\"dataframe\">\n",
              "  <thead>\n",
              "    <tr style=\"text-align: right;\">\n",
              "      <th></th>\n",
              "      <th>scc</th>\n",
              "      <th>cpall</th>\n",
              "      <th>advanc</th>\n",
              "      <th>kbank</th>\n",
              "      <th>ptt</th>\n",
              "      <th>aot</th>\n",
              "    </tr>\n",
              "    <tr>\n",
              "      <th>date</th>\n",
              "      <th></th>\n",
              "      <th></th>\n",
              "      <th></th>\n",
              "      <th></th>\n",
              "      <th></th>\n",
              "      <th></th>\n",
              "    </tr>\n",
              "  </thead>\n",
              "  <tbody>\n",
              "    <tr>\n",
              "      <th>22/12/20</th>\n",
              "      <td>372.0</td>\n",
              "      <td>59.75</td>\n",
              "      <td>178.5</td>\n",
              "      <td>115.00</td>\n",
              "      <td>41.25</td>\n",
              "      <td>62.25</td>\n",
              "    </tr>\n",
              "    <tr>\n",
              "      <th>21/12/20</th>\n",
              "      <td>370.0</td>\n",
              "      <td>59.75</td>\n",
              "      <td>177.5</td>\n",
              "      <td>110.00</td>\n",
              "      <td>40.50</td>\n",
              "      <td>62.25</td>\n",
              "    </tr>\n",
              "    <tr>\n",
              "      <th>18/12/20</th>\n",
              "      <td>384.0</td>\n",
              "      <td>62.00</td>\n",
              "      <td>187.5</td>\n",
              "      <td>119.00</td>\n",
              "      <td>42.75</td>\n",
              "      <td>65.00</td>\n",
              "    </tr>\n",
              "    <tr>\n",
              "      <th>17/12/20</th>\n",
              "      <td>386.0</td>\n",
              "      <td>62.50</td>\n",
              "      <td>189.0</td>\n",
              "      <td>121.50</td>\n",
              "      <td>42.25</td>\n",
              "      <td>66.00</td>\n",
              "    </tr>\n",
              "    <tr>\n",
              "      <th>16/12/20</th>\n",
              "      <td>389.0</td>\n",
              "      <td>62.75</td>\n",
              "      <td>188.0</td>\n",
              "      <td>120.50</td>\n",
              "      <td>42.50</td>\n",
              "      <td>67.00</td>\n",
              "    </tr>\n",
              "    <tr>\n",
              "      <th>...</th>\n",
              "      <td>...</td>\n",
              "      <td>...</td>\n",
              "      <td>...</td>\n",
              "      <td>...</td>\n",
              "      <td>...</td>\n",
              "      <td>...</td>\n",
              "    </tr>\n",
              "    <tr>\n",
              "      <th>30/06/20</th>\n",
              "      <td>368.0</td>\n",
              "      <td>67.75</td>\n",
              "      <td>185.0</td>\n",
              "      <td>93.25</td>\n",
              "      <td>37.75</td>\n",
              "      <td>60.50</td>\n",
              "    </tr>\n",
              "    <tr>\n",
              "      <th>29/06/20</th>\n",
              "      <td>365.0</td>\n",
              "      <td>67.75</td>\n",
              "      <td>187.0</td>\n",
              "      <td>92.75</td>\n",
              "      <td>37.25</td>\n",
              "      <td>59.25</td>\n",
              "    </tr>\n",
              "    <tr>\n",
              "      <th>26/06/20</th>\n",
              "      <td>368.0</td>\n",
              "      <td>67.50</td>\n",
              "      <td>186.0</td>\n",
              "      <td>91.00</td>\n",
              "      <td>37.00</td>\n",
              "      <td>59.00</td>\n",
              "    </tr>\n",
              "    <tr>\n",
              "      <th>25/06/20</th>\n",
              "      <td>361.0</td>\n",
              "      <td>66.25</td>\n",
              "      <td>187.5</td>\n",
              "      <td>92.25</td>\n",
              "      <td>37.25</td>\n",
              "      <td>59.00</td>\n",
              "    </tr>\n",
              "    <tr>\n",
              "      <th>24/06/20</th>\n",
              "      <td>353.0</td>\n",
              "      <td>67.25</td>\n",
              "      <td>188.0</td>\n",
              "      <td>90.25</td>\n",
              "      <td>37.50</td>\n",
              "      <td>59.75</td>\n",
              "    </tr>\n",
              "  </tbody>\n",
              "</table>\n",
              "<p>119 rows × 6 columns</p>\n",
              "</div>"
            ],
            "text/plain": [
              "            scc  cpall  advanc   kbank    ptt    aot\n",
              "date                                                \n",
              "22/12/20  372.0  59.75   178.5  115.00  41.25  62.25\n",
              "21/12/20  370.0  59.75   177.5  110.00  40.50  62.25\n",
              "18/12/20  384.0  62.00   187.5  119.00  42.75  65.00\n",
              "17/12/20  386.0  62.50   189.0  121.50  42.25  66.00\n",
              "16/12/20  389.0  62.75   188.0  120.50  42.50  67.00\n",
              "...         ...    ...     ...     ...    ...    ...\n",
              "30/06/20  368.0  67.75   185.0   93.25  37.75  60.50\n",
              "29/06/20  365.0  67.75   187.0   92.75  37.25  59.25\n",
              "26/06/20  368.0  67.50   186.0   91.00  37.00  59.00\n",
              "25/06/20  361.0  66.25   187.5   92.25  37.25  59.00\n",
              "24/06/20  353.0  67.25   188.0   90.25  37.50  59.75\n",
              "\n",
              "[119 rows x 6 columns]"
            ]
          },
          "metadata": {
            "tags": []
          },
          "execution_count": 12
        }
      ]
    },
    {
      "cell_type": "code",
      "metadata": {
        "colab": {
          "base_uri": "https://localhost:8080/"
        },
        "id": "J-RXWaRBfyLt",
        "outputId": "94a76b3c-d124-4c6e-fbab-ab445d460b2d"
      },
      "source": [
        "X.shape[1]"
      ],
      "execution_count": null,
      "outputs": [
        {
          "output_type": "execute_result",
          "data": {
            "text/plain": [
              "6"
            ]
          },
          "metadata": {
            "tags": []
          },
          "execution_count": 13
        }
      ]
    },
    {
      "cell_type": "code",
      "metadata": {
        "colab": {
          "base_uri": "https://localhost:8080/",
          "height": 615
        },
        "id": "jckXgh6Vf0db",
        "outputId": "a515c400-844c-4134-eecb-6e3c0dc241f9"
      },
      "source": [
        "plt.figure(figsize=(20, 10));\r\n",
        "\r\n",
        "plt.plot(X.iloc[:,0].values, color='red', label='scc')\r\n",
        "plt.plot(X.iloc[:,1].values, color='green', label='cpall')\r\n",
        "plt.plot(X.iloc[:,2].values, color='blue', label='advanc')\r\n",
        "plt.plot(X.iloc[:,3].values, color='black', label='kbank')\r\n",
        "plt.plot(X.iloc[:,4].values, color='yellow', label='ptt')\r\n",
        "plt.plot(X.iloc[:,5].values, color='m', label='aot')\r\n",
        "plt.title('stock price')\r\n",
        "plt.xlabel('time [days]')\r\n",
        "plt.ylabel('price Baht')\r\n",
        "plt.xticks(rotation=0)\r\n",
        "plt.legend(loc='best')\r\n",
        "plt.show()\r\n"
      ],
      "execution_count": null,
      "outputs": [
        {
          "output_type": "display_data",
          "data": {
            "image/png": "[encoded data removed]",
            "text/plain": [
              "<Figure size 1440x720 with 1 Axes>"
            ]
          },
          "metadata": {
            "tags": [],
            "needs_background": "light"
          }
        }
      ]
    },
    {
      "cell_type": "code",
      "metadata": {
        "colab": {
          "base_uri": "https://localhost:8080/",
          "height": 612
        },
        "id": "sCbdb6Inf2Av",
        "outputId": "9571b72f-0a89-4987-e747-5a9d7efcfcba"
      },
      "source": [
        "plt.figure(figsize=(20, 10));\r\n",
        "plt.plot(y.values, color='black', label='set index')\r\n",
        "plt.title('set index')\r\n",
        "plt.xlabel('time ,days')\r\n",
        "plt.ylabel('set index')\r\n",
        "plt.legend(loc='best');"
      ],
      "execution_count": null,
      "outputs": [
        {
          "output_type": "display_data",
          "data": {
            "image/png": "[encoded data removed]",
            "text/plain": [
              "<Figure size 1440x720 with 1 Axes>"
            ]
          },
          "metadata": {
            "tags": [],
            "needs_background": "light"
          }
        }
      ]
    },
    {
      "cell_type": "code",
      "metadata": {
        "id": "M1j_Rz0gf5CP"
      },
      "source": [
        "X_train = X.iloc[:X.shape[0]-20,:].values\r\n",
        "X_test = X.iloc[X.shape[0]-20:,:].values\r\n",
        "y_train = y.iloc[:y.shape[0]-20,:].values\r\n",
        "y_test = y.iloc[y.shape[0]-20:,:].values"
      ],
      "execution_count": null,
      "outputs": []
    },
    {
      "cell_type": "code",
      "metadata": {
        "colab": {
          "base_uri": "https://localhost:8080/"
        },
        "id": "FUO7qzyAf7bG",
        "outputId": "458ba9f2-acd8-4cbe-919b-0abc035bc85d"
      },
      "source": [
        "X_train.shape"
      ],
      "execution_count": null,
      "outputs": [
        {
          "output_type": "execute_result",
          "data": {
            "text/plain": [
              "(99, 6)"
            ]
          },
          "metadata": {
            "tags": []
          },
          "execution_count": 17
        }
      ]
    },
    {
      "cell_type": "code",
      "metadata": {
        "colab": {
          "base_uri": "https://localhost:8080/"
        },
        "id": "KiKQhDdef-zX",
        "outputId": "b85d26fe-f51b-4cf6-d9c3-f2c141c455e9"
      },
      "source": [
        "X_test.shape"
      ],
      "execution_count": null,
      "outputs": [
        {
          "output_type": "execute_result",
          "data": {
            "text/plain": [
              "(20, 6)"
            ]
          },
          "metadata": {
            "tags": []
          },
          "execution_count": 18
        }
      ]
    },
    {
      "cell_type": "code",
      "metadata": {
        "colab": {
          "base_uri": "https://localhost:8080/"
        },
        "id": "QEvJR6QFgAMI",
        "outputId": "dcde1065-6a58-4aca-b854-42be72a1ef9a"
      },
      "source": [
        "X_train.shape"
      ],
      "execution_count": null,
      "outputs": [
        {
          "output_type": "execute_result",
          "data": {
            "text/plain": [
              "(99, 6)"
            ]
          },
          "metadata": {
            "tags": []
          },
          "execution_count": 19
        }
      ]
    },
    {
      "cell_type": "code",
      "metadata": {
        "colab": {
          "base_uri": "https://localhost:8080/"
        },
        "id": "bofX2lCmgAqN",
        "outputId": "88d979d4-0e5e-4c6a-d599-0fde76336332"
      },
      "source": [
        "y_train.shape"
      ],
      "execution_count": null,
      "outputs": [
        {
          "output_type": "execute_result",
          "data": {
            "text/plain": [
              "(99, 1)"
            ]
          },
          "metadata": {
            "tags": []
          },
          "execution_count": 20
        }
      ]
    },
    {
      "cell_type": "code",
      "metadata": {
        "id": "2GffN4FBgCt9"
      },
      "source": [
        "import keras\r\n",
        "\r\n",
        "from keras.models import Sequential\r\n",
        "from keras.layers import Dense\r\n",
        "from keras.layers import LSTM\r\n",
        "from keras.layers import Dropout\r\n",
        "from keras.layers import *\r\n",
        "from sklearn.preprocessing import MinMaxScaler\r\n",
        "from sklearn.metrics import mean_squared_error\r\n",
        "from sklearn.metrics import mean_absolute_error\r\n",
        "from sklearn.model_selection import train_test_split\r\n",
        "from keras.callbacks import EarlyStopping"
      ],
      "execution_count": null,
      "outputs": []
    },
    {
      "cell_type": "code",
      "metadata": {
        "id": "9lxCeBD6gFoQ"
      },
      "source": [
        "sc = MinMaxScaler(feature_range = (0, 1))\r\n",
        "X_train = sc.fit_transform(X_train)\r\n",
        "X_test = sc.fit_transform(X_test)\r\n",
        "\r\n",
        "X_train, y_train = np.array(X_train), np.array(y_train)\r\n",
        "X_train = np.reshape(X_train, (X_train.shape[0], X_train.shape[1], 1))\r\n",
        "\r\n",
        "X_test, y_test = np.array(X_test), np.array(y_test)\r\n",
        "X_test = np.reshape(X_test, (X_test.shape[0], X_test.shape[1], 1))"
      ],
      "execution_count": null,
      "outputs": []
    },
    {
      "cell_type": "code",
      "metadata": {
        "colab": {
          "base_uri": "https://localhost:8080/"
        },
        "id": "73KEi0kngHRe",
        "outputId": "fcaa3094-c014-45af-88c7-9edd750f7a15"
      },
      "source": [
        "X_train.shape"
      ],
      "execution_count": null,
      "outputs": [
        {
          "output_type": "execute_result",
          "data": {
            "text/plain": [
              "(99, 6, 1)"
            ]
          },
          "metadata": {
            "tags": []
          },
          "execution_count": 23
        }
      ]
    },
    {
      "cell_type": "code",
      "metadata": {
        "colab": {
          "base_uri": "https://localhost:8080/"
        },
        "id": "PSmu-1fugJCW",
        "outputId": "3c1649f7-8738-43e8-f0c7-05b157c84cec"
      },
      "source": [
        "y_train.shape"
      ],
      "execution_count": null,
      "outputs": [
        {
          "output_type": "execute_result",
          "data": {
            "text/plain": [
              "(99, 1)"
            ]
          },
          "metadata": {
            "tags": []
          },
          "execution_count": 24
        }
      ]
    },
    {
      "cell_type": "code",
      "metadata": {
        "colab": {
          "base_uri": "https://localhost:8080/"
        },
        "id": "DdcX0On2gLXe",
        "outputId": "d16af1bb-10a4-4636-af4e-956ecbdc076d"
      },
      "source": [
        "model = Sequential()\r\n",
        "model.add(LSTM(units = 1024, return_sequences = True, input_shape = (X_train.shape[1], 1)))\r\n",
        "model.add(Dropout(0.2))\r\n",
        "model.add(LSTM(units = 1024, return_sequences = True))\r\n",
        "model.add(Dropout(0.2))\r\n",
        "model.add(LSTM(units = 1024, return_sequences = True))\r\n",
        "model.add(Dropout(0.2))\r\n",
        "model.add(LSTM(units = 1024))\r\n",
        "model.add(Dropout(0.2))\r\n",
        "model.add(Dense(units = 1))\r\n",
        "\r\n",
        "\r\n",
        "model.compile(optimizer = 'adam', loss = 'mean_squared_error')\r\n",
        "\r\n",
        "\r\n",
        "history = model.fit(X_train, y_train, epochs = 350, batch_size = 8,validation_data=(X_test,y_test))"
      ],
      "execution_count": null,
      "outputs": [
        {
          "output_type": "stream",
          "text": [
            "Epoch 1/350\n",
            "13/13 [==============================] - 25s 1s/step - loss: 1728881.0893 - val_loss: 1699534.3750\n",
            "Epoch 2/350\n",
            "13/13 [==============================] - 18s 1s/step - loss: 1590941.7054 - val_loss: 1664634.0000\n",
            "Epoch 3/350\n",
            "13/13 [==============================] - 18s 1s/step - loss: 1600699.6250 - val_loss: 1629646.3750\n",
            "Epoch 4/350\n",
            " 9/13 [===================>..........] - ETA: 5s - loss: 1539277.0694"
          ],
          "name": "stdout"
        }
      ]
    },
    {
      "cell_type": "code",
      "metadata": {
        "id": "kyK_Y6bLgOXg"
      },
      "source": [
        "plt.plot(history.history['loss'])\r\n",
        "plt.plot(history.history['val_loss'])\r\n",
        "plt.title('Model loss')\r\n",
        "plt.ylabel('loss')\r\n",
        "plt.xlabel('epoch')\r\n",
        "plt.legend(['train', 'val'], loc='lower left')\r\n",
        "plt.show()"
      ],
      "execution_count": null,
      "outputs": []
    },
    {
      "cell_type": "code",
      "metadata": {
        "id": "ZnagYV3JgS6h"
      },
      "source": [
        "y_predict = model.predict(X_test)"
      ],
      "execution_count": null,
      "outputs": []
    },
    {
      "cell_type": "code",
      "metadata": {
        "id": "CwI4GQrpgUyH"
      },
      "source": [
        "plt.figure(figsize=(10, 5))\r\n",
        "plt.plot(y_test, color='blue', label='Set Index')\r\n",
        "plt.plot(y_predict, color='black', label='Set Index Predict by 6 stocks')\r\n",
        "plt.title('Predict')\r\n",
        "plt.xlabel('Time ,days')\r\n",
        "plt.ylabel('set index')\r\n",
        "plt.legend(loc='best')"
      ],
      "execution_count": null,
      "outputs": []
    },
    {
      "cell_type": "code",
      "metadata": {
        "id": "JHV0vysugXsw"
      },
      "source": [
        "y_ = y.reset_index()"
      ],
      "execution_count": null,
      "outputs": []
    },
    {
      "cell_type": "code",
      "metadata": {
        "id": "2FAOwf-tgZ_W"
      },
      "source": [
        "training_set = y_.iloc[:120-20,[1]]\r\n",
        "testing_set = y_.iloc[120-20:, [1]]"
      ],
      "execution_count": null,
      "outputs": []
    },
    {
      "cell_type": "code",
      "metadata": {
        "id": "5DTJ65_XgbSV"
      },
      "source": [
        "training_set.shape"
      ],
      "execution_count": null,
      "outputs": []
    },
    {
      "cell_type": "code",
      "metadata": {
        "id": "OYRM_MQ0gdAJ"
      },
      "source": [
        "sc_ = MinMaxScaler(feature_range = (0, 1))\r\n",
        "training_set_scaled = sc_.fit_transform(training_set)\r\n",
        "\r\n",
        "train_X = []\r\n",
        "train_y = []\r\n",
        "\r\n",
        "for i in range(5, 100):\r\n",
        "  train_X.append(training_set_scaled[i-5:i, 0])\r\n",
        "  train_y.append(training_set_scaled[i, 0])\r\n",
        "train_X, train_y = np.array(train_X), np.array(train_y)\r\n",
        "train_X = np.reshape(train_X, (train_X.shape[0], train_X.shape[1], 1))"
      ],
      "execution_count": null,
      "outputs": []
    },
    {
      "cell_type": "code",
      "metadata": {
        "id": "6kY_bFKQgfMG"
      },
      "source": [
        "train_X.shape"
      ],
      "execution_count": null,
      "outputs": []
    },
    {
      "cell_type": "code",
      "metadata": {
        "id": "NYLHrw_hgglW"
      },
      "source": [
        "train_y.shape"
      ],
      "execution_count": null,
      "outputs": []
    },
    {
      "cell_type": "code",
      "metadata": {
        "id": "Z_MKFNu0ghqV"
      },
      "source": [
        "dataset_train = y.iloc[:100, :]\r\n",
        "dataset_test = y.iloc[100:, :]\r\n",
        "dataset_total = pd.concat((dataset_train, dataset_test), axis = 0)\r\n",
        "inputs = dataset_total[len(dataset_total) - len(dataset_test) - 5:].values\r\n",
        "inputs = inputs.reshape(-1,1)\r\n",
        "\r\n",
        "inputs = sc_.fit_transform(inputs)\r\n",
        "#inputs = sc.transform(inputs)\r\n",
        "test_X = []\r\n",
        "test_y = []\r\n",
        "for i in range(5, 25):\r\n",
        "    test_X.append(inputs[i-5:i, 0])\r\n",
        "    test_y.append(inputs[i, 0])\r\n",
        "test_X,test_y = np.array(test_X),np.array(test_y)\r\n",
        "test_X = np.reshape(test_X, (test_X.shape[0], test_X.shape[1], 1))\r\n",
        "print(test_X.shape)"
      ],
      "execution_count": null,
      "outputs": []
    },
    {
      "cell_type": "code",
      "metadata": {
        "id": "Pu_LzvN0gkNA"
      },
      "source": [
        "inputs.shape"
      ],
      "execution_count": null,
      "outputs": []
    },
    {
      "cell_type": "code",
      "metadata": {
        "id": "ZRm61XO8gmSu"
      },
      "source": [
        "test_X.shape"
      ],
      "execution_count": null,
      "outputs": []
    },
    {
      "cell_type": "code",
      "metadata": {
        "id": "3m7Z_gpVgnsU"
      },
      "source": [
        "model_.add(LSTM(units = 1024, return_sequences = True, input_shape = (train_X.shape[1], 1)))\r\n",
        "model_.add(Dropout(0.2))\r\n",
        "model_.add(LSTM(units = 1024, return_sequences = True))\r\n",
        "model_.add(Dropout(0.2))\r\n",
        "model_.add(LSTM(units = 1024, return_sequences = True))\r\n",
        "model_.add(Dropout(0.2))\r\n",
        "model_.add(LSTM(units = 1024))\r\n",
        "model_.add(Dropout(0.2))\r\n",
        "model_.add(Dense(units = 1))\r\n",
        "\r\n",
        "model_.compile(optimizer = 'adam', loss = 'mean_squared_error')\r\n",
        "\r\n",
        "hist = model_.fit(train_X, train_y, epochs = 350, batch_size = 8,validation_data=(test_X,test_y))"
      ],
      "execution_count": null,
      "outputs": []
    },
    {
      "cell_type": "code",
      "metadata": {
        "id": "6-kLgn-Ggq4x"
      },
      "source": [
        "plt.plot(hist.history['loss'])\r\n",
        "plt.plot(hist.history['val_loss'])\r\n",
        "plt.title('Model loss')\r\n",
        "plt.ylabel('loss')\r\n",
        "plt.xlabel('epoch')\r\n",
        "plt.legend(['train', 'val'], loc='lower left')\r\n",
        "plt.show()"
      ],
      "execution_count": null,
      "outputs": []
    },
    {
      "cell_type": "code",
      "metadata": {
        "id": "LIOEWWGsgwef"
      },
      "source": [
        "predict_y = model_.predict(test_X)\r\n",
        "predict_y = sc_.inverse_transform(predict_y)"
      ],
      "execution_count": null,
      "outputs": []
    },
    {
      "cell_type": "code",
      "metadata": {
        "id": "gXgmOQ4igygi"
      },
      "source": [
        "plt.figure(figsize=(20, 15))\r\n",
        "plt.plot(y_test, color='blue', label='Set Index')\r\n",
        "plt.plot(predict_y, color='red',  label='Set Index Predict by with 5 time-steps ')\r\n",
        "plt.plot(y_predict, color='black', label='Set Index predict by 6 stocks')\r\n",
        "plt.title('Predict')\r\n",
        "plt.xlabel('Time ,days')\r\n",
        "plt.ylabel('set index')\r\n",
        "plt.legend(loc='best')"
      ],
      "execution_count": null,
      "outputs": []
    }
  ]
}